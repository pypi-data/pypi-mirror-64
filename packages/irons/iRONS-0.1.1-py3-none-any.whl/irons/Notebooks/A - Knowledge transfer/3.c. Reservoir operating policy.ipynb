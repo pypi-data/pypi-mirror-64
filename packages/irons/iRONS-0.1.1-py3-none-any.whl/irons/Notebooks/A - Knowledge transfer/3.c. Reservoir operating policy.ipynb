{
 "cells": [
  {
   "cell_type": "markdown",
   "metadata": {
    "slideshow": {
     "slide_type": "-"
    }
   },
   "source": [
    "# Reservoir operating policy - optimising the release policy\n",
    "In this Notebook we will see how operating policy functions, together with simulation models and optimisation algorithms, can be used to assist the **long-term operation** of a water reservoir system. In order to avoid confusion, we define the operating policy as a function that can be used to determine the release conditional on the state of the reservoir system in the current time-step. In other words, rather than a release scheduling, the operating policy returns a strategy for making release decisions ([Dobson et al, 2019](https://doi.org/10.1016/j.advwatres.2019.04.012)).\n",
    "\n",
    "<left><img src=\"../../util/images/Dam3.gif\" width = \"500px\"><left>"
   ]
  },
  {
   "cell_type": "markdown",
   "metadata": {},
   "source": [
    "Once again we consider a simple illustrative system where a reservoir is operated to supply water to a domestic consumption node, while ensuring a minimum environmental flow in the downstream river (also called “environmental compensation flow”) and maintaining the water level in the reservoir within prescribed limits. We use a mathematical model to link all the key variables that represent the reservoir dynamics (inflow, storage and outflows) and use model simulation/optimisation to determine the reservoir **release policy** that given the historical inflows and water demand over the last years optimizes the **long-term** (several years) system performance.\n",
    "<left> <img src=\"../../util/images/system_representation_IO1.png\" width = \"600px\"><left>\n",
    "\n",
    "In long-term operation, reservoir release policies are often defined in the form of \"**policy functions**\" [(Loucks et al., 1981)](https://link.springer.com/book/10.1007/978-3-319-44234-1). A policy function generally defines a release value for a given value of storage. Usually higher storage values are associated to higher releases, e.g. for flood control purposes, and \n",
    "viceversa, e.g. if the storage is low, then less water is released to reduce the risk of future water shortages. Policy functions generally do not change from one year to the next but may vary depending on the time of year. Policy functions are typically derived from trial and error simulations that evaluate the impact of different policies on various reservoir system objectives.\n",
    "<left><img src=\"../../util/images/Policy_function.png\" width = \"400px\"><left>"
   ]
  },
  {
   "cell_type": "markdown",
   "metadata": {},
   "source": [
    "## Import libraries\n",
    "To run this Notebook we need to import some necessary libraries. **Only if iRONs is run locally**: since one required library, [plotly](https://plot.ly/), is not available on Anaconda by default, you must have installed it first. Help on how to install libraries is given here: [How to install libraries](../0%20-%20Tutorials/0.b%20-%20How%20to%20install%20libraries.ipynb). If iRONs is run on the cloud, e.g. on [Binder](https://mybinder.org/) or [Microsoft Azure Notebooks](https://notebooks.azure.com/), we do not need to install the libraries to import them. \n",
    "\n",
    "Once all the necessary libraries are installed locally or in case we are running iRONs on the cloud, we import the libraries with the following code:"
   ]
  },
  {
   "cell_type": "code",
   "execution_count": 1,
   "metadata": {},
   "outputs": [],
   "source": [
    "from bqplot import pyplot as plt\n",
    "from bqplot import *\n",
    "from bqplot.traits import *\n",
    "import numpy as np\n",
    "import ipywidgets as widgets\n",
    "from IPython.display import display\n",
    "from platypus import NSGAII, Problem, Real, Integer # Import the optimizer"
   ]
  },
  {
   "cell_type": "markdown",
   "metadata": {},
   "source": [
    "## Policy function\n",
    "In this notebook we will generate a policy function for the regulated releases of the reservoir. Weekly release is scaled as a fraction of the long-term (five years or more) mean release (u_mean) while storage is scaled by the reservoir active capacity (0 at dead storage and 1 for full storage)"
   ]
  },
  {
   "cell_type": "code",
   "execution_count": 2,
   "metadata": {},
   "outputs": [],
   "source": [
    "import sys\n",
    "# Submodules\n",
    "from Modules.Interactive_release_policy import Interactive_policy_manual, Interactive_policy_auto\n",
    "sys.path.append('../../Toolbox')\n",
    "from Reservoir_operating_policy.Operating_policy_functions import four_points_policy"
   ]
  },
  {
   "cell_type": "markdown",
   "metadata": {},
   "source": [
    "### 1.1 Parameters\n",
    "Parameters of the policy function which are going to define the coordinates of the points delineating the function. u_min and u_max at minimum and maximum storage, u_mean is the long-term mean release and the coordinates u_ref and s_ref_1 and s_ref_2 of the (reference) inflection points. For example:"
   ]
  },
  {
   "cell_type": "code",
   "execution_count": 3,
   "metadata": {},
   "outputs": [],
   "source": [
    "# System constraints\n",
    "u_min = 2 # ML/week\n",
    "u_max = 80 # ML/week\n",
    "# Mean long term release\n",
    "u_mean = 20 # ML/week\n",
    "# Policy function parameters\n",
    "u_ref = 20/u_mean\n",
    "s_ref_1 = 0.2\n",
    "s_ref_2 = 0.8"
   ]
  },
  {
   "cell_type": "markdown",
   "metadata": {},
   "source": [
    "The policy function is delineated by 4 points (x0, x1, x2 and x3) which are defined by the parameters set in the cell above."
   ]
  },
  {
   "cell_type": "code",
   "execution_count": 4,
   "metadata": {},
   "outputs": [],
   "source": [
    "### Policy function constrains ###\n",
    "u_0 = u_min/u_mean # release at storage fraction = 0\n",
    "u_1 = u_max/u_mean # release at storage fraction = 1\n",
    "\n",
    "### Policy function defining points ###\n",
    "x0 = [0,       u_0]\n",
    "x1 = [s_ref_1, u_ref]\n",
    "x2 = [s_ref_2, u_ref]\n",
    "x3 = [1,       u_1]\n",
    "\n",
    "param = [x0, x1, x2, x3, u_mean]"
   ]
  },
  {
   "cell_type": "markdown",
   "metadata": {},
   "source": [
    "Policy function"
   ]
  },
  {
   "cell_type": "code",
   "execution_count": 5,
   "metadata": {},
   "outputs": [],
   "source": [
    "### Release fraction ###\n",
    "u_frac = four_points_policy(param)/u_mean\n",
    "### Storage fraction ###\n",
    "s_frac = np.arange(0,1.01,0.01)"
   ]
  },
  {
   "cell_type": "markdown",
   "metadata": {},
   "source": [
    "Plotting the reservoir policy function for regulated releases"
   ]
  },
  {
   "cell_type": "code",
   "execution_count": 6,
   "metadata": {},
   "outputs": [
    {
     "data": {
      "application/vnd.jupyter.widget-view+json": {
       "model_id": "1bf1ad51a8464656b5d3f06235893299",
       "version_major": 2,
       "version_minor": 0
      },
      "text/plain": [
       "VBox(children=(Figure(axes=[Axis(label='Storage fraction', scale=LinearScale(max=1.03, min=0.0)), Axis(label='…"
      ]
     },
     "metadata": {},
     "output_type": "display_data"
    }
   ],
   "source": [
    "# Axis characterisitcs\n",
    "x_sc_0 = LinearScale(min=0,max=1.03);y_sc_0 = LinearScale(min=0,max=4)\n",
    "x_ax_0 = Axis(label='Storage fraction', scale=x_sc_0)\n",
    "y_ax_0 = Axis(label='Release fraction', scale=y_sc_0, orientation='vertical')\n",
    "# Plot\n",
    "policy_function_points = Scatter(x = [x0[0], x1[0], x2[0], x3[0]], \n",
    "                            y = [x0[1], x1[1], x2[1], x3[1]],\n",
    "                            colors=['red'],stroke = 'lightgray',\n",
    "                            scales={'x': x_sc_0, 'y': y_sc_0},\n",
    "                            names = ['x0','x1','x2','x3'])\n",
    "policy_function_0 = Lines(x = s_frac, y = u_frac,\n",
    "                       colors=['blue'],stroke = 'lightgray',\n",
    "                       scales={'x': x_sc_0, 'y': y_sc_0})\n",
    "#Figure characteristics\n",
    "fig_0 = plt.Figure(marks = [policy_function_0,policy_function_points],title = 'Policy function', axes=[x_ax_0, y_ax_0],\n",
    "                    layout={'width': '500px', 'height': '450px'}, legend_style = {'fill': 'white', 'opacity': 0.5})\n",
    "widgets.VBox([fig_0])"
   ]
  },
  {
   "cell_type": "markdown",
   "metadata": {},
   "source": [
    "## Determining the release policy by trial and error (manual optimisation)\n",
    "Here we want to use the reservoir model to assist the reservoir operator in determining the best release (u) policy evaluated against the historical inflows, evaporation and water demand data. "
   ]
  },
  {
   "cell_type": "markdown",
   "metadata": {},
   "source": [
    "### Historical inflows, evaporation and water demand data\n",
    "Let's assume we want to look at the last 100 weeks (so ***N=100***). We generate the historical inflows, evaporation, regulated releases and demand data as arrays of 100 random numbers with a given mean (loc) and standard deviation (scale)."
   ]
  },
  {
   "cell_type": "code",
   "execution_count": 7,
   "metadata": {},
   "outputs": [],
   "source": [
    "N = 100 # weeks\n",
    "I_hist = np.abs(np.random.normal(loc=20,scale=10,size=N))\n",
    "e_hist = np.abs(np.random.normal(loc=4,scale=1,size=N))\n",
    "d_hist = np.abs(np.random.normal(loc=20,scale=5,size=N))\n",
    "u_hist = np.abs(np.random.normal(loc=20,scale=1,size=N))"
   ]
  },
  {
   "cell_type": "markdown",
   "metadata": {},
   "source": [
    "Plot the weekly inflow in the last 100 weeks:"
   ]
  },
  {
   "cell_type": "code",
   "execution_count": 8,
   "metadata": {},
   "outputs": [
    {
     "data": {
      "application/vnd.jupyter.widget-view+json": {
       "model_id": "bff767d270be4d7e8f1f235ac807710a",
       "version_major": 2,
       "version_minor": 0
      },
      "text/plain": [
       "VBox(children=(Figure(axes=[Axis(label='week', scale=LinearScale()), Axis(label='ML/week', orientation='vertic…"
      ]
     },
     "metadata": {},
     "output_type": "display_data"
    }
   ],
   "source": [
    "# Axis characterisitcs\n",
    "x_sc_1 = LinearScale();y_sc_1 = LinearScale(min=0,max=40)\n",
    "x_ax_1 = Axis(label='week', scale=x_sc_1);y_ax_1 = Axis(label='ML/week', scale=y_sc_1, orientation='vertical')\n",
    "# Bar plot\n",
    "inflow_plot = plt.bar(np.arange(1,N+1),I_hist,colors=['blue'],stroke = 'lightgray',scales={'x': x_sc_1, 'y': y_sc_1},\n",
    "                      labels = ['inflow'], display_legend = True)\n",
    "#Figure characteristics\n",
    "fig_1a = plt.Figure(marks = [inflow_plot],title = 'Inflow for the last 100 weeks', axes=[x_ax_1, y_ax_1],\n",
    "                    layout={'min_width': '1000px', 'max_height': '300px'}, legend_style = {'fill': 'white', 'opacity': 0.5})\n",
    "widgets.VBox([fig_1a])"
   ]
  },
  {
   "cell_type": "markdown",
   "metadata": {},
   "source": [
    "Plot the weekly demand in the last 100 weeks:"
   ]
  },
  {
   "cell_type": "code",
   "execution_count": 9,
   "metadata": {},
   "outputs": [
    {
     "data": {
      "application/vnd.jupyter.widget-view+json": {
       "model_id": "7d18c7f03c774c969f3f49e64c860ce0",
       "version_major": 2,
       "version_minor": 0
      },
      "text/plain": [
       "VBox(children=(Figure(axes=[Axis(label='week', scale=LinearScale()), Axis(label='ML/week', orientation='vertic…"
      ]
     },
     "metadata": {},
     "output_type": "display_data"
    }
   ],
   "source": [
    "# Bar plot (we use the same axis as the weekly inflows figure)\n",
    "demand_plot   = plt.bar(np.arange(1,N+1),d_hist,colors=['gray'],stroke = 'lightgray',opacities = [0.7]*N, \n",
    "                        labels = ['demand'], display_legend = True, \n",
    "                    stroke_width = 1,scales={'x': x_sc_1, 'y': y_sc_1})\n",
    "#Figure characteristics\n",
    "fig_1b = plt.Figure(marks = [demand_plot],title = 'Demand for the last 100 weeks', axes=[x_ax_1, y_ax_1],\n",
    "                    layout={'min_width': '1000px', 'max_height': '300px'}, legend_style = {'fill': 'white', 'opacity': 0.5})\n",
    "widgets.VBox([fig_1b])"
   ]
  },
  {
   "cell_type": "markdown",
   "metadata": {},
   "source": [
    "### Definition of other input parameters\n",
    "Let's define other variables that are needed for the reservoir system simulation, such as the reservoir storage capacity, the environmental compensation flow, etc."
   ]
  },
  {
   "cell_type": "code",
   "execution_count": 10,
   "metadata": {},
   "outputs": [],
   "source": [
    "### Constraints ###\n",
    "s_max = 150 #  (ML) Maximum storage (=reservoir capacity)\n",
    "s_min = 0 # (ML) Minimum storage (set to zero for now)\n",
    "u_max = 60 # (ML/week) Maximum release capacity\n",
    "env_min = 2 # (ML/week)   # Environmental compensation flow\n",
    "\n",
    "### Initial conditions ###\n",
    "s_0 = 80 # (ML) # Storage volume at the beginning of the simulation period"
   ]
  },
  {
   "cell_type": "markdown",
   "metadata": {},
   "source": [
    "### Policy function\n",
    "The policy function is delineated by 4 points: x0, x1, x2 and x3."
   ]
  },
  {
   "cell_type": "code",
   "execution_count": 11,
   "metadata": {},
   "outputs": [],
   "source": [
    "u_mean = np.mean(u_hist)# mean historical release\n",
    "u_0 = env_min/u_mean # release fraction at the minimum storage level (= environmental flow / mean release)\n",
    "u_1 = u_max/u_mean # release at the maximum storage level (= max release capacity / mean release)"
   ]
  },
  {
   "cell_type": "markdown",
   "metadata": {},
   "source": [
    "### Implementation of the reservoir simulation function\n",
    "Here we define a function that implements the reservoir simulation, that is, iteratively apply the mass balance equation and reconstruct the temporal evolution of the reservoir variables over the simulation period"
   ]
  },
  {
   "cell_type": "code",
   "execution_count": 12,
   "metadata": {},
   "outputs": [],
   "source": [
    "import sys\n",
    "# Submodules\n",
    "sys.path.append('../../Toolbox')\n",
    "from Reservoir_system_simulation.Res_sys_sim import Res_sys_sim"
   ]
  },
  {
   "cell_type": "markdown",
   "metadata": {},
   "source": [
    "### System objectives\n",
    "Let's assume that, we are interested in minimising the deficit with respect to a historical water demand, that is, to minimise the objective function:\n",
    "\n",
    "$$TSD = \\sum_{t=1}^{N} [ \\ max( \\ 0, \\ d(t)-u(t) \\ ) \\ ]^2 $$\n",
    "\n",
    "where N is the length of the simulation period that we are considering, and d(t) is the water demand for each time-interval in that period, and TSD stands for Total Squared Deficit. Notice that the function $max(0,...)$ enables us to only count the difference between demand d and release u when this is positive, that is, when the release u is smaller than the demand d, and a water shortage is indeed produced. Also, the squaring is a 'mathematical trick' to make sure that larger deficit amounts are given more weight than smaller ones. This translates the fact that small deficit amounts are easier to mitigate and hence more acceptable, while larger ones can cause disproportionately severe impacts and should be avoided as much as possible.\n",
    "\n",
    "We are also interested in minimising the chances that the reservoir level go below a minimum threshold. This could be for example, because the quality of the water deteriorates when levels are low, requiring more costly treatment. We measure how well this criterion is satisfied by the following objective function:\n",
    "\n",
    "$$MSV = \\sum_{t=1}^{N} [ \\ max ( \\ rc - s(t) , \\ 0) \\ ] $$\n",
    "\n",
    "where, again, N is the length of the simulation period, s is the reservoir storage, and rc is the minimum reservoir storage threshold that should preferably not be transpassed (MSV stands for Minimum Storage Violation). \n",
    "\n",
    "For our case, let's set this threshold to 40 ML."
   ]
  },
  {
   "cell_type": "code",
   "execution_count": 13,
   "metadata": {},
   "outputs": [],
   "source": [
    "rc = np.array([40]*(N+1)) # (ML)  minimum reservoir storage threshold"
   ]
  },
  {
   "cell_type": "markdown",
   "metadata": {},
   "source": [
    "### Determining the optimal release scheduling via interactive visualisation\n",
    "\n",
    "Now use the sliders to modify the release policy delineated by the policy function, in a way that minimises the Minimum Storage Violation."
   ]
  },
  {
   "cell_type": "code",
   "execution_count": 14,
   "metadata": {},
   "outputs": [],
   "source": [
    "fig_1a,fig_1b,fig_1c, u_ref,s_ref_1,s_ref_2 = Interactive_policy_manual(N,\n",
    "                                                                        I_hist, e_hist, \n",
    "                                                                        s_0, s_min, s_max, \n",
    "                                                                        u_0, u_1, u_mean, u_max, \n",
    "                                                                        env_min, d_hist, \n",
    "                                                                        rc)"
   ]
  },
  {
   "cell_type": "markdown",
   "metadata": {},
   "source": [
    "Plot"
   ]
  },
  {
   "cell_type": "code",
   "execution_count": 15,
   "metadata": {},
   "outputs": [
    {
     "data": {
      "application/vnd.jupyter.widget-view+json": {
       "model_id": "db013ce2d47c40b7adfee56be4afe2df",
       "version_major": 2,
       "version_minor": 0
      },
      "text/plain": [
       "VBox(children=(HBox(children=(VBox(children=(FloatSlider(value=1.0, continuous_update=False, description='u_re…"
      ]
     },
     "metadata": {},
     "output_type": "display_data"
    }
   ],
   "source": [
    "Box_layout = widgets.Layout(justify_content='center')\n",
    "widgets.VBox([widgets.HBox(\n",
    "    [widgets.VBox([u_ref,s_ref_1,s_ref_2],layout=Box_layout), fig_1a],layout=Box_layout),fig_1b,fig_1c],layout=Box_layout)"
   ]
  },
  {
   "cell_type": "markdown",
   "metadata": {},
   "source": [
    "## From manual to automatic optimization approach\n",
    "As we have seen, when we deal with two conflicting objective, we cannot find a solution that optimise both simoultaneously. If we prioritize one objective, the other one is deteriorated: there is a trade-off between the two. It would then be interesting to explore this tradeoff, and find all the release schedules that produce a different optimal combination of the two objectives. However, this is too cumbersome to do manually. Here we then use a multi-objective optimisation algorithm to do that for us. \n",
    "\n",
    "To this end, we use the Python Platypus package, and the NSGAII algorithm implemented in it. For more information about these methods and tools, see [Deb et al, 2002](https://ieeexplore.ieee.org/document/996017) and the [Platypus webpage](https://platypus.readthedocs.io). The code to run the optimisation is the following:"
   ]
  },
  {
   "cell_type": "code",
   "execution_count": 16,
   "metadata": {},
   "outputs": [],
   "source": [
    "def auto_optim(vars):\n",
    "\n",
    "    u_ref   = vars[0]\n",
    "    s_ref_1 = vars[1]\n",
    "    s_ref_2 = vars[2]\n",
    "    \n",
    "    x0 = [0,       u_0]\n",
    "    x1 = [s_ref_1, u_ref]\n",
    "    x2 = [s_ref_2, u_ref]\n",
    "    x3 = [1,       u_1]\n",
    "    param = [x0, x1, x2, x3, u_mean]\n",
    "    \n",
    "    Qreg = {'releases' : {'file_name' : 'Reservoir_operating_policy.Operating_policy_functions',\n",
    "                         'function' : 'four_points_policy',\n",
    "                         'param': param},\n",
    "            'inflows' : [],\n",
    "            'rel_inf' : []}\n",
    "    \n",
    "    Qenv, Qspill, u, I_reg, s, E = Res_sys_sim(I_hist, e_hist, s_0, s_min, s_max, env_min, d_hist, Qreg)\n",
    "    \n",
    "    TSD = (np.sum((np.maximum(d_hist-u,[0]*N))**2)).astype('int')\n",
    "    MSV = (np.sum((np.maximum(rc-s,[0]*(N+1))))).astype('int')\n",
    "    \n",
    "    constraints = [s_ref_2-s_ref_1]\n",
    "    \n",
    "    return [TSD, MSV], constraints\n",
    "\n",
    "problem = Problem(3,2,1)\n",
    "Real0 = Real(0,u_1); Real1 = Real(0, 1); Real2 = Real(0, 1)\n",
    "\n",
    "problem.types[:] = [Real0] + [Real1] + [Real2]\n",
    "problem.constraints[:] = \">=0\"\n",
    "problem.function = auto_optim\n",
    "\n",
    "population_size = 30\n",
    "algorithm = NSGAII(problem,population_size)\n",
    "algorithm.run(1000) # Number of iterations\n",
    "\n",
    "results1_optim = np.array([algorithm.result[i].objectives[0] for i in range(population_size)])\n",
    "results2_optim = np.array([algorithm.result[i].objectives[1] for i in range(population_size)])\n",
    "\n",
    "sol_optim = [algorithm.result[i].variables for i in range(population_size)]"
   ]
  },
  {
   "cell_type": "markdown",
   "metadata": {},
   "source": [
    "#### Plot the optimisation results\n",
    "We can visualise the tradeoffs between the two objectives in one plot, called Pareto front, which displays the combination of the two objective values in correspondence to a set of optimised solutions. Click on one point in the Pareto front to visualise the release scheduling that generates that performance, and associated storage time series.  What do you think would be a balanced solution?"
   ]
  },
  {
   "cell_type": "code",
   "execution_count": 17,
   "metadata": {},
   "outputs": [],
   "source": [
    "fig_pf, fig_2a,fig_2b,fig_2c = Interactive_policy_auto(N, \n",
    "                                                       I_hist, e_hist, \n",
    "                                                       s_0, s_min, s_max, \n",
    "                                                       u_0, u_1, u_mean, u_max,\n",
    "                                                       env_min, d_hist, \n",
    "                                                       rc, \n",
    "                                                       results1_optim,results2_optim,sol_optim)"
   ]
  },
  {
   "cell_type": "markdown",
   "metadata": {},
   "source": [
    "Plot"
   ]
  },
  {
   "cell_type": "code",
   "execution_count": 18,
   "metadata": {
    "code_folding": []
   },
   "outputs": [
    {
     "data": {
      "application/vnd.jupyter.widget-view+json": {
       "model_id": "5165cf4f65fe4fe084d1eaca595d8c08",
       "version_major": 2,
       "version_minor": 0
      },
      "text/plain": [
       "VBox(children=(HBox(children=(Figure(animation_duration=1000, axes=[Axis(label='Total squared deficit [ML^2]',…"
      ]
     },
     "metadata": {},
     "output_type": "display_data"
    }
   ],
   "source": [
    "Box_layout = widgets.Layout(justify_content='center')\n",
    "widgets.VBox([widgets.HBox(\n",
    "    [fig_pf, fig_2a],layout=Box_layout),fig_2b,fig_2c],layout=Box_layout)"
   ]
  },
  {
   "cell_type": "markdown",
   "metadata": {},
   "source": [
    "### References \n",
    "\n",
    "Deb K. et al (2002) A fast and elitist multiobjective genetic algorithm: NSGA-II, IEEE Transactions on Evolutionary Computation, 6(2), 182-197, doi:10.1109/4235.996017.\n",
    "\n",
    "Dobson B. et al (2019) An argument-driven classification and comparison of reservoir operation optimization methods, Advances in Water Resources, 128, 74-86.\n",
    "\n",
    "Loucks D. P. et al (1981) Water resource systems planning and analysis, Prentice-Hall."
   ]
  },
  {
   "cell_type": "markdown",
   "metadata": {},
   "source": [
    "# Questionnaire: Section 2 of 2\n",
    "Now that you are done with the Notebooks, could you please answer the questions of Section 2 of 2 of the questionnaire (click on Next button that you will find at the end of Section 1 of 2 of the questionnaire)?"
   ]
  }
 ],
 "metadata": {
  "kernelspec": {
   "display_name": "Python 3",
   "language": "python",
   "name": "python3"
  },
  "language_info": {
   "codemirror_mode": {
    "name": "ipython",
    "version": 3
   },
   "file_extension": ".py",
   "mimetype": "text/x-python",
   "name": "python",
   "nbconvert_exporter": "python",
   "pygments_lexer": "ipython3",
   "version": "3.7.4"
  },
  "varInspector": {
   "cols": {
    "lenName": 16,
    "lenType": 16,
    "lenVar": 40
   },
   "kernels_config": {
    "python": {
     "delete_cmd_postfix": "",
     "delete_cmd_prefix": "del ",
     "library": "var_list.py",
     "varRefreshCmd": "print(var_dic_list())"
    },
    "r": {
     "delete_cmd_postfix": ") ",
     "delete_cmd_prefix": "rm(",
     "library": "var_list.r",
     "varRefreshCmd": "cat(var_dic_list()) "
    }
   },
   "types_to_exclude": [
    "module",
    "function",
    "builtin_function_or_method",
    "instance",
    "_Feature"
   ],
   "window_display": false
  }
 },
 "nbformat": 4,
 "nbformat_minor": 2
}
