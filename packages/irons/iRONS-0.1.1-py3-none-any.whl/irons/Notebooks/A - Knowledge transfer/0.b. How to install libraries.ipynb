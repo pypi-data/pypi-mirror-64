{
 "cells": [
  {
   "cell_type": "markdown",
   "metadata": {},
   "source": [
    "# How to install libraries\n",
    "\n",
    "NOTE: you will only need to install missing libraries if you are running the Notebooks locally on your hard disk. If these Notebooks where shared with you through a link to an online repository such as Binder or Microsoft Azure Notebooks then ignore this tutorial, you don't need to install libraries.\n",
    "\n",
    "Libraries are installed through the Anaconda Prompt (Windows) or the OS Terminal (Mac and Linux).\n",
    "\n",
    "Before installing any library, make sure that the installer (conda/pip) is installed and updated.\n",
    "\n",
    "If Jupyter Notebook was already open, after installing any library, the kernel must be updated for the installation to be effective."
   ]
  },
  {
   "cell_type": "markdown",
   "metadata": {},
   "source": [
    "## How to open the Anaconda Prompt and update conda\n",
    "\n",
    "Open the Prompt from the Windows menu (or a OS Terminal in Mac and Linux), and then run:\n",
    "\n",
    "> conda update conda\n",
    "\n",
    "or \n",
    "\n",
    "> C:\\ProgramData\\Anaconda3\\Scripts\\conda update conda\n",
    "\n",
    "<right> <img src=\"../../util/images/Executing Anaconda Prompt and Conda.gif\" width = \"900px\"><right>"
   ]
  },
  {
   "cell_type": "markdown",
   "metadata": {},
   "source": [
    "## How to restart the kernel in Jupyter Notbook"
   ]
  },
  {
   "cell_type": "markdown",
   "metadata": {},
   "source": [
    "<right> <img src=\"../../util/images/Restarting kernel.gif\" width = \"1000px\"><right>"
   ]
  },
  {
   "cell_type": "markdown",
   "metadata": {},
   "source": [
    "## How to install the library Netcdf4 \n",
    "\n",
    "\n",
    "1) Open the Anaconda Prompt (or the OS Terminal) and run:\n",
    "\n",
    "> conda install -c anaconda netcdf4==1.4.2\n",
    "\n",
    "2) Either open Jupyter Notebook or restart the kernel"
   ]
  },
  {
   "cell_type": "markdown",
   "metadata": {},
   "source": [
    "## How to install the library Bqplot\n",
    "\n",
    "In order to install this library first we need to make sure that the installer (pip) is updated:\n",
    "\n",
    "1) Open the Anaconda Prompt (or the OS Terminal) and run:\n",
    "\n",
    "> pip install --upgrade pip\n",
    "\n",
    "On Windows the recommended command is:\n",
    "\n",
    "> python -m pip install --upgrade pip\n",
    "\n",
    "2) When the install process has finished, install the Bqplot library by running this at the Anaconda Prompt:\n",
    "\n",
    "> conda install bqplot==0.11.6\n",
    "\n",
    "3) Either open Jupyter Notebook or restart the kernel"
   ]
  },
  {
   "cell_type": "markdown",
   "metadata": {
    "collapsed": true
   },
   "source": [
    "## How to install the library Platypus\n",
    "\n",
    "1) Open the Anaconda Prompt (or the OS Terminal in the case of Mac computers) and run:\n",
    "\n",
    "> pip install platypus-opt\n",
    "\n",
    "\n",
    "2) Either open Jupyter Notebook or restart the kernel"
   ]
  },
  {
   "cell_type": "markdown",
   "metadata": {
    "collapsed": true
   },
   "source": [
    "## How to install the library Numba\n",
    "\n",
    "1) Open the Anaconda Prompt (or the OS Terminal in the case of Mac computers) and run:\n",
    "\n",
    "> pip install numba==0.47.0\n",
    "\n",
    "\n",
    "2) Either open Jupyter Notebook or restart the kernel"
   ]
  },
  {
   "cell_type": "markdown",
   "metadata": {},
   "source": [
    "## How to install the library Plotly\n",
    "1) Open the Anaconda Prompt (or the OS Terminal in the case of Mac computers) and run:\n",
    "\n",
    "> pip install plotly==4.4.1\n",
    "\n",
    "\n",
    "2) Either open Jupyter Notebook or restart the kernel"
   ]
  },
  {
   "cell_type": "code",
   "execution_count": null,
   "metadata": {},
   "outputs": [],
   "source": []
  }
 ],
 "metadata": {
  "kernelspec": {
   "display_name": "Python 3",
   "language": "python",
   "name": "python3"
  },
  "language_info": {
   "codemirror_mode": {
    "name": "ipython",
    "version": 3
   },
   "file_extension": ".py",
   "mimetype": "text/x-python",
   "name": "python",
   "nbconvert_exporter": "python",
   "pygments_lexer": "ipython3",
   "version": "3.7.6"
  },
  "varInspector": {
   "cols": {
    "lenName": 16,
    "lenType": 16,
    "lenVar": 40
   },
   "kernels_config": {
    "python": {
     "delete_cmd_postfix": "",
     "delete_cmd_prefix": "del ",
     "library": "var_list.py",
     "varRefreshCmd": "print(var_dic_list())"
    },
    "r": {
     "delete_cmd_postfix": ") ",
     "delete_cmd_prefix": "rm(",
     "library": "var_list.r",
     "varRefreshCmd": "cat(var_dic_list()) "
    }
   },
   "types_to_exclude": [
    "module",
    "function",
    "builtin_function_or_method",
    "instance",
    "_Feature"
   ],
   "window_display": false
  }
 },
 "nbformat": 4,
 "nbformat_minor": 2
}
