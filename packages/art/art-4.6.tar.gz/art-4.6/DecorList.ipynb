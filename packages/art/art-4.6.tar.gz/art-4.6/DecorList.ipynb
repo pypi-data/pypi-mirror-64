{
 "cells": [
  {
   "cell_type": "markdown",
   "metadata": {},
   "source": [
    "# ART"
   ]
  },
  {
   "cell_type": "markdown",
   "metadata": {},
   "source": [
    "### Version : 4.6"
   ]
  },
  {
   "cell_type": "code",
   "execution_count": 1,
   "metadata": {},
   "outputs": [],
   "source": [
    "from art import *"
   ]
  },
  {
   "cell_type": "markdown",
   "metadata": {},
   "source": [
    "## Decoration Counter"
   ]
  },
  {
   "cell_type": "code",
   "execution_count": 2,
   "metadata": {},
   "outputs": [
    {
     "data": {
      "text/plain": [
       "10"
      ]
     },
     "execution_count": 2,
     "metadata": {},
     "output_type": "execute_result"
    }
   ],
   "source": [
    "DECORATION_COUNTER"
   ]
  },
  {
   "cell_type": "markdown",
   "metadata": {},
   "source": [
    "⚠️ Some environments don't support all decorations"
   ]
  },
  {
   "cell_type": "markdown",
   "metadata": {},
   "source": [
    "## Decoration List"
   ]
  },
  {
   "cell_type": "code",
   "execution_count": 3,
   "metadata": {},
   "outputs": [
    {
     "name": "stdout",
     "output_type": "stream",
     "text": [
      "barcode1\n",
      "▌│█║▌║▌║ ƭεรƭ ║▌║▌║█│▌\n",
      "******************************\n",
      "champion1\n",
      "◄[🏆]► ƭεรƭ ◄[🥇]►\n",
      "******************************\n",
      "chess1\n",
      "▀▄▀▄▀▄ƭεรƭ▄▀▄▀▄▀\n",
      "******************************\n",
      "lucky1\n",
      "🌈ꔣᨐ ƭεรƭ ᨐꔣ🌈\n",
      "******************************\n",
      "sad1\n",
      "(-_-) ƭεรƭ (-_-)\n",
      "******************************\n",
      "soccer1\n",
      "●●--●●◄⚽️► ƭεรƭ ◄⚽️►●●--●●\n",
      "******************************\n",
      "star1\n",
      "【★】 ƭεรƭ 【★】\n",
      "******************************\n",
      "star2\n",
      "★·.·´¯`·.·★ ƭεรƭ ★·.·´¯`·.·★\n",
      "******************************\n",
      "wave1\n",
      "▁ ▂ ▄ ▅ ▆ ▇ █ƭεรƭ█ ▇ ▆ ▅ ▄ ▂ ▁\n",
      "******************************\n",
      "wave2\n",
      "▉▇▆▅▄▃▂▂▂_ƭεรƭ_▂▂▃▄▅▆▇▉▉\n",
      "******************************\n"
     ]
    }
   ],
   "source": [
    "decor_list()"
   ]
  }
 ],
 "metadata": {
  "kernelspec": {
   "display_name": "Python 3",
   "language": "python",
   "name": "python3"
  },
  "language_info": {
   "codemirror_mode": {
    "name": "ipython",
    "version": 3
   },
   "file_extension": ".py",
   "mimetype": "text/x-python",
   "name": "python",
   "nbconvert_exporter": "python",
   "pygments_lexer": "ipython3",
   "version": "3.5.2"
  }
 },
 "nbformat": 4,
 "nbformat_minor": 2
}
