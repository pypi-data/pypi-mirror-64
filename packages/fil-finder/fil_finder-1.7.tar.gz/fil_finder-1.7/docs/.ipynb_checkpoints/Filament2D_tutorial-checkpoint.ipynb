{
 "cells": [
  {
   "cell_type": "markdown",
   "metadata": {},
   "source": [
    "Filament2D Tutorial\n",
    "==========="
   ]
  },
  {
   "cell_type": "markdown",
   "metadata": {},
   "source": [
    "This tutorial demonstrates the usage of the `FilFinder2D` object to perform the analysis on an individual filament. The general tutorial for FilFinder can be found [here](http://fil-finder.readthedocs.io/en/latest/tutorial.html)."
   ]
  },
  {
   "cell_type": "code",
   "execution_count": 1,
   "metadata": {},
   "outputs": [],
   "source": [
    "%matplotlib inline\n",
    "import matplotlib.pyplot as plt\n",
    "import astropy.units as u\n",
    "\n",
    "# Optional settings for the plots. Comment out if needed.\n",
    "import seaborn as sb\n",
    "sb.set_context('poster')\n",
    "\n",
    "import matplotlib as mpl\n",
    "mpl.rcParams['figure.figsize'] = (10., 8.)"
   ]
  },
  {
   "cell_type": "markdown",
   "metadata": {},
   "source": [
    "The general tutorial demonstrates how the `Filament2D` objects interact with `FilFinder2D`. To generate an example, we will use a straight Gaussian filament to demonstrate how the FilFinder analysis can be run on individual filaments. We can also create a simplified mask by simply thresholding the image."
   ]
  },
  {
   "cell_type": "code",
   "execution_count": 68,
   "metadata": {},
   "outputs": [
    {
     "data": {
      "text/plain": [
       "<matplotlib.contour.QuadContourSet at 0x7f1578dea630>"
      ]
     },
     "execution_count": 68,
     "metadata": {},
     "output_type": "execute_result"
    },
    {
     "data": {
      "image/png": "[encoded data removed]",
      "text/plain": [
       "<matplotlib.figure.Figure at 0x7f1578e5b978>"
      ]
     },
     "metadata": {},
     "output_type": "display_data"
    }
   ],
   "source": [
    "from fil_finder import FilFinder2D, Filament2D\n",
    "from fil_finder.tests.testing_utils import generate_filament_model\n",
    "\n",
    "mod = generate_filament_model(return_hdu=True, pad_size=30, shape=150,\n",
    "                                  width=10., background=0.1)[0]\n",
    "\n",
    "# Create a simple filament mask\n",
    "mask = mod.data > 0.5\n",
    "\n",
    "plt.imshow(mod.data, origin='lower')\n",
    "plt.colorbar()\n",
    "plt.contour(mask, colors='c', linestyles='--')"
   ]
  },
  {
   "cell_type": "markdown",
   "metadata": {},
   "source": [
    "The simple filament model is shown above, with the mask highlighted by the dashed contour.\n",
    "\n",
    "The first step is to run the first few steps on the FilFinder algorithm with `FilFinder2D`:"
   ]
  },
  {
   "cell_type": "code",
   "execution_count": 3,
   "metadata": {},
   "outputs": [
    {
     "name": "stderr",
     "output_type": "stream",
     "text": [
      "/home/eric/Dropbox/code_development/filaments/build/lib.linux-x86_64-3.6/fil_finder/filfinder2D.py:288: UserWarning: Using inputted mask. Skipping creation of anew mask.\n",
      "  warnings.warn(\"Using inputted mask. Skipping creation of a\"\n"
     ]
    }
   ],
   "source": [
    "filfind = FilFinder2D(mod, distance=250 * u.pc, mask=mask)\n",
    "filfind.preprocess_image(flatten_percent=85)\n",
    "\n",
    "filfind.create_mask(border_masking=True, verbose=False,\n",
    "                    use_existing_mask=True)\n",
    "filfind.medskel(verbose=False)\n",
    "filfind.analyze_skeletons()"
   ]
  },
  {
   "cell_type": "markdown",
   "metadata": {},
   "source": [
    "The `Filament2D` objects are created when running `FilFinder2D.analyze_skeleton`. From here, we will focus on the filament object:"
   ]
  },
  {
   "cell_type": "code",
   "execution_count": 4,
   "metadata": {},
   "outputs": [],
   "source": [
    "fil = filfind.filaments[0]"
   ]
  },
  {
   "cell_type": "markdown",
   "metadata": {},
   "source": [
    "The `Filament2D` object contains a minimized version of the FilFinder algorithm. Most of the `FilFinder2D` functionality simply loops throught the `Filament2D` objects. However, `Filament2D` object do not keep a copy of the data and are designed to carry a minimal amount of information.\n",
    "\n",
    "Though not shown here, the only requirement to create a `Filament2D` object is a set of pixels that define the skeleton shape. These are contained in:"
   ]
  },
  {
   "cell_type": "code",
   "execution_count": 5,
   "metadata": {},
   "outputs": [
    {
     "data": {
      "text/plain": [
       "(array([105, 105, 105, 105, 105, 105, 105, 105, 105, 105, 105, 105, 105,\n",
       "        105, 105, 105, 105, 105, 105, 105, 105, 105, 105, 105, 105, 105,\n",
       "        105, 105, 105, 105, 105, 105, 105, 105, 105, 105, 105, 105, 105,\n",
       "        105, 105, 105, 105, 105, 105, 105, 105, 105, 105, 105, 105, 105,\n",
       "        105, 105, 105, 105, 105, 105, 105, 105, 105, 105, 105, 105, 105,\n",
       "        105, 105, 105, 105, 105, 105, 105, 105, 105, 105, 105, 105, 105,\n",
       "        105, 105, 105, 105, 105, 105, 105, 105, 105, 105, 105, 105, 105,\n",
       "        105, 105, 105, 105, 105, 105, 105, 105, 105, 105, 105, 105, 105,\n",
       "        105, 105, 105, 105, 105, 105, 105, 105, 105, 105, 105, 105, 105,\n",
       "        105, 105, 105, 105, 105, 105, 105, 105, 105, 105, 105, 105, 105,\n",
       "        105, 105, 105, 105, 105, 105, 105, 105, 105, 105, 105, 105, 105,\n",
       "        105, 105, 105, 105, 105, 105, 105]),\n",
       " array([ 30,  31,  32,  33,  34,  35,  36,  37,  38,  39,  40,  41,  42,\n",
       "         43,  44,  45,  46,  47,  48,  49,  50,  51,  52,  53,  54,  55,\n",
       "         56,  57,  58,  59,  60,  61,  62,  63,  64,  65,  66,  67,  68,\n",
       "         69,  70,  71,  72,  73,  74,  75,  76,  77,  78,  79,  80,  81,\n",
       "         82,  83,  84,  85,  86,  87,  88,  89,  90,  91,  92,  93,  94,\n",
       "         95,  96,  97,  98,  99, 100, 101, 102, 103, 104, 105, 106, 107,\n",
       "        108, 109, 110, 111, 112, 113, 114, 115, 116, 117, 118, 119, 120,\n",
       "        121, 122, 123, 124, 125, 126, 127, 128, 129, 130, 131, 132, 133,\n",
       "        134, 135, 136, 137, 138, 139, 140, 141, 142, 143, 144, 145, 146,\n",
       "        147, 148, 149, 150, 151, 152, 153, 154, 155, 156, 157, 158, 159,\n",
       "        160, 161, 162, 163, 164, 165, 166, 167, 168, 169, 170, 171, 172,\n",
       "        173, 174, 175, 176, 177, 178, 179]))"
      ]
     },
     "execution_count": 5,
     "metadata": {},
     "output_type": "execute_result"
    }
   ],
   "source": [
    "fil.pixel_coords"
   ]
  },
  {
   "cell_type": "markdown",
   "metadata": {},
   "source": [
    "These pixel coordinates are the positions in the original image. When the skeleton array is generated, the minimal shape is returned:"
   ]
  },
  {
   "cell_type": "code",
   "execution_count": 6,
   "metadata": {},
   "outputs": [
    {
     "data": {
      "text/plain": [
       "<matplotlib.image.AxesImage at 0x7f157c3b3a90>"
      ]
     },
     "execution_count": 6,
     "metadata": {},
     "output_type": "execute_result"
    },
    {
     "data": {
      "image/png": "[encoded data removed]",
      "text/plain": [
       "<matplotlib.figure.Figure at 0x7f158cc81668>"
      ]
     },
     "metadata": {},
     "output_type": "display_data"
    }
   ],
   "source": [
    "plt.imshow(fil.skeleton())"
   ]
  },
  {
   "cell_type": "markdown",
   "metadata": {},
   "source": [
    "For a straight skeleton in this case, this returns a 1-pixel wide array in 0th dimension. This array can be padded:"
   ]
  },
  {
   "cell_type": "code",
   "execution_count": 7,
   "metadata": {},
   "outputs": [
    {
     "data": {
      "text/plain": [
       "<matplotlib.image.AxesImage at 0x7f157bbefc50>"
      ]
     },
     "execution_count": 7,
     "metadata": {},
     "output_type": "execute_result"
    },
    {
     "data": {
      "image/png": "[encoded data removed]",
      "text/plain": [
       "<matplotlib.figure.Figure at 0x7f157c205e10>"
      ]
     },
     "metadata": {},
     "output_type": "display_data"
    }
   ],
   "source": [
    "plt.imshow(fil.skeleton(pad_size=10))"
   ]
  },
  {
   "cell_type": "markdown",
   "metadata": {},
   "source": [
    "The position of the filament is defined as the median pixel location based on the set of skeleton pixels:"
   ]
  },
  {
   "cell_type": "code",
   "execution_count": 62,
   "metadata": {},
   "outputs": [
    {
     "data": {
      "text/plain": [
       "[<Quantity 105. pix>, <Quantity 104.5 pix>]"
      ]
     },
     "execution_count": 62,
     "metadata": {},
     "output_type": "execute_result"
    }
   ],
   "source": [
    "fil.position()"
   ]
  },
  {
   "cell_type": "markdown",
   "metadata": {},
   "source": [
    "If WCS information is given for the object, the centre can also be returned in world coordinates:"
   ]
  },
  {
   "cell_type": "code",
   "execution_count": 63,
   "metadata": {},
   "outputs": [
    {
     "data": {
      "text/plain": [
       "[<Quantity 359.99770817 deg>, <Quantity 0.00114592 deg>]"
      ]
     },
     "execution_count": 63,
     "metadata": {},
     "output_type": "execute_result"
    }
   ],
   "source": [
    "fil.position(world_coord=True)"
   ]
  },
  {
   "cell_type": "markdown",
   "metadata": {},
   "source": [
    "The skeleton analysis, equivalent to `FilFinder2D.analyze_skeletons` is `Filament2D.skeleton_analysis`. However, there are additional arguments that must be passed since the `Filament2D` object does not contain a copy of the image. To reproduce the `fil.analyze_skeletons` call from above, we can run:"
   ]
  },
  {
   "cell_type": "code",
   "execution_count": 8,
   "metadata": {},
   "outputs": [
    {
     "data": {
      "image/png": "[encoded data removed]",
      "text/plain": [
       "<matplotlib.figure.Figure at 0x7f157bac07f0>"
      ]
     },
     "metadata": {},
     "output_type": "display_data"
    },
    {
     "data": {
      "image/png": "[encoded data removed]",
      "text/plain": [
       "<matplotlib.figure.Figure at 0x7f157bf01550>"
      ]
     },
     "metadata": {},
     "output_type": "display_data"
    },
    {
     "data": {
      "image/png": "[encoded data removed]",
      "text/plain": [
       "<matplotlib.figure.Figure at 0x7f157c3c4438>"
      ]
     },
     "metadata": {},
     "output_type": "display_data"
    }
   ],
   "source": [
    "fil.skeleton_analysis(filfind.image, verbose=True)"
   ]
  },
  {
   "cell_type": "markdown",
   "metadata": {},
   "source": [
    "The same keyword and plot output is shown as described in the [FilFinder2D tutorial](http://fil-finder.readthedocs.io/en/latest/tutorial.html).\n",
    "\n",
    "The networkx graph can be accessed from `fil.graph` and can be plotted:"
   ]
  },
  {
   "cell_type": "code",
   "execution_count": 9,
   "metadata": {},
   "outputs": [
    {
     "data": {
      "image/png": "[encoded data removed]",
      "text/plain": [
       "<matplotlib.figure.Figure at 0x7f157b844ef0>"
      ]
     },
     "metadata": {},
     "output_type": "display_data"
    }
   ],
   "source": [
    "fil.plot_graph()"
   ]
  },
  {
   "cell_type": "markdown",
   "metadata": {},
   "source": [
    "Filaments with multiple branches have more interesting looking graphs.\n",
    "\n",
    "The lengths and branch properties are now defined:"
   ]
  },
  {
   "cell_type": "code",
   "execution_count": 11,
   "metadata": {},
   "outputs": [
    {
     "data": {
      "text/latex": [
       "$149 \\; \\mathrm{pix}$"
      ],
      "text/plain": [
       "<Quantity 149. pix>"
      ]
     },
     "execution_count": 11,
     "metadata": {},
     "output_type": "execute_result"
    }
   ],
   "source": [
    "fil.length()"
   ]
  },
  {
   "cell_type": "code",
   "execution_count": 13,
   "metadata": {},
   "outputs": [
    {
     "data": {
      "text/plain": [
       "dict_keys(['length', 'intensity', 'number', 'pixels'])"
      ]
     },
     "execution_count": 13,
     "metadata": {},
     "output_type": "execute_result"
    }
   ],
   "source": [
    "fil.branch_properties.keys()"
   ]
  },
  {
   "cell_type": "markdown",
   "metadata": {},
   "source": [
    "The longest path skeleton is now defined as well. The skeleton array of the longest path can be returned with:"
   ]
  },
  {
   "cell_type": "code",
   "execution_count": 15,
   "metadata": {},
   "outputs": [
    {
     "data": {
      "text/plain": [
       "<matplotlib.image.AxesImage at 0x7f157be82518>"
      ]
     },
     "execution_count": 15,
     "metadata": {},
     "output_type": "execute_result"
    },
    {
     "data": {
      "image/png": "[encoded data removed]",
      "text/plain": [
       "<matplotlib.figure.Figure at 0x7f157b884908>"
      ]
     },
     "metadata": {},
     "output_type": "display_data"
    }
   ],
   "source": [
    "plt.imshow(fil.skeleton(out_type='longpath', pad_size=10), origin='lower')"
   ]
  },
  {
   "cell_type": "markdown",
   "metadata": {},
   "source": [
    "Orientation and Curvature\n",
    "-----------------------------\n",
    "\n",
    "The RHT analysis on the longest path is run with:"
   ]
  },
  {
   "cell_type": "code",
   "execution_count": 17,
   "metadata": {},
   "outputs": [
    {
     "name": "stdout",
     "output_type": "stream",
     "text": [
      "1.5707963267948966 rad 0.26411662612097775 rad\n"
     ]
    }
   ],
   "source": [
    "fil.rht_analysis()\n",
    "print(fil.orientation, fil.curvature)"
   ]
  },
  {
   "cell_type": "markdown",
   "metadata": {},
   "source": [
    "The RHT distribution can be plotted with:"
   ]
  },
  {
   "cell_type": "code",
   "execution_count": 18,
   "metadata": {},
   "outputs": [
    {
     "data": {
      "image/png": "[encoded data removed]",
      "text/plain": [
       "<matplotlib.figure.Figure at 0x7f157be87c18>"
      ]
     },
     "metadata": {},
     "output_type": "display_data"
    }
   ],
   "source": [
    "fil.plot_rht_distrib()"
   ]
  },
  {
   "cell_type": "markdown",
   "metadata": {},
   "source": [
    "And the distribution can be accessed with `Filament2D.orientation_hist`, which contains the bins and the distribution values.\n",
    "\n",
    "To run on individual branches, use:"
   ]
  },
  {
   "cell_type": "code",
   "execution_count": 21,
   "metadata": {},
   "outputs": [
    {
     "name": "stdout",
     "output_type": "stream",
     "text": [
      "[1.57079633] rad [0.26411663] rad\n"
     ]
    }
   ],
   "source": [
    "fil.rht_branch_analysis()\n",
    "print(fil.orientation_branches, fil.curvature_branches)"
   ]
  },
  {
   "cell_type": "markdown",
   "metadata": {},
   "source": [
    "The properties of branches can be returned with:"
   ]
  },
  {
   "cell_type": "code",
   "execution_count": 59,
   "metadata": {},
   "outputs": [
    {
     "data": {
      "text/html": [
       "<i>Table length=1</i>\n",
       "<table id=\"table139730249548576\" class=\"table-striped table-bordered table-condensed\">\n",
       "<thead><tr><th>length</th><th>intensity</th></tr></thead>\n",
       "<thead><tr><th>pix</th><th></th></tr></thead>\n",
       "<thead><tr><th>float64</th><th>float64</th></tr></thead>\n",
       "<tr><td>149.0</td><td>1.0999999999999996</td></tr>\n",
       "</table>"
      ],
      "text/plain": [
       "<Table length=1>\n",
       " length     intensity     \n",
       "  pix                     \n",
       "float64      float64      \n",
       "------- ------------------\n",
       "  149.0 1.0999999999999996"
      ]
     },
     "execution_count": 59,
     "metadata": {},
     "output_type": "execute_result"
    }
   ],
   "source": [
    "fil.branch_table()"
   ]
  },
  {
   "cell_type": "markdown",
   "metadata": {},
   "source": [
    "And with the orientation and curvature branch information:"
   ]
  },
  {
   "cell_type": "code",
   "execution_count": 60,
   "metadata": {},
   "outputs": [
    {
     "data": {
      "text/html": [
       "<i>Table length=1</i>\n",
       "<table id=\"table139730199717760\" class=\"table-striped table-bordered table-condensed\">\n",
       "<thead><tr><th>length</th><th>intensity</th><th>orientation</th><th>curvature</th></tr></thead>\n",
       "<thead><tr><th>pix</th><th></th><th>rad</th><th>rad</th></tr></thead>\n",
       "<thead><tr><th>float64</th><th>float64</th><th>float64</th><th>float64</th></tr></thead>\n",
       "<tr><td>149.0</td><td>1.0999999999999996</td><td>1.5707963267948966</td><td>0.26411662612097775</td></tr>\n",
       "</table>"
      ],
      "text/plain": [
       "<Table length=1>\n",
       " length     intensity         orientation          curvature     \n",
       "  pix                             rad                 rad        \n",
       "float64      float64            float64             float64      \n",
       "------- ------------------ ------------------ -------------------\n",
       "  149.0 1.0999999999999996 1.5707963267948966 0.26411662612097775"
      ]
     },
     "execution_count": 60,
     "metadata": {},
     "output_type": "execute_result"
    }
   ],
   "source": [
    "fil.branch_table(include_rht=True)"
   ]
  },
  {
   "cell_type": "markdown",
   "metadata": {},
   "source": [
    "Radial Profiles and Widths\n",
    "------------------------------\n",
    "\n",
    "The radial profiles and width analysis is run with `Filament2D.width_analysis`. Most of the inputs are the same as those for `FilFinder2D.find_widths`, with a few key differences:\n",
    "\n",
    "* The image must be given.\n",
    "* The total skeleton array must also be given, since each `Filament2D` is unaware of other filaments.\n",
    "* The beam width must be given for the FWHM to be deconvolved.\n",
    "\n",
    "To reproduce the `FilFinder2D` analysis:"
   ]
  },
  {
   "cell_type": "code",
   "execution_count": 26,
   "metadata": {},
   "outputs": [],
   "source": [
    "fil.width_analysis(filfind.image, all_skeleton_array=filfind.skeleton, beamwidth=filfind.beamwidth,\n",
    "                   max_dist=0.3 * u.pc)"
   ]
  },
  {
   "cell_type": "markdown",
   "metadata": {},
   "source": [
    "The radial profile is contained in `fil.radprofile` and can be plotted with:"
   ]
  },
  {
   "cell_type": "code",
   "execution_count": 27,
   "metadata": {},
   "outputs": [
    {
     "data": {
      "image/png": "[encoded data removed]",
      "text/plain": [
       "<matplotlib.figure.Figure at 0x7f157bbbc048>"
      ]
     },
     "metadata": {},
     "output_type": "display_data"
    }
   ],
   "source": [
    "fil.plot_radial_profile(xunit=u.pc)"
   ]
  },
  {
   "cell_type": "markdown",
   "metadata": {},
   "source": [
    "The parameters, uncertainty, model type, and check for fit quality are contained in:"
   ]
  },
  {
   "cell_type": "code",
   "execution_count": 30,
   "metadata": {},
   "outputs": [
    {
     "name": "stdout",
     "output_type": "stream",
     "text": [
      "['amplitude_0', 'stddev_0', 'amplitude_1']\n",
      "[<Quantity 1.00078556>, <Quantity 9.99775856>, <Quantity 0.09998652>]\n",
      "[<Quantity 0.00189642>, <Quantity 0.0165278>, <Quantity 0.00059495>]\n",
      "gaussian_bkg\n",
      "False\n"
     ]
    }
   ],
   "source": [
    "print(fil.radprof_parnames)\n",
    "print(fil.radprof_params)\n",
    "print(fil.radprof_errors)\n",
    "print(fil.radprof_type)\n",
    "print(fil.radprof_fit_fail_flag)"
   ]
  },
  {
   "cell_type": "markdown",
   "metadata": {},
   "source": [
    "The (possibly) deconvolved FWHM is:"
   ]
  },
  {
   "cell_type": "code",
   "execution_count": 29,
   "metadata": {},
   "outputs": [
    {
     "data": {
      "text/plain": [
       "(<Quantity 0.23351 pc>, <Quantity 0.0003924 pc>)"
      ]
     },
     "execution_count": 29,
     "metadata": {},
     "output_type": "execute_result"
    }
   ],
   "source": [
    "fil.radprof_fwhm(u.pc)"
   ]
  },
  {
   "cell_type": "markdown",
   "metadata": {},
   "source": [
    "The first element is the FWHM and the second is the error.\n",
    "\n",
    "Note that the fit has correctly recovered the model parameters set at the beginning.\n",
    "\n",
    "An astropy table can be returned with the complete fit results:"
   ]
  },
  {
   "cell_type": "code",
   "execution_count": 31,
   "metadata": {},
   "outputs": [
    {
     "data": {
      "text/html": [
       "<i>Table length=1</i>\n",
       "<table id=\"table139730248615360\" class=\"table-striped table-bordered table-condensed\">\n",
       "<thead><tr><th>amplitude_0</th><th>amplitude_0_err</th><th>stddev_0</th><th>stddev_0_err</th><th>amplitude_1</th><th>amplitude_1_err</th><th>fwhm</th><th>fwhm_err</th><th>fail_flag</th><th>model_type</th></tr></thead>\n",
       "<thead><tr><th></th><th></th><th></th><th></th><th></th><th></th><th>pc</th><th>pc</th><th></th><th></th></tr></thead>\n",
       "<thead><tr><th>float64</th><th>float64</th><th>float64</th><th>float64</th><th>float64</th><th>float64</th><th>float64</th><th>float64</th><th>bool</th><th>str12</th></tr></thead>\n",
       "<tr><td>1.0007855625803985</td><td>0.0018964160055463767</td><td>9.99775856017537</td><td>0.01652780418619165</td><td>0.09998652036316304</td><td>0.0005949451821499358</td><td>0.2335099973611502</td><td>0.00039239889215719536</td><td>False</td><td>gaussian_bkg</td></tr>\n",
       "</table>"
      ],
      "text/plain": [
       "<Table length=1>\n",
       "   amplitude_0        amplitude_0_err    ... fail_flag  model_type \n",
       "                                         ...                       \n",
       "     float64              float64        ...    bool      str12    \n",
       "------------------ --------------------- ... --------- ------------\n",
       "1.0007855625803985 0.0018964160055463767 ...     False gaussian_bkg"
      ]
     },
     "execution_count": 31,
     "metadata": {},
     "output_type": "execute_result"
    }
   ],
   "source": [
    "fil.radprof_fit_table(unit=u.pc)"
   ]
  },
  {
   "cell_type": "markdown",
   "metadata": {},
   "source": [
    "And finally the fit model itself can be accessed with:"
   ]
  },
  {
   "cell_type": "code",
   "execution_count": 32,
   "metadata": {},
   "outputs": [
    {
     "data": {
      "text/plain": [
       "<CompoundModel3(amplitude_0=1.00078556, mean_0=0., stddev_0=9.99775856, amplitude_1=0.09998652)>"
      ]
     },
     "execution_count": 32,
     "metadata": {},
     "output_type": "execute_result"
    }
   ],
   "source": [
    "fil.radprof_model"
   ]
  },
  {
   "cell_type": "markdown",
   "metadata": {},
   "source": [
    "The radial profile can be returned as an astropy table with `fil.radprof_table(xunit=u.pc)`."
   ]
  },
  {
   "cell_type": "markdown",
   "metadata": {},
   "source": [
    "Other Outputs\n",
    "---------------\n",
    "\n",
    "The total intensity of the filament within the FWHM is:"
   ]
  },
  {
   "cell_type": "code",
   "execution_count": 33,
   "metadata": {},
   "outputs": [
    {
     "data": {
      "text/latex": [
       "$3497.8689 \\; \\mathrm{K}$"
      ],
      "text/plain": [
       "<Quantity 3497.86892972 K>"
      ]
     },
     "execution_count": 33,
     "metadata": {},
     "output_type": "execute_result"
    }
   ],
   "source": [
    "fil.total_intensity()"
   ]
  },
  {
   "cell_type": "markdown",
   "metadata": {},
   "source": [
    "And with the fitted background removed:"
   ]
  },
  {
   "cell_type": "code",
   "execution_count": 34,
   "metadata": {},
   "outputs": [
    {
     "data": {
      "text/latex": [
       "$3112.3209 \\; \\mathrm{K}$"
      ],
      "text/plain": [
       "<Quantity 3112.3209072 K>"
      ]
     },
     "execution_count": 34,
     "metadata": {},
     "output_type": "execute_result"
    }
   ],
   "source": [
    "fil.total_intensity(bkg_subtract=True)"
   ]
  },
  {
   "cell_type": "markdown",
   "metadata": {},
   "source": [
    "The model image from the radial profile fit:"
   ]
  },
  {
   "cell_type": "code",
   "execution_count": 35,
   "metadata": {},
   "outputs": [
    {
     "data": {
      "text/plain": [
       "<matplotlib.colorbar.Colorbar at 0x7f157bd1ad68>"
      ]
     },
     "execution_count": 35,
     "metadata": {},
     "output_type": "execute_result"
    },
    {
     "data": {
      "image/png": "[encoded data removed]",
      "text/plain": [
       "<matplotlib.figure.Figure at 0x7f157be38630>"
      ]
     },
     "metadata": {},
     "output_type": "display_data"
    }
   ],
   "source": [
    "plt.imshow(fil.model_image(), origin='lower')\n",
    "plt.colorbar()"
   ]
  },
  {
   "cell_type": "markdown",
   "metadata": {},
   "source": [
    "By default, the background level is subtraced. Without the subtraction:"
   ]
  },
  {
   "cell_type": "code",
   "execution_count": 36,
   "metadata": {},
   "outputs": [
    {
     "data": {
      "text/plain": [
       "<matplotlib.colorbar.Colorbar at 0x7f157b3434a8>"
      ]
     },
     "execution_count": 36,
     "metadata": {},
     "output_type": "execute_result"
    },
    {
     "data": {
      "image/png": "[encoded data removed]",
      "text/plain": [
       "<matplotlib.figure.Figure at 0x7f157bd2c3c8>"
      ]
     },
     "metadata": {},
     "output_type": "display_data"
    }
   ],
   "source": [
    "plt.imshow(fil.model_image(bkg_subtract=False), origin='lower')\n",
    "plt.colorbar()"
   ]
  },
  {
   "cell_type": "markdown",
   "metadata": {},
   "source": [
    "The median along the skeleton:"
   ]
  },
  {
   "cell_type": "code",
   "execution_count": 40,
   "metadata": {},
   "outputs": [
    {
     "data": {
      "text/plain": [
       "1.1"
      ]
     },
     "execution_count": 40,
     "metadata": {},
     "output_type": "execute_result"
    }
   ],
   "source": [
    "fil.median_brightness(filfind.image)"
   ]
  },
  {
   "cell_type": "markdown",
   "metadata": {},
   "source": [
    "This is consistent with the max of the model image:"
   ]
  },
  {
   "cell_type": "code",
   "execution_count": 41,
   "metadata": {},
   "outputs": [
    {
     "data": {
      "text/latex": [
       "$1.1 \\; \\mathrm{K}$"
      ],
      "text/plain": [
       "<Quantity 1.1 K>"
      ]
     },
     "execution_count": 41,
     "metadata": {},
     "output_type": "execute_result"
    }
   ],
   "source": [
    "filfind.image.max()"
   ]
  },
  {
   "cell_type": "markdown",
   "metadata": {},
   "source": [
    "The profile along the longest path skeleton:"
   ]
  },
  {
   "cell_type": "code",
   "execution_count": 43,
   "metadata": {},
   "outputs": [
    {
     "data": {
      "text/plain": [
       "[<matplotlib.lines.Line2D at 0x7f157bd30978>]"
      ]
     },
     "execution_count": 43,
     "metadata": {},
     "output_type": "execute_result"
    },
    {
     "data": {
      "image/png": "[encoded data removed]",
      "text/plain": [
       "<matplotlib.figure.Figure at 0x7f157bb3b160>"
      ]
     },
     "metadata": {},
     "output_type": "display_data"
    }
   ],
   "source": [
    "plt.plot(fil.ridge_profile(filfind.image))"
   ]
  },
  {
   "cell_type": "markdown",
   "metadata": {},
   "source": [
    "In this case, the ridge is constant in the model.\n",
    "\n",
    "One feature that is not included in `FilFinder2D` is `Filament2D.profile_analysis`, which creates a set of profiles perpendicular to the longest path skeleton. This is useful for measuring filament properties as a function of position, rather than creating a single radial profile:"
   ]
  },
  {
   "cell_type": "code",
   "execution_count": 58,
   "metadata": {},
   "outputs": [
    {
     "data": {
      "text/plain": [
       "Text(0.5,0,'Distance from skeleton (pc)')"
      ]
     },
     "execution_count": 58,
     "metadata": {},
     "output_type": "execute_result"
    },
    {
     "data": {
      "image/png": "[encoded data removed]",
      "text/plain": [
       "<matplotlib.figure.Figure at 0x7f1579053ef0>"
      ]
     },
     "metadata": {},
     "output_type": "display_data"
    }
   ],
   "source": [
    "profs = fil.profile_analysis(filfind.image, xunit=u.pc, max_dist=30 * u.pix)\n",
    "for dist, prof in zip(profs[0], profs[1]):\n",
    "    plt.plot(dist, prof)\n",
    "plt.ylabel(\"Amplitude\")\n",
    "plt.xlabel(\"Distance from skeleton (pc)\")"
   ]
  },
  {
   "cell_type": "markdown",
   "metadata": {},
   "source": [
    "Plotted here are all of the radial profiles. For this model, however, they are all the same. Fitting of the radial profiles is not included in `Filament2D` due to the complexity that some radial slices can show in real filaments. See a dedicated package for this type of analysis, such as [radfil](https://github.com/catherinezucker/radfil).\n",
    "\n",
    "Saving the Output\n",
    "--------------------\n",
    "\n",
    "A FITS file can be saved with a stamp of the image, skeleton, longest path skeleton, and the filament model:"
   ]
  },
  {
   "cell_type": "code",
   "execution_count": 66,
   "metadata": {},
   "outputs": [],
   "source": [
    "fil.save_fits(\"filament_stamp.fits\", filfind.image)"
   ]
  },
  {
   "cell_type": "markdown",
   "metadata": {},
   "source": [
    "Saving a `Filament2D` object\n",
    "--------------------------------\n",
    "\n",
    "The object can be saved and loaded as a pickle file:"
   ]
  },
  {
   "cell_type": "code",
   "execution_count": 67,
   "metadata": {},
   "outputs": [],
   "source": [
    "fil.to_pickle('filament.pkl')"
   ]
  },
  {
   "cell_type": "code",
   "execution_count": 70,
   "metadata": {},
   "outputs": [
    {
     "data": {
      "text/latex": [
       "$149 \\; \\mathrm{pix}$"
      ],
      "text/plain": [
       "<Quantity 149. pix>"
      ]
     },
     "execution_count": 70,
     "metadata": {},
     "output_type": "execute_result"
    }
   ],
   "source": [
    "loaded_fil = Filament2D.from_pickle('filament.pkl')\n",
    "loaded_fil.length()"
   ]
  }
 ],
 "metadata": {
  "kernelspec": {
   "display_name": "Python 3",
   "language": "python",
   "name": "python3"
  },
  "language_info": {
   "codemirror_mode": {
    "name": "ipython",
    "version": 3
   },
   "file_extension": ".py",
   "mimetype": "text/x-python",
   "name": "python",
   "nbconvert_exporter": "python",
   "pygments_lexer": "ipython3",
   "version": "3.6.4"
  }
 },
 "nbformat": 4,
 "nbformat_minor": 2
}
