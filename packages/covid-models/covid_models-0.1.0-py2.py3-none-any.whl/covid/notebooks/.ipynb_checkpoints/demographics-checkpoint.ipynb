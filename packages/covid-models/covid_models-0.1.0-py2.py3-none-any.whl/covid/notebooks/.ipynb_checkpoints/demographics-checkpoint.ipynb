{
 "cells": [
  {
   "cell_type": "markdown",
   "metadata": {
    "pycharm": {
     "name": "#%% md\n"
    }
   },
   "source": [
    "# Brazilian age distribution"
   ]
  },
  {
   "cell_type": "code",
   "execution_count": 32,
   "metadata": {
    "pycharm": {
     "is_executing": false,
     "name": "#%%\n"
    }
   },
   "outputs": [
    {
     "data": {
      "text/plain": [
       "age\n",
       "0-4      14475\n",
       "5-9      14602\n",
       "10-14    14942\n",
       "15-19    16218\n",
       "20-24    17152\n",
       "25-29    16953\n",
       "30-34    17148\n",
       "35-39    17329\n",
       "40-44    15661\n",
       "45-49    13801\n",
       "50-54    12823\n",
       "55-59    11598\n",
       "60-64     9468\n",
       "65-69     7429\n",
       "70-74     5309\n",
       "75-79     3492\n",
       "80-84     2317\n",
       "85-89     1175\n",
       "90-94      511\n",
       "95-99      135\n",
       "100+        21\n",
       "Name: 12638, dtype: int64"
      ]
     },
     "execution_count": 32,
     "metadata": {},
     "output_type": "execute_result"
    }
   ],
   "source": [
    "from covid import data\n",
    "\n",
    "df = data.cia_factbook('age distribution')\n",
    "data = df[(df.region == 'Brazil') & (df.ref_date == 2020)]\n",
    "data = data.loc[:, '0-4':].T\n",
    "data.index.name = 'age'\n",
    "data = data.iloc[:, 0].apply(int)\n",
    "data"
   ]
  },
  {
   "cell_type": "code",
   "execution_count": 27,
   "metadata": {
    "pycharm": {
     "is_executing": false,
     "name": "#%%\n"
    }
   },
   "outputs": [
    {
     "data": {
      "text/plain": [
       "age\n",
       "0-4      14475\n",
       "5-9      14602\n",
       "10-14    14942\n",
       "15-19    16218\n",
       "20-24    17152\n",
       "25-29    16953\n",
       "30-34    17148\n",
       "35-39    17329\n",
       "40-44    15661\n",
       "45-49    13801\n",
       "50-54    12823\n",
       "55-59    11598\n",
       "60-64     9468\n",
       "65-69     7429\n",
       "70-74     5309\n",
       "75-79     3492\n",
       "80-84     2317\n",
       "85-89     1175\n",
       "90-94      511\n",
       "95-99      135\n",
       "100+        21\n",
       "Name: population, dtype: int64"
      ]
     },
     "execution_count": 27,
     "metadata": {},
     "output_type": "execute_result"
    }
   ],
   "source": [
    "\n"
   ]
  },
  {
   "cell_type": "code",
   "execution_count": null,
   "metadata": {
    "pycharm": {
     "is_executing": false,
     "name": "#%%\n"
    }
   },
   "outputs": [],
   "source": []
  },
  {
   "cell_type": "markdown",
   "metadata": {},
   "source": [
    "\n"
   ]
  }
 ],
 "metadata": {
  "kernelspec": {
   "display_name": "Python 3",
   "language": "python",
   "name": "python3"
  },
  "language_info": {
   "codemirror_mode": {
    "name": "ipython",
    "version": 3
   },
   "file_extension": ".py",
   "mimetype": "text/x-python",
   "name": "python",
   "nbconvert_exporter": "python",
   "pygments_lexer": "ipython3",
   "version": "3.8.1"
  },
  "pycharm": {
   "stem_cell": {
    "cell_type": "raw",
    "metadata": {
     "collapsed": false
    },
    "source": []
   }
  }
 },
 "nbformat": 4,
 "nbformat_minor": 1
}
