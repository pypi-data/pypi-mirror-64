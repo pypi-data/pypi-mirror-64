{
 "cells": [
  {
   "cell_type": "code",
   "execution_count": 6,
   "metadata": {},
   "outputs": [],
   "source": [
    "from covid.models.rseicha import RSEICHA\n",
    "import covid\n",
    "import pandas as pd\n",
    "import matplotlib.pyplot as plt\n",
    "import numpy as np\n",
    "from covid.utils import pm, pc"
   ]
  },
  {
   "cell_type": "code",
   "execution_count": 7,
   "metadata": {},
   "outputs": [],
   "source": [
    "# Parameters\n",
    "region_name = 'Brazil'\n",
    "seed = 2000\n",
    "i18n = 'pt-BR'"
   ]
  },
  {
   "cell_type": "code",
   "execution_count": 8,
   "metadata": {},
   "outputs": [],
   "source": [
    "# Derived variables\n",
    "region = covid.Region(region_name)\n",
    "covid.set_i18n(i18n)"
   ]
  },
  {
   "cell_type": "markdown",
   "metadata": {
    "variables": {
     " region ": "Brazil",
     "-region-": "<p><strong>SyntaxError</strong>: invalid syntax (<ipython-input-9-5394e6ad6aa7>, line 1)</p>\n"
    }
   },
   "source": [
    "# Relatório de propagação do COVID-19: {{ region }}\n",
    "\n",
    "Covid-19 é uma ameaça global, XXX.\n",
    "\n",
    "Este relatório faz uma previsão da velocidade de alastramento da epidemia de COVID-19 e do impacto desta no sistema de saúde. Fazemos algumas recomendações de ações para conter ou diminuir a velocidade de alastramento do vírus, além de recomendações sobre o tempo ideal para realizar as intervenções.\n",
    "\n",
    "A simulação possui algumas limitações e incertezas, principalmente porque ainda não conhecemos com muita precisão alguns parâmetros epidemiológicos e clínicos da doença. Alguns destes fatores possuem enorme impacto sobre o resultado final. Dependendo do caso, pequenas variações destes parâmetros podem afetar bastante o resultado das simulações.  "
   ]
  },
  {
   "cell_type": "markdown",
   "metadata": {
    "variables": {
     " region ": "Brazil",
     " region.population_size ": "212559000"
    }
   },
   "source": [
    "## Características básicas da região\n",
    "\n",
    "**Nome:** {{ region }}<br>\n",
    "**População:** {{ region.population_size }}<br>\n",
    "**Leitos de enfermaria:** {{ region.population_size }}<br>\n",
    "**Leitos de UTI:** {{ region.population_size }}<br>\n",
    "**Ocupação enfermaria:** {{ region.population_size }}<br>\n",
    "**Ocupação UTI:** {{ region.population_size }}<br>\n"
   ]
  },
  {
   "cell_type": "markdown",
   "metadata": {},
   "source": [
    "## Simulação referência"
   ]
  },
  {
   "cell_type": "code",
   "execution_count": 9,
   "metadata": {
    "hideOutput": false
   },
   "outputs": [
    {
     "name": "stdout",
     "output_type": "stream",
     "text": [
      "\n",
      "SIMULATION PARAMETERS (RSEICHA)\n",
      "\n",
      "Parameters\n",
      "- R0                : 2.74\n",
      "- P(is symptomatic) : 14.00%\n",
      "\n",
      "\n",
      "SIMULATION RESULTS (RSEICHA)\n",
      "\n",
      "Demography\n",
      "- Total population   : 212.56mi\n",
      "- Recovered          : 115.19mi (54.19%)\n",
      "- Fatalities (total) : 1.67mi (0.79%)\n",
      "- Infected (max)     : 16.36mi (7.70%)\n",
      "- Asymptomatic (max) : 100.50mi (47.28%)\n",
      "- Exposed (max)      : 116.86mi (54.98%)\n",
      "        \n",
      "\n",
      "Epidemiology\n",
      "- R0   : 2.74\n",
      "- IFR  : 1.43%\n",
      "- CFR  : 10.21%\n",
      "- HFR  : 28.09%\n",
      "- HCFR : 265.01%\n",
      "\n",
      "\n",
      "Healthcare parameters\n",
      "- Hosp. days         : 19.62mi\n",
      "- ICU days           : 11.03mi\n",
      "- Peak hosp. demand  : 0.77mi (3.66‰)\n",
      "    x surge capacity : 7.95\n",
      "    x total          : 1.59\n",
      "- Peak ICU demand    : 0.27mi (1.28‰)\n",
      "    x surge capacity : 27.72\n",
      "    x total          : 5.54\n",
      "- Hosp. collapse day : 35.40 days (2020-04-28)\n",
      "- ICU collapse day   : 33.40 days (2020-04-26)\n",
      "\n",
      "\n",
      "Invariants\n",
      "- Sum of compartments: 212.56mi (2.17e-14%)\n",
      "\n"
     ]
    }
   ],
   "source": [
    "model = RSEICHA(region=region, seed=seed)\n",
    "model.run()\n",
    "print(model)"
   ]
  },
  {
   "cell_type": "code",
   "execution_count": 10,
   "metadata": {},
   "outputs": [
    {
     "data": {
      "text/plain": [
       "212559000"
      ]
     },
     "execution_count": 10,
     "metadata": {},
     "output_type": "execute_result"
    }
   ],
   "source": [
    "region.population_size"
   ]
  },
  {
   "cell_type": "code",
   "execution_count": 11,
   "metadata": {},
   "outputs": [
    {
     "data": {
      "text/html": [
       "<div>\n",
       "<style scoped>\n",
       "    .dataframe tbody tr th:only-of-type {\n",
       "        vertical-align: middle;\n",
       "    }\n",
       "\n",
       "    .dataframe tbody tr th {\n",
       "        vertical-align: top;\n",
       "    }\n",
       "\n",
       "    .dataframe thead th {\n",
       "        text-align: right;\n",
       "    }\n",
       "</style>\n",
       "<table border=\"1\" class=\"dataframe\">\n",
       "  <thead>\n",
       "    <tr style=\"text-align: right;\">\n",
       "      <th></th>\n",
       "      <th>Name</th>\n",
       "      <th>Items/day</th>\n",
       "      <th>Total</th>\n",
       "    </tr>\n",
       "  </thead>\n",
       "  <tbody>\n",
       "    <tr>\n",
       "      <th>0</th>\n",
       "      <td>Mask</td>\n",
       "      <td>25</td>\n",
       "      <td>766389350</td>\n",
       "    </tr>\n",
       "    <tr>\n",
       "      <th>1</th>\n",
       "      <td>Mask N95</td>\n",
       "      <td>1</td>\n",
       "      <td>30655574</td>\n",
       "    </tr>\n",
       "    <tr>\n",
       "      <th>2</th>\n",
       "      <td>Avental impermeável</td>\n",
       "      <td>25</td>\n",
       "      <td>766389350</td>\n",
       "    </tr>\n",
       "    <tr>\n",
       "      <th>3</th>\n",
       "      <td>Glove</td>\n",
       "      <td>50</td>\n",
       "      <td>1532778700</td>\n",
       "    </tr>\n",
       "    <tr>\n",
       "      <th>4</th>\n",
       "      <td>Faceshield</td>\n",
       "      <td>1</td>\n",
       "      <td>30655574</td>\n",
       "    </tr>\n",
       "  </tbody>\n",
       "</table>\n",
       "</div>"
      ],
      "text/plain": [
       "                  Name  Items/day       Total\n",
       "0                 Mask         25   766389350\n",
       "1             Mask N95          1    30655574\n",
       "2  Avental impermeável         25   766389350\n",
       "3                Glove         50  1532778700\n",
       "4           Faceshield          1    30655574"
      ]
     },
     "execution_count": 11,
     "metadata": {},
     "output_type": "execute_result"
    }
   ],
   "source": [
    "model.health_resources()"
   ]
  },
  {
   "cell_type": "code",
   "execution_count": 12,
   "metadata": {},
   "outputs": [],
   "source": [
    "import pnad"
   ]
  },
  {
   "cell_type": "code",
   "execution_count": 13,
   "metadata": {},
   "outputs": [],
   "source": [
    "df = pnad.load(2012, fields=['age', 'V0102', 'V0103'])"
   ]
  },
  {
   "cell_type": "code",
   "execution_count": 14,
   "metadata": {},
   "outputs": [
    {
     "data": {
      "text/html": [
       "<div>\n",
       "<style scoped>\n",
       "    .dataframe tbody tr th:only-of-type {\n",
       "        vertical-align: middle;\n",
       "    }\n",
       "\n",
       "    .dataframe tbody tr th {\n",
       "        vertical-align: top;\n",
       "    }\n",
       "\n",
       "    .dataframe thead th {\n",
       "        text-align: right;\n",
       "    }\n",
       "</style>\n",
       "<table border=\"1\" class=\"dataframe\">\n",
       "  <thead>\n",
       "    <tr style=\"text-align: right;\">\n",
       "      <th></th>\n",
       "      <th>age</th>\n",
       "      <th>V0102</th>\n",
       "      <th>V0103</th>\n",
       "    </tr>\n",
       "  </thead>\n",
       "  <tbody>\n",
       "    <tr>\n",
       "      <th>0</th>\n",
       "      <td>48.0</td>\n",
       "      <td>11000015</td>\n",
       "      <td>2</td>\n",
       "    </tr>\n",
       "    <tr>\n",
       "      <th>1</th>\n",
       "      <td>48.0</td>\n",
       "      <td>11000015</td>\n",
       "      <td>2</td>\n",
       "    </tr>\n",
       "    <tr>\n",
       "      <th>2</th>\n",
       "      <td>23.0</td>\n",
       "      <td>11000015</td>\n",
       "      <td>2</td>\n",
       "    </tr>\n",
       "    <tr>\n",
       "      <th>3</th>\n",
       "      <td>21.0</td>\n",
       "      <td>11000015</td>\n",
       "      <td>2</td>\n",
       "    </tr>\n",
       "    <tr>\n",
       "      <th>4</th>\n",
       "      <td>54.0</td>\n",
       "      <td>11000015</td>\n",
       "      <td>3</td>\n",
       "    </tr>\n",
       "    <tr>\n",
       "      <th>...</th>\n",
       "      <td>...</td>\n",
       "      <td>...</td>\n",
       "      <td>...</td>\n",
       "    </tr>\n",
       "    <tr>\n",
       "      <th>362446</th>\n",
       "      <td>51.0</td>\n",
       "      <td>53002130</td>\n",
       "      <td>14</td>\n",
       "    </tr>\n",
       "    <tr>\n",
       "      <th>362447</th>\n",
       "      <td>53.0</td>\n",
       "      <td>53002130</td>\n",
       "      <td>14</td>\n",
       "    </tr>\n",
       "    <tr>\n",
       "      <th>362448</th>\n",
       "      <td>21.0</td>\n",
       "      <td>53002130</td>\n",
       "      <td>14</td>\n",
       "    </tr>\n",
       "    <tr>\n",
       "      <th>362449</th>\n",
       "      <td>19.0</td>\n",
       "      <td>53002130</td>\n",
       "      <td>14</td>\n",
       "    </tr>\n",
       "    <tr>\n",
       "      <th>362450</th>\n",
       "      <td>40.0</td>\n",
       "      <td>53002130</td>\n",
       "      <td>15</td>\n",
       "    </tr>\n",
       "  </tbody>\n",
       "</table>\n",
       "<p>362451 rows × 3 columns</p>\n",
       "</div>"
      ],
      "text/plain": [
       "         age     V0102  V0103\n",
       "0       48.0  11000015      2\n",
       "1       48.0  11000015      2\n",
       "2       23.0  11000015      2\n",
       "3       21.0  11000015      2\n",
       "4       54.0  11000015      3\n",
       "...      ...       ...    ...\n",
       "362446  51.0  53002130     14\n",
       "362447  53.0  53002130     14\n",
       "362448  21.0  53002130     14\n",
       "362449  19.0  53002130     14\n",
       "362450  40.0  53002130     15\n",
       "\n",
       "[362451 rows x 3 columns]"
      ]
     },
     "execution_count": 14,
     "metadata": {},
     "output_type": "execute_result"
    }
   ],
   "source": [
    "df"
   ]
  },
  {
   "cell_type": "code",
   "execution_count": 15,
   "metadata": {},
   "outputs": [],
   "source": [
    "from pnad.enums import State, Gender"
   ]
  },
  {
   "cell_type": "code",
   "execution_count": 16,
   "metadata": {},
   "outputs": [],
   "source": [
    "State.to_category(State.DF)"
   ]
  },
  {
   "cell_type": "code",
   "execution_count": 17,
   "metadata": {},
   "outputs": [
    {
     "data": {
      "text/plain": [
       "'MALE'"
      ]
     },
     "execution_count": 17,
     "metadata": {},
     "output_type": "execute_result"
    }
   ],
   "source": []
  },
  {
   "cell_type": "code",
   "execution_count": null,
   "metadata": {},
   "outputs": [],
   "source": []
  }
 ],
 "metadata": {
  "kernelspec": {
   "display_name": "Python 3",
   "language": "python",
   "name": "python3"
  },
  "language_info": {
   "codemirror_mode": {
    "name": "ipython",
    "version": 3
   },
   "file_extension": ".py",
   "mimetype": "text/x-python",
   "name": "python",
   "nbconvert_exporter": "python",
   "pygments_lexer": "ipython3",
   "version": "3.8.1"
  }
 },
 "nbformat": 4,
 "nbformat_minor": 2
}
