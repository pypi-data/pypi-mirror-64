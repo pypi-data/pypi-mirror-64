{
 "cells": [
  {
   "cell_type": "code",
   "execution_count": 1,
   "metadata": {},
   "outputs": [],
   "source": [
    "import ondemand_dask"
   ]
  },
  {
   "cell_type": "code",
   "execution_count": 3,
   "metadata": {},
   "outputs": [],
   "source": [
    "cluster_name = 'dask-test'\n",
    "image_name = 'dask-build'\n",
    "project = 'project'\n",
    "cpu = 1\n",
    "ram = 2048\n",
    "zone = 'asia-southeast1-a'\n",
    "worker_size = 2\n",
    "graceful_delete = 60\n",
    "webhook = 'https://hooks.slack.com/services/'"
   ]
  },
  {
   "cell_type": "code",
   "execution_count": 4,
   "metadata": {},
   "outputs": [
    {
     "name": "stderr",
     "output_type": "stream",
     "text": [
      "/usr/local/lib/python3.7/site-packages/google/auth/_default.py:69: UserWarning: Your application has authenticated using end user credentials from Google Cloud SDK. We recommend that most server applications use service accounts instead. If your application continues to use end user credentials from Cloud SDK, you might receive a \"quota exceeded\" or \"API not enabled\" error. For more information about service accounts, see https://cloud.google.com/docs/authentication/\n",
      "  warnings.warn(_CLOUD_SDK_CREDENTIALS_WARNING)\n"
     ]
    },
    {
     "name": "stdout",
     "output_type": "stream",
     "text": [
      "Waiting instance `dask-test` to run.\n",
      "Done.\n",
      "35.247.140.249 10.148.0.119 done.\n",
      "Waiting Dask cluster to run.\n",
      "Done.\n",
      "CPU times: user 316 ms, sys: 59.1 ms, total: 375 ms\n",
      "Wall time: 1min 35s\n"
     ]
    },
    {
     "data": {
      "text/plain": [
       "{'ip': '35.247.140.249', 'internal_ip': '10.148.0.119'}"
      ]
     },
     "execution_count": 4,
     "metadata": {},
     "output_type": "execute_result"
    }
   ],
   "source": [
    "%%time\n",
    "\n",
    "ondemand_dask.spawn(cluster_name = cluster_name,\n",
    "                   image_name = image_name,\n",
    "                   project = project,\n",
    "                   cpu = cpu,\n",
    "                   ram = ram,\n",
    "                   zone = zone,\n",
    "                   worker_size = worker_size,\n",
    "                   graceful_delete = graceful_delete,\n",
    "                   webhook = webhook)"
   ]
  },
  {
   "cell_type": "code",
   "execution_count": null,
   "metadata": {},
   "outputs": [],
   "source": []
  }
 ],
 "metadata": {
  "kernelspec": {
   "display_name": "Python 3",
   "language": "python",
   "name": "python3"
  },
  "language_info": {
   "codemirror_mode": {
    "name": "ipython",
    "version": 3
   },
   "file_extension": ".py",
   "mimetype": "text/x-python",
   "name": "python",
   "nbconvert_exporter": "python",
   "pygments_lexer": "ipython3",
   "version": "3.7.5"
  }
 },
 "nbformat": 4,
 "nbformat_minor": 2
}
