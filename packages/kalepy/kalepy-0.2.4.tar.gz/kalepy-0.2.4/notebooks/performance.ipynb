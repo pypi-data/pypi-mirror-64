{
 "cells": [
  {
   "cell_type": "code",
   "execution_count": 1,
   "metadata": {
    "ExecuteTime": {
     "end_time": "2020-03-25T16:31:48.961428Z",
     "start_time": "2020-03-25T16:31:47.749076Z"
    }
   },
   "outputs": [],
   "source": [
    "# %load init.ipy\n",
    "import os, sys, logging, datetime\n",
    "from importlib import reload\n",
    "\n",
    "import numpy as np\n",
    "import scipy as sp\n",
    "import scipy.stats\n",
    "import matplotlib as mpl\n",
    "import matplotlib.pyplot as plt\n",
    "from nose import tools\n",
    "\n",
    "import corner\n",
    "import tqdm.notebook as tqdm\n",
    "import memory_profiler as mpro\n",
    "\n",
    "import kalepy as kale\n",
    "from kalepy.utils import nbshow\n",
    "\n",
    "# NOTE: This is for when the notebook is converted to a python script\n",
    "def get_ipython():\n",
    "    return type('Dummy', (object,), dict(run_line_magic=lambda *args, **kwargs: None))\n",
    "\n",
    "%reload_ext autoreload\n",
    "%autoreload 2\n"
   ]
  },
  {
   "cell_type": "markdown",
   "metadata": {},
   "source": [
    "# Utilities"
   ]
  },
  {
   "cell_type": "markdown",
   "metadata": {},
   "source": [
    "## bound_indices()"
   ]
  },
  {
   "cell_type": "code",
   "execution_count": 2,
   "metadata": {
    "ExecuteTime": {
     "end_time": "2020-03-25T16:31:48.969134Z",
     "start_time": "2020-03-25T16:31:48.963459Z"
    }
   },
   "outputs": [],
   "source": [
    "def the_func(func, shp=(3, 1000)):\n",
    "    data = np.random.uniform(-1.0, 1.0, shp)\n",
    "    ndim = shp[0]\n",
    "    bnds = np.sort(np.random.uniform(-1.0, 1.0, (ndim, 2)), axis=-1)\n",
    "    idx = func(data, bnds)\n",
    "    return"
   ]
  },
  {
   "cell_type": "code",
   "execution_count": 3,
   "metadata": {
    "ExecuteTime": {
     "end_time": "2020-03-25T16:31:48.978341Z",
     "start_time": "2020-03-25T16:31:48.974311Z"
    }
   },
   "outputs": [],
   "source": [
    "%timeit the_func(kale.utils.bound_indices, shp=(1, 1000))"
   ]
  },
  {
   "cell_type": "code",
   "execution_count": 4,
   "metadata": {
    "ExecuteTime": {
     "end_time": "2020-03-25T16:31:48.985304Z",
     "start_time": "2020-03-25T16:31:48.981330Z"
    }
   },
   "outputs": [],
   "source": [
    "%timeit the_func(kale.utils._bound_indices, shp=(1, 1000))"
   ]
  },
  {
   "cell_type": "markdown",
   "metadata": {},
   "source": [
    "# Resampling"
   ]
  },
  {
   "cell_type": "code",
   "execution_count": 5,
   "metadata": {
    "ExecuteTime": {
     "end_time": "2020-03-25T16:32:38.485319Z",
     "start_time": "2020-03-25T16:31:48.988177Z"
    }
   },
   "outputs": [
    {
     "data": {
      "application/vnd.jupyter.widget-view+json": {
       "model_id": "2db2325e5af947819855719366951785",
       "version_major": 2,
       "version_minor": 0
      },
      "text/plain": [
       "HBox(children=(IntProgress(value=0, max=15), HTML(value='')))"
      ]
     },
     "metadata": {},
     "output_type": "display_data"
    },
    {
     "name": "stdout",
     "output_type": "stream",
     "text": [
      "\n"
     ]
    }
   ],
   "source": [
    "data_shape = (7, 607)\n",
    "# num_samples = 3.5e6\n",
    "num_trials = 7\n",
    "\n",
    "num_samples = np.logspace(0, 6, 15)\n",
    "\n",
    "data = np.random.lognormal(size=data_shape)\n",
    "reflect = [[0.0, None] for ii in range(data_shape[0])]\n",
    "\n",
    "weights = np.random.uniform(size=data_shape[1])\n",
    "\n",
    "\n",
    "kde = kale.KDE(data, weights=weights, diagonal=True, bw_rescale=0.2)\n",
    "durs = np.zeros((num_samples.size, num_trials))\n",
    "mems = np.zeros_like(durs)\n",
    "\n",
    "for ii, num in enumerate(tqdm.tqdm(num_samples)):\n",
    "    for jj in range(num_trials):\n",
    "        beg = datetime.datetime.now()\n",
    "        def func():\n",
    "            kde.resample(int(num), reflect=reflect)\n",
    "            return\n",
    "        \n",
    "        mem_usage = mpro.memory_usage(func)\n",
    "        temp = datetime.datetime.now() - beg\n",
    "        temp = temp.total_seconds()\n",
    "        durs[ii, jj] = temp        \n",
    "        mems[ii, jj] = np.max(mem_usage)\n",
    "        "
   ]
  },
  {
   "cell_type": "code",
   "execution_count": 6,
   "metadata": {
    "ExecuteTime": {
     "end_time": "2020-03-25T16:33:21.850431Z",
     "start_time": "2020-03-25T16:32:38.491442Z"
    },
    "scrolled": false
   },
   "outputs": [
    {
     "data": {
      "application/vnd.jupyter.widget-view+json": {
       "model_id": "0665e9970b264ca59e0ae1fb46c5a116",
       "version_major": 2,
       "version_minor": 0
      },
      "text/plain": [
       "HBox(children=(IntProgress(value=0, max=15), HTML(value='')))"
      ]
     },
     "metadata": {},
     "output_type": "display_data"
    },
    {
     "name": "stdout",
     "output_type": "stream",
     "text": [
      " 0: 1.00e+00 ==> t = 8.09e-02 [s], m = 1.29e+02 [MB]\n",
      " 1: 2.68e+00 ==> t = 7.13e-02 [s], m = 1.29e+02 [MB]\n",
      " 2: 7.20e+00 ==> t = 9.10e-02 [s], m = 1.20e+02 [MB]\n",
      " 3: 1.93e+01 ==> t = 8.87e-02 [s], m = 1.19e+02 [MB]\n",
      " 4: 5.18e+01 ==> t = 8.58e-02 [s], m = 1.20e+02 [MB]\n",
      " 5: 1.39e+02 ==> t = 1.00e-01 [s], m = 1.22e+02 [MB]\n",
      " 6: 3.73e+02 ==> t = 1.05e-01 [s], m = 1.28e+02 [MB]\n",
      " 7: 1.00e+03 ==> t = 1.92e-01 [s], m = 1.38e+02 [MB]\n",
      " 8: 2.68e+03 ==> t = 2.54e-01 [s], m = 1.38e+02 [MB]\n",
      " 9: 7.20e+03 ==> t = 2.54e-01 [s], m = 1.38e+02 [MB]\n",
      "10: 1.93e+04 ==> t = 2.47e-01 [s], m = 1.40e+02 [MB]\n",
      "11: 5.18e+04 ==> t = 3.06e-01 [s], m = 1.51e+02 [MB]\n",
      "12: 1.39e+05 ==> t = 4.84e-01 [s], m = 1.54e+02 [MB]\n",
      "13: 3.73e+05 ==> t = 1.02e+00 [s], m = 1.68e+02 [MB]\n",
      "14: 1.00e+06 ==> t = 2.78e+00 [s], m = 1.99e+02 [MB]\n",
      "\n"
     ]
    }
   ],
   "source": [
    "data_shape = (7, 607)\n",
    "# num_samples = 3.5e6\n",
    "num_trials = 7\n",
    "\n",
    "num_samples = np.logspace(0, 6, 15)\n",
    "# num_samples = np.array([1.00000000e+00, 2.68269580e+00, 7.19685673e+00, 1.93069773e+01,\n",
    "#        5.17947468e+01, 1.38949549e+02, 3.72759372e+02, 1.00000000e+03,\n",
    "#        2.68269580e+03, 7.19685673e+03, 1.93069773e+04, 5.17947468e+04,\n",
    "#        1.38949549e+05])\n",
    "\n",
    "data = np.random.lognormal(size=data_shape)\n",
    "\n",
    "reflect = [[0.0, None] for ii in range(data_shape[0])]\n",
    "\n",
    "weights = np.random.uniform(size=data_shape[1])\n",
    "\n",
    "\n",
    "kde = kale.KDE(data, weights=weights, diagonal=True, bw_rescale=0.2)\n",
    "durs_chunk = np.zeros((num_samples.size, num_trials))\n",
    "mems_chunk = np.zeros_like(durs_chunk)\n",
    "\n",
    "for ii, num in enumerate(tqdm.tqdm(num_samples)):\n",
    "    for jj in range(num_trials):\n",
    "        beg = datetime.datetime.now()\n",
    "        def func():\n",
    "            kde.resample(int(num), reflect=reflect)\n",
    "            return\n",
    "        \n",
    "        mem_usage = mpro.memory_usage(func)\n",
    "        temp = datetime.datetime.now() - beg\n",
    "        temp = temp.total_seconds()\n",
    "        durs_chunk[ii, jj] = temp        \n",
    "        mems_chunk[ii, jj] = np.max(mem_usage)\n",
    "        \n",
    "    print(\"{:2d}: {:.2e} ==> t = {:.2e} [s], m = {:.2e} [MB]\".format(\n",
    "        ii, num, np.mean(durs_chunk[ii]), np.mean(mems_chunk[ii])))"
   ]
  },
  {
   "cell_type": "code",
   "execution_count": 7,
   "metadata": {
    "ExecuteTime": {
     "end_time": "2020-03-25T16:33:24.693271Z",
     "start_time": "2020-03-25T16:33:21.852809Z"
    }
   },
   "outputs": [
    {
     "data": {
      "image/png": "[encoded data removed]",
      "text/plain": [
       "<Figure size 432x576 with 4 Axes>"
      ]
     },
     "metadata": {
      "needs_background": "light"
     },
     "output_type": "display_data"
    }
   ],
   "source": [
    "fig, axes = plt.subplots(figsize=[6, 8], nrows=2, sharex=True)\n",
    "for ax in axes:\n",
    "    ax.set(xscale='log', yscale='log')\n",
    "    ax.grid(alpha=0.2)\n",
    "\n",
    "xx = num_samples\n",
    "values = [durs, mems]\n",
    "value_names = ['time [s]', 'mem [MB]']\n",
    "funcs = [np.median, np.mean]\n",
    "func_names = ['med', 'ave']\n",
    "lines = ['--', ':']\n",
    "\n",
    "norms = [1.0, num_samples]\n",
    "colors = ['r', 'b']\n",
    "norm_names = ['-', 'N']\n",
    "\n",
    "for ii, (ax, vals, vname) in enumerate(zip(axes, values, value_names)):\n",
    "    ax.set_ylabel(vname, color=colors[0])\n",
    "    tw = ax.twinx()\n",
    "    tw.set_yscale('log')\n",
    "    tw.set_ylabel(vname + ' / num', color=colors[1])\n",
    "    \n",
    "    use_axes = [ax, tw]\n",
    "    for jj, (func, fname, ls) in enumerate(zip(funcs, func_names, lines)):\n",
    "        \n",
    "        for kk, (norm, nname, cc, art) in enumerate(zip(norms, norm_names, colors, use_axes)):\n",
    "            norm = np.atleast_2d(norm).T\n",
    "            yy = func(vals/norm, axis=-1)\n",
    "            name = fname + ' ' + nname\n",
    "            art.plot(xx, yy, color=cc, ls=ls, label=name)\n",
    "\n",
    "axes[1].legend()\n",
    "nbshow()"
   ]
  },
  {
   "cell_type": "code",
   "execution_count": 8,
   "metadata": {
    "ExecuteTime": {
     "end_time": "2020-03-25T16:33:28.613061Z",
     "start_time": "2020-03-25T16:33:24.697641Z"
    }
   },
   "outputs": [
    {
     "data": {
      "image/png": "[encoded data removed]",
      "text/plain": [
       "<Figure size 432x576 with 4 Axes>"
      ]
     },
     "metadata": {
      "needs_background": "light"
     },
     "output_type": "display_data"
    }
   ],
   "source": [
    "fig, axes = plt.subplots(figsize=[6, 8], nrows=2, sharex=True)\n",
    "for ax in axes:\n",
    "    ax.set(xscale='log', yscale='log')\n",
    "    ax.grid(alpha=0.2)\n",
    "\n",
    "xx = num_samples\n",
    "values = [durs_chunk, mems_chunk]\n",
    "\n",
    "value_names = ['time [s]', 'mem [MB]']\n",
    "funcs = [np.median, np.mean]\n",
    "func_names = ['med', 'ave']\n",
    "lines = ['--', ':']\n",
    "\n",
    "norms = [1.0, num_samples]\n",
    "colors = ['r', 'b']\n",
    "norm_names = ['-', 'N']\n",
    "\n",
    "for ii, (ax, vals, vname) in enumerate(zip(axes, values, value_names)):\n",
    "    ax.set_ylabel(vname, color=colors[0])\n",
    "    tw = ax.twinx()\n",
    "    tw.set_yscale('log')\n",
    "    tw.set_ylabel(vname + ' / num', color=colors[1])\n",
    "    \n",
    "    use_axes = [ax, tw]\n",
    "    for jj, (func, fname, ls) in enumerate(zip(funcs, func_names, lines)):\n",
    "        \n",
    "        for kk, (norm, nname, cc, art) in enumerate(zip(norms, norm_names, colors, use_axes)):\n",
    "            norm = np.atleast_2d(norm).T\n",
    "            yy = func(vals/norm, axis=-1)\n",
    "            name = fname + ' ' + nname\n",
    "            art.plot(xx, yy, color=cc, ls=ls, label=name)\n",
    "\n",
    "axes[1].legend()\n",
    "nbshow()"
   ]
  },
  {
   "cell_type": "markdown",
   "metadata": {},
   "source": [
    "### Vary Chunk Sizes"
   ]
  },
  {
   "cell_type": "markdown",
   "metadata": {},
   "source": [
    "This is very slow, so currently commented out."
   ]
  },
  {
   "cell_type": "code",
   "execution_count": 9,
   "metadata": {
    "ExecuteTime": {
     "end_time": "2020-03-25T16:33:28.620101Z",
     "start_time": "2020-03-25T16:33:28.616693Z"
    }
   },
   "outputs": [],
   "source": [
    "# data_shape = (7, 607)\n",
    "# # num_samples = 1e6\n",
    "# num_samples = 1e5\n",
    "# num_trials = 5\n",
    "\n",
    "# chunk_sizes = np.logspace(4, 6, 9)\n",
    "\n",
    "# data = np.random.lognormal(size=data_shape)\n",
    "\n",
    "# reflect = [[0.0, None] for ii in range(data_shape[0])]\n",
    "\n",
    "# weights = np.random.uniform(size=data_shape[1])\n",
    "\n",
    "# chunk_durs = np.zeros((chunk_sizes.size, num_trials))\n",
    "# chunk_mems = np.zeros_like(chunk_durs)\n",
    "\n",
    "# for ii, chunk in enumerate(chunk_sizes):\n",
    "\n",
    "#     kde = kale.KDE(data, weights=weights, diagonal=True, bw_rescale=0.2, chunk=chunk)\n",
    "#     for jj in range(num_trials):\n",
    "#         beg = datetime.datetime.now()\n",
    "#         def func():\n",
    "#             kde.resample(int(num_samples), reflect=reflect)\n",
    "#             return\n",
    "\n",
    "#         mem_usage = mpro.memory_usage(func)\n",
    "#         temp = datetime.datetime.now() - beg\n",
    "#         temp = temp.total_seconds()\n",
    "#         chunk_durs[ii, jj] = temp        \n",
    "#         chunk_mems[ii, jj] = np.max(mem_usage)\n",
    "\n",
    "#     print(\"{:2d}: {:.2e} ==> t = {:.2e} [s], m = {:.2e} [MB]\".format(\n",
    "#         ii, chunk, np.mean(chunk_durs[ii]), np.mean(chunk_mems[ii])))"
   ]
  },
  {
   "cell_type": "code",
   "execution_count": 10,
   "metadata": {
    "ExecuteTime": {
     "end_time": "2020-03-25T16:33:28.627139Z",
     "start_time": "2020-03-25T16:33:28.622957Z"
    }
   },
   "outputs": [],
   "source": [
    "# fig, axes = plt.subplots(figsize=[6, 8], nrows=2, sharex=True)\n",
    "# for ax in axes:\n",
    "#     ax.set(xscale='log', yscale='log')\n",
    "#     ax.grid(alpha=0.2)\n",
    "\n",
    "# xx = chunk_sizes\n",
    "# values = [chunk_durs, chunk_mems]\n",
    "\n",
    "# value_names = ['time [s]', 'mem [MB]']\n",
    "# funcs = [np.median, np.mean]\n",
    "# func_names = ['med', 'ave']\n",
    "# lines = ['--', ':']\n",
    "\n",
    "# norms = [1.0, num_samples]\n",
    "# colors = ['r', 'b']\n",
    "# norm_names = ['-', 'N']\n",
    "\n",
    "# for ii, (ax, vals, vname) in enumerate(zip(axes, values, value_names)):\n",
    "#     ax.set_ylabel(vname, color=colors[0])\n",
    "#     tw = ax.twinx()\n",
    "#     tw.set_yscale('log')\n",
    "#     tw.set_ylabel(vname + ' / num', color=colors[1])\n",
    "    \n",
    "#     use_axes = [ax, tw]\n",
    "#     for jj, (func, fname, ls) in enumerate(zip(funcs, func_names, lines)):\n",
    "        \n",
    "#         for kk, (norm, nname, cc, art) in enumerate(zip(norms, norm_names, colors, use_axes)):\n",
    "#             norm = np.atleast_2d(norm).T\n",
    "#             yy = func(vals/norm, axis=-1)\n",
    "#             name = fname + ' ' + nname\n",
    "#             art.plot(xx, yy, color=cc, ls=ls, label=name)\n",
    "\n",
    "# axes[1].legend()\n",
    "# nbshow()"
   ]
  }
 ],
 "metadata": {
  "kernelspec": {
   "display_name": "Python 3",
   "language": "python",
   "name": "python3"
  },
  "language_info": {
   "codemirror_mode": {
    "name": "ipython",
    "version": 3
   },
   "file_extension": ".py",
   "mimetype": "text/x-python",
   "name": "python",
   "nbconvert_exporter": "python",
   "pygments_lexer": "ipython3",
   "version": "3.7.5"
  },
  "toc": {
   "base_numbering": 1,
   "nav_menu": {},
   "number_sections": true,
   "sideBar": false,
   "skip_h1_title": false,
   "title_cell": "Table of Contents",
   "title_sidebar": "Contents",
   "toc_cell": false,
   "toc_position": {},
   "toc_section_display": false,
   "toc_window_display": true
  },
  "varInspector": {
   "cols": {
    "lenName": 16,
    "lenType": 16,
    "lenVar": 40
   },
   "kernels_config": {
    "python": {
     "delete_cmd_postfix": "",
     "delete_cmd_prefix": "del ",
     "library": "var_list.py",
     "varRefreshCmd": "print(var_dic_list())"
    },
    "r": {
     "delete_cmd_postfix": ") ",
     "delete_cmd_prefix": "rm(",
     "library": "var_list.r",
     "varRefreshCmd": "cat(var_dic_list()) "
    }
   },
   "types_to_exclude": [
    "module",
    "function",
    "builtin_function_or_method",
    "instance",
    "_Feature"
   ],
   "window_display": false
  }
 },
 "nbformat": 4,
 "nbformat_minor": 2
}
