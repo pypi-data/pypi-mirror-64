{
  "nbformat": 4,
  "nbformat_minor": 0,
  "metadata": {
    "colab": {
      "name": "GymIgnition.ipynb",
      "provenance": [],
      "collapsed_sections": []
    },
    "kernelspec": {
      "name": "python3",
      "display_name": "Python 3"
    }
  },
  "cells": [
    {
      "cell_type": "markdown",
      "metadata": {
        "id": "eM1VjwzYj6ty",
        "colab_type": "text"
      },
      "source": [
        "# Gym Ignition Example"
      ]
    },
    {
      "cell_type": "markdown",
      "metadata": {
        "id": "OmfdKqSnkBiw",
        "colab_type": "text"
      },
      "source": [
        "## Installation"
      ]
    },
    {
      "cell_type": "code",
      "metadata": {
        "id": "Qzte7pe6jzGF",
        "colab_type": "code",
        "colab": {}
      },
      "source": [
        "# Disable stdout (use output.show() to print it)\n",
        "%%capture --no-stderr output\n",
        "\n",
        "# INSTALL IGNITION LIBRARIES\n",
        "!\\\n",
        "    apt-get -qq update &&\\\n",
        "    echo \"deb http://packages.osrfoundation.org/gazebo/ubuntu-stable `lsb_release -cs` main\" > /etc/apt/sources.list.d/gazebo-stable.list &&\\\n",
        "    wget http://packages.osrfoundation.org/gazebo.key -O - | apt-key add - &&\\\n",
        "    apt update &&\\\n",
        "    apt install -y ignition-citadel"
      ],
      "execution_count": 0,
      "outputs": []
    },
    {
      "cell_type": "code",
      "metadata": {
        "id": "xVwacjF22a8x",
        "colab_type": "code",
        "colab": {}
      },
      "source": [
        "%%capture --no-stderr output\n",
        "# INSTALL GYM IGNITION\n",
        "!pip3 install gym-ignition"
      ],
      "execution_count": 0,
      "outputs": []
    },
    {
      "cell_type": "markdown",
      "metadata": {
        "id": "xxFtHW6W44br",
        "colab_type": "text"
      },
      "source": [
        "## CartPole: Random Policy"
      ]
    },
    {
      "cell_type": "code",
      "metadata": {
        "id": "38A4Q2Rmd29V",
        "colab_type": "code",
        "outputId": "a19640f3-ebba-4115-ebd5-7ba509f53c09",
        "colab": {
          "base_uri": "https://localhost:8080/",
          "height": 243
        }
      },
      "source": [
        "%%capture --no-stderr --no-stdout output\n",
        "\n",
        "import gym\n",
        "import gym_ignition\n",
        "from gym_ignition.utils import logger\n",
        "\n",
        "# Set gym verbosity\n",
        "logger.set_level(gym.logger.INFO)\n",
        "#logger.set_level(gym.logger.DEBUG)\n",
        "\n",
        "logger.info(\"Initializing the environment\")\n",
        "\n",
        "# Create the environment\n",
        "# env = gym.make(\"CartPole-v1\")\n",
        "env = gym.make(\"CartPoleDiscrete-Gazebo-v0\")\n",
        "# env = gym.make(\"CartPoleDiscrete-PyBullet-v0\")\n",
        "\n",
        "# Seed the environment\n",
        "env.seed(42)\n",
        "\n",
        "for epoch in range(10):\n",
        "    # Reset the environment\n",
        "    observation = env.reset()\n",
        "\n",
        "    # Initialize returned values\n",
        "    done = False\n",
        "    total_reward = 0\n",
        "\n",
        "    while not done:\n",
        "        # Execute a random action\n",
        "        action = env.action_space.sample()\n",
        "        observation, reward, done, _ = env.step(action)\n",
        "\n",
        "        # Render the environment\n",
        "        # NOTE: You cannot render the environments in Colab\n",
        "        # env.render('human')\n",
        "\n",
        "        # Accumulate the reward\n",
        "        total_reward += reward\n",
        "\n",
        "        # Print the observation\n",
        "        msg = \"\"\n",
        "        for value in observation:\n",
        "            msg += \"\\t%.6f\" % value\n",
        "        logger.debug(msg)\n",
        "\n",
        "    logger.info(\"Total reward for episode #{}: {}\".format(epoch, total_reward))\n",
        "\n",
        "env.close()\n"
      ],
      "execution_count": 3,
      "outputs": [
        {
          "output_type": "stream",
          "text": [
            "INFO: Initializing the environment\n",
            "INFO: Making new env: CartPoleDiscrete-Gazebo-v0\n"
          ],
          "name": "stdout"
        },
        {
          "output_type": "stream",
          "text": [
            "\u001b[33mWARN: This runtime does not support setting the control mode\u001b[0m\n"
          ],
          "name": "stderr"
        },
        {
          "output_type": "stream",
          "text": [
            "INFO: Total reward for episode #0: 384.0\n",
            "INFO: Total reward for episode #1: 630.0\n",
            "INFO: Total reward for episode #2: 413.0\n",
            "INFO: Total reward for episode #3: 132.0\n",
            "INFO: Total reward for episode #4: 189.0\n",
            "INFO: Total reward for episode #5: 199.0\n",
            "INFO: Total reward for episode #6: 226.0\n",
            "INFO: Total reward for episode #7: 585.0\n",
            "INFO: Total reward for episode #8: 534.0\n",
            "INFO: Total reward for episode #9: 105.0\n"
          ],
          "name": "stdout"
        }
      ]
    }
  ]
}