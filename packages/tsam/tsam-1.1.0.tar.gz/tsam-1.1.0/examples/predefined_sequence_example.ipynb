{
 "cells": [
  {
   "cell_type": "markdown",
   "metadata": {},
   "source": [
    "# tsam - 2. Example\n",
    "Example usage of the time series aggregation module (tsam)\n",
    "Date: 29.06.2019\n",
    "\n",
    "Author: Maximilian Hoffmann"
   ]
  },
  {
   "cell_type": "markdown",
   "metadata": {},
   "source": [
    "Import pandas and the relevant time series aggregation class"
   ]
  },
  {
   "cell_type": "code",
   "execution_count": 1,
   "metadata": {},
   "outputs": [],
   "source": [
    "%load_ext autoreload\n",
    "%autoreload 2\n",
    "import copy\n",
    "import os\n",
    "import pandas as pd\n",
    "import matplotlib.pyplot as plt\n",
    "import tsam.timeseriesaggregation as tsam\n",
    "%matplotlib inline"
   ]
  },
  {
   "cell_type": "markdown",
   "metadata": {},
   "source": [
    "### Input data "
   ]
  },
  {
   "cell_type": "markdown",
   "metadata": {},
   "source": [
    "Read in time series from testdata.csv with pandas"
   ]
  },
  {
   "cell_type": "code",
   "execution_count": 2,
   "metadata": {},
   "outputs": [],
   "source": [
    "raw = pd.read_csv('testdata.csv', index_col = 0)"
   ]
  },
  {
   "cell_type": "markdown",
   "metadata": {},
   "source": [
    "Show a slice of the dataset"
   ]
  },
  {
   "cell_type": "code",
   "execution_count": 3,
   "metadata": {},
   "outputs": [
    {
     "data": {
      "text/html": [
       "<div>\n",
       "<style scoped>\n",
       "    .dataframe tbody tr th:only-of-type {\n",
       "        vertical-align: middle;\n",
       "    }\n",
       "\n",
       "    .dataframe tbody tr th {\n",
       "        vertical-align: top;\n",
       "    }\n",
       "\n",
       "    .dataframe thead th {\n",
       "        text-align: right;\n",
       "    }\n",
       "</style>\n",
       "<table border=\"1\" class=\"dataframe\">\n",
       "  <thead>\n",
       "    <tr style=\"text-align: right;\">\n",
       "      <th></th>\n",
       "      <th>GHI</th>\n",
       "      <th>T</th>\n",
       "      <th>Wind</th>\n",
       "      <th>Load</th>\n",
       "    </tr>\n",
       "  </thead>\n",
       "  <tbody>\n",
       "    <tr>\n",
       "      <th>2009-12-31 23:30:00</th>\n",
       "      <td>0</td>\n",
       "      <td>-2.1</td>\n",
       "      <td>7.1</td>\n",
       "      <td>375.478394</td>\n",
       "    </tr>\n",
       "    <tr>\n",
       "      <th>2010-01-01 00:30:00</th>\n",
       "      <td>0</td>\n",
       "      <td>-2.8</td>\n",
       "      <td>8.6</td>\n",
       "      <td>364.541326</td>\n",
       "    </tr>\n",
       "    <tr>\n",
       "      <th>2010-01-01 01:30:00</th>\n",
       "      <td>0</td>\n",
       "      <td>-3.3</td>\n",
       "      <td>9.7</td>\n",
       "      <td>357.416844</td>\n",
       "    </tr>\n",
       "    <tr>\n",
       "      <th>2010-01-01 02:30:00</th>\n",
       "      <td>0</td>\n",
       "      <td>-3.2</td>\n",
       "      <td>9.8</td>\n",
       "      <td>350.191306</td>\n",
       "    </tr>\n",
       "    <tr>\n",
       "      <th>2010-01-01 03:30:00</th>\n",
       "      <td>0</td>\n",
       "      <td>-3.2</td>\n",
       "      <td>9.4</td>\n",
       "      <td>345.161449</td>\n",
       "    </tr>\n",
       "  </tbody>\n",
       "</table>\n",
       "</div>"
      ],
      "text/plain": [
       "                     GHI    T  Wind        Load\n",
       "2009-12-31 23:30:00    0 -2.1   7.1  375.478394\n",
       "2010-01-01 00:30:00    0 -2.8   8.6  364.541326\n",
       "2010-01-01 01:30:00    0 -3.3   9.7  357.416844\n",
       "2010-01-01 02:30:00    0 -3.2   9.8  350.191306\n",
       "2010-01-01 03:30:00    0 -3.2   9.4  345.161449"
      ]
     },
     "execution_count": 3,
     "metadata": {},
     "output_type": "execute_result"
    }
   ],
   "source": [
    "raw.head()"
   ]
  },
  {
   "cell_type": "markdown",
   "metadata": {},
   "source": [
    "Show the shape of the raw input data: 4 types of timeseries (GHI, Temperature, Wind and Load) for every hour in a year"
   ]
  },
  {
   "cell_type": "code",
   "execution_count": 4,
   "metadata": {},
   "outputs": [
    {
     "data": {
      "text/plain": [
       "(8760, 4)"
      ]
     },
     "execution_count": 4,
     "metadata": {},
     "output_type": "execute_result"
    }
   ],
   "source": [
    "raw.shape"
   ]
  },
  {
   "cell_type": "markdown",
   "metadata": {},
   "source": [
    "Create a plot function for the temperature for a visual comparison of the time series"
   ]
  },
  {
   "cell_type": "code",
   "execution_count": 5,
   "metadata": {},
   "outputs": [],
   "source": [
    "def plotTS(data, periodlength, vmin, vmax):\n",
    "    fig, axes = plt.subplots(figsize = [6, 2], dpi = 100, nrows = 1, ncols = 1)\n",
    "    stacked, timeindex = tsam.unstackToPeriods(copy.deepcopy(data), periodlength)\n",
    "    cax = axes.imshow(stacked.values.T, interpolation = 'nearest', vmin = vmin, vmax = vmax)\n",
    "    axes.set_aspect('auto')  \n",
    "    axes.set_ylabel('Hour')\n",
    "    plt.xlabel('Day')\n",
    "\n",
    "    fig.subplots_adjust(right = 1.2)\n",
    "    cbar=plt.colorbar(cax)    \n",
    "    cbar.set_label('Wind [m/s]')"
   ]
  },
  {
   "cell_type": "markdown",
   "metadata": {},
   "source": [
    "Plot an example series - in this case the wind speed"
   ]
  },
  {
   "cell_type": "code",
   "execution_count": 6,
   "metadata": {},
   "outputs": [
    {
     "data": {
      "image/png": "[encoded data removed]",
      "text/plain": [
       "<Figure size 600x200 with 2 Axes>"
      ]
     },
     "metadata": {},
     "output_type": "display_data"
    }
   ],
   "source": [
    "plotTS(raw['Wind'], 24, vmin = raw['Wind'].min(), vmax = raw['Wind'].max())"
   ]
  },
  {
   "cell_type": "markdown",
   "metadata": {},
   "source": [
    "### Hierarchical aggregation"
   ]
  },
  {
   "cell_type": "markdown",
   "metadata": {},
   "source": [
    "Initialize an aggregation class object with hierarchical clustering as method for eight typical days, without any integration of extreme periods. Alternative clusterMethod's are 'averaging','hierarchical' and 'k_medoids'."
   ]
  },
  {
   "cell_type": "code",
   "execution_count": 7,
   "metadata": {},
   "outputs": [],
   "source": [
    "aggregation = tsam.TimeSeriesAggregation(raw, noTypicalPeriods = 8, hoursPerPeriod = 24, \n",
    "                                        clusterMethod = 'hierarchical')"
   ]
  },
  {
   "cell_type": "markdown",
   "metadata": {},
   "source": [
    "Create the typical periods"
   ]
  },
  {
   "cell_type": "code",
   "execution_count": 8,
   "metadata": {},
   "outputs": [],
   "source": [
    "typPeriods = aggregation.createTypicalPeriods()"
   ]
  },
  {
   "cell_type": "code",
   "execution_count": 9,
   "metadata": {},
   "outputs": [
    {
     "data": {
      "text/html": [
       "<div>\n",
       "<style scoped>\n",
       "    .dataframe tbody tr th:only-of-type {\n",
       "        vertical-align: middle;\n",
       "    }\n",
       "\n",
       "    .dataframe tbody tr th {\n",
       "        vertical-align: top;\n",
       "    }\n",
       "\n",
       "    .dataframe thead th {\n",
       "        text-align: right;\n",
       "    }\n",
       "</style>\n",
       "<table border=\"1\" class=\"dataframe\">\n",
       "  <thead>\n",
       "    <tr style=\"text-align: right;\">\n",
       "      <th></th>\n",
       "      <th></th>\n",
       "      <th>GHI</th>\n",
       "      <th>Load</th>\n",
       "      <th>T</th>\n",
       "      <th>Wind</th>\n",
       "    </tr>\n",
       "    <tr>\n",
       "      <th></th>\n",
       "      <th>TimeStep</th>\n",
       "      <th></th>\n",
       "      <th></th>\n",
       "      <th></th>\n",
       "      <th></th>\n",
       "    </tr>\n",
       "  </thead>\n",
       "  <tbody>\n",
       "    <tr>\n",
       "      <th rowspan=\"24\" valign=\"top\">0</th>\n",
       "      <th>0</th>\n",
       "      <td>0.000000</td>\n",
       "      <td>404.749377</td>\n",
       "      <td>-0.662325</td>\n",
       "      <td>3.499451</td>\n",
       "    </tr>\n",
       "    <tr>\n",
       "      <th>1</th>\n",
       "      <td>0.000000</td>\n",
       "      <td>395.399863</td>\n",
       "      <td>-0.956596</td>\n",
       "      <td>4.432638</td>\n",
       "    </tr>\n",
       "    <tr>\n",
       "      <th>2</th>\n",
       "      <td>0.000000</td>\n",
       "      <td>390.974340</td>\n",
       "      <td>-1.054687</td>\n",
       "      <td>3.032858</td>\n",
       "    </tr>\n",
       "    <tr>\n",
       "      <th>3</th>\n",
       "      <td>0.000000</td>\n",
       "      <td>392.521756</td>\n",
       "      <td>-1.250867</td>\n",
       "      <td>2.799561</td>\n",
       "    </tr>\n",
       "    <tr>\n",
       "      <th>4</th>\n",
       "      <td>0.000000</td>\n",
       "      <td>398.377664</td>\n",
       "      <td>-1.447048</td>\n",
       "      <td>2.566264</td>\n",
       "    </tr>\n",
       "    <tr>\n",
       "      <th>5</th>\n",
       "      <td>0.000000</td>\n",
       "      <td>414.254932</td>\n",
       "      <td>-1.152777</td>\n",
       "      <td>1.166484</td>\n",
       "    </tr>\n",
       "    <tr>\n",
       "      <th>6</th>\n",
       "      <td>9.788716</td>\n",
       "      <td>455.350313</td>\n",
       "      <td>-0.858506</td>\n",
       "      <td>1.166484</td>\n",
       "    </tr>\n",
       "    <tr>\n",
       "      <th>7</th>\n",
       "      <td>92.448984</td>\n",
       "      <td>482.055159</td>\n",
       "      <td>-0.171874</td>\n",
       "      <td>1.166484</td>\n",
       "    </tr>\n",
       "    <tr>\n",
       "      <th>8</th>\n",
       "      <td>183.810333</td>\n",
       "      <td>495.591798</td>\n",
       "      <td>0.710939</td>\n",
       "      <td>1.166484</td>\n",
       "    </tr>\n",
       "    <tr>\n",
       "      <th>9</th>\n",
       "      <td>259.944790</td>\n",
       "      <td>504.577214</td>\n",
       "      <td>1.201390</td>\n",
       "      <td>1.166484</td>\n",
       "    </tr>\n",
       "    <tr>\n",
       "      <th>10</th>\n",
       "      <td>315.414180</td>\n",
       "      <td>512.331632</td>\n",
       "      <td>1.888022</td>\n",
       "      <td>1.166484</td>\n",
       "    </tr>\n",
       "    <tr>\n",
       "      <th>11</th>\n",
       "      <td>344.780328</td>\n",
       "      <td>525.716563</td>\n",
       "      <td>3.163196</td>\n",
       "      <td>2.332967</td>\n",
       "    </tr>\n",
       "    <tr>\n",
       "      <th>12</th>\n",
       "      <td>348.043234</td>\n",
       "      <td>526.219365</td>\n",
       "      <td>4.046008</td>\n",
       "      <td>3.499451</td>\n",
       "    </tr>\n",
       "    <tr>\n",
       "      <th>13</th>\n",
       "      <td>323.027626</td>\n",
       "      <td>518.204877</td>\n",
       "      <td>4.830731</td>\n",
       "      <td>3.499451</td>\n",
       "    </tr>\n",
       "    <tr>\n",
       "      <th>14</th>\n",
       "      <td>270.821141</td>\n",
       "      <td>504.061408</td>\n",
       "      <td>3.555557</td>\n",
       "      <td>3.499451</td>\n",
       "    </tr>\n",
       "    <tr>\n",
       "      <th>15</th>\n",
       "      <td>104.412970</td>\n",
       "      <td>495.756509</td>\n",
       "      <td>1.691842</td>\n",
       "      <td>3.499451</td>\n",
       "    </tr>\n",
       "    <tr>\n",
       "      <th>16</th>\n",
       "      <td>57.644661</td>\n",
       "      <td>487.187205</td>\n",
       "      <td>0.710939</td>\n",
       "      <td>2.332967</td>\n",
       "    </tr>\n",
       "    <tr>\n",
       "      <th>17</th>\n",
       "      <td>10.876351</td>\n",
       "      <td>486.376654</td>\n",
       "      <td>0.122397</td>\n",
       "      <td>2.332967</td>\n",
       "    </tr>\n",
       "    <tr>\n",
       "      <th>18</th>\n",
       "      <td>0.000000</td>\n",
       "      <td>491.916143</td>\n",
       "      <td>0.024307</td>\n",
       "      <td>1.166484</td>\n",
       "    </tr>\n",
       "    <tr>\n",
       "      <th>19</th>\n",
       "      <td>0.000000</td>\n",
       "      <td>504.213116</td>\n",
       "      <td>0.318577</td>\n",
       "      <td>2.332967</td>\n",
       "    </tr>\n",
       "    <tr>\n",
       "      <th>20</th>\n",
       "      <td>0.000000</td>\n",
       "      <td>482.362908</td>\n",
       "      <td>0.710939</td>\n",
       "      <td>2.332967</td>\n",
       "    </tr>\n",
       "    <tr>\n",
       "      <th>21</th>\n",
       "      <td>0.000000</td>\n",
       "      <td>474.079682</td>\n",
       "      <td>1.005209</td>\n",
       "      <td>3.499451</td>\n",
       "    </tr>\n",
       "    <tr>\n",
       "      <th>22</th>\n",
       "      <td>0.000000</td>\n",
       "      <td>465.237304</td>\n",
       "      <td>1.005209</td>\n",
       "      <td>2.566264</td>\n",
       "    </tr>\n",
       "    <tr>\n",
       "      <th>23</th>\n",
       "      <td>0.000000</td>\n",
       "      <td>454.799832</td>\n",
       "      <td>1.201390</td>\n",
       "      <td>4.082693</td>\n",
       "    </tr>\n",
       "    <tr>\n",
       "      <th rowspan=\"6\" valign=\"top\">1</th>\n",
       "      <th>0</th>\n",
       "      <td>0.000000</td>\n",
       "      <td>373.805391</td>\n",
       "      <td>11.108509</td>\n",
       "      <td>3.499451</td>\n",
       "    </tr>\n",
       "    <tr>\n",
       "      <th>1</th>\n",
       "      <td>0.000000</td>\n",
       "      <td>361.187666</td>\n",
       "      <td>10.912329</td>\n",
       "      <td>4.665935</td>\n",
       "    </tr>\n",
       "    <tr>\n",
       "      <th>2</th>\n",
       "      <td>0.000000</td>\n",
       "      <td>353.992398</td>\n",
       "      <td>10.519968</td>\n",
       "      <td>2.332967</td>\n",
       "    </tr>\n",
       "    <tr>\n",
       "      <th>3</th>\n",
       "      <td>0.000000</td>\n",
       "      <td>354.040077</td>\n",
       "      <td>9.833336</td>\n",
       "      <td>1.166484</td>\n",
       "    </tr>\n",
       "    <tr>\n",
       "      <th>4</th>\n",
       "      <td>4.350540</td>\n",
       "      <td>362.982148</td>\n",
       "      <td>10.029516</td>\n",
       "      <td>1.166484</td>\n",
       "    </tr>\n",
       "    <tr>\n",
       "      <th>5</th>\n",
       "      <td>40.242499</td>\n",
       "      <td>379.344880</td>\n",
       "      <td>9.931426</td>\n",
       "      <td>1.166484</td>\n",
       "    </tr>\n",
       "    <tr>\n",
       "      <th>...</th>\n",
       "      <th>...</th>\n",
       "      <td>...</td>\n",
       "      <td>...</td>\n",
       "      <td>...</td>\n",
       "      <td>...</td>\n",
       "    </tr>\n",
       "    <tr>\n",
       "      <th rowspan=\"6\" valign=\"top\">6</th>\n",
       "      <th>18</th>\n",
       "      <td>17.402162</td>\n",
       "      <td>455.749087</td>\n",
       "      <td>20.623267</td>\n",
       "      <td>1.166484</td>\n",
       "    </tr>\n",
       "    <tr>\n",
       "      <th>19</th>\n",
       "      <td>0.000000</td>\n",
       "      <td>450.846769</td>\n",
       "      <td>19.151913</td>\n",
       "      <td>1.166484</td>\n",
       "    </tr>\n",
       "    <tr>\n",
       "      <th>20</th>\n",
       "      <td>0.000000</td>\n",
       "      <td>440.933771</td>\n",
       "      <td>18.171010</td>\n",
       "      <td>2.332967</td>\n",
       "    </tr>\n",
       "    <tr>\n",
       "      <th>21</th>\n",
       "      <td>0.000000</td>\n",
       "      <td>437.119412</td>\n",
       "      <td>17.288197</td>\n",
       "      <td>2.332967</td>\n",
       "    </tr>\n",
       "    <tr>\n",
       "      <th>22</th>\n",
       "      <td>0.000000</td>\n",
       "      <td>412.612157</td>\n",
       "      <td>16.699656</td>\n",
       "      <td>3.499451</td>\n",
       "    </tr>\n",
       "    <tr>\n",
       "      <th>23</th>\n",
       "      <td>0.000000</td>\n",
       "      <td>384.034808</td>\n",
       "      <td>15.914933</td>\n",
       "      <td>3.499451</td>\n",
       "    </tr>\n",
       "    <tr>\n",
       "      <th rowspan=\"24\" valign=\"top\">7</th>\n",
       "      <th>0</th>\n",
       "      <td>0.000000</td>\n",
       "      <td>402.764176</td>\n",
       "      <td>1.005209</td>\n",
       "      <td>2.332967</td>\n",
       "    </tr>\n",
       "    <tr>\n",
       "      <th>1</th>\n",
       "      <td>0.000000</td>\n",
       "      <td>390.961336</td>\n",
       "      <td>1.005209</td>\n",
       "      <td>2.332967</td>\n",
       "    </tr>\n",
       "    <tr>\n",
       "      <th>2</th>\n",
       "      <td>0.000000</td>\n",
       "      <td>389.591635</td>\n",
       "      <td>1.103300</td>\n",
       "      <td>2.332967</td>\n",
       "    </tr>\n",
       "    <tr>\n",
       "      <th>3</th>\n",
       "      <td>0.000000</td>\n",
       "      <td>396.743558</td>\n",
       "      <td>1.103300</td>\n",
       "      <td>2.332967</td>\n",
       "    </tr>\n",
       "    <tr>\n",
       "      <th>4</th>\n",
       "      <td>0.000000</td>\n",
       "      <td>404.489307</td>\n",
       "      <td>1.103300</td>\n",
       "      <td>3.499451</td>\n",
       "    </tr>\n",
       "    <tr>\n",
       "      <th>5</th>\n",
       "      <td>0.000000</td>\n",
       "      <td>425.082509</td>\n",
       "      <td>1.201390</td>\n",
       "      <td>3.499451</td>\n",
       "    </tr>\n",
       "    <tr>\n",
       "      <th>6</th>\n",
       "      <td>0.000000</td>\n",
       "      <td>481.110238</td>\n",
       "      <td>1.201390</td>\n",
       "      <td>3.499451</td>\n",
       "    </tr>\n",
       "    <tr>\n",
       "      <th>7</th>\n",
       "      <td>0.000000</td>\n",
       "      <td>519.817311</td>\n",
       "      <td>1.495661</td>\n",
       "      <td>3.499451</td>\n",
       "    </tr>\n",
       "    <tr>\n",
       "      <th>8</th>\n",
       "      <td>22.840337</td>\n",
       "      <td>529.704302</td>\n",
       "      <td>1.691842</td>\n",
       "      <td>3.499451</td>\n",
       "    </tr>\n",
       "    <tr>\n",
       "      <th>9</th>\n",
       "      <td>55.469390</td>\n",
       "      <td>528.442963</td>\n",
       "      <td>1.789932</td>\n",
       "      <td>2.332967</td>\n",
       "    </tr>\n",
       "    <tr>\n",
       "      <th>10</th>\n",
       "      <td>77.222092</td>\n",
       "      <td>531.152025</td>\n",
       "      <td>2.084203</td>\n",
       "      <td>2.332967</td>\n",
       "    </tr>\n",
       "    <tr>\n",
       "      <th>11</th>\n",
       "      <td>88.098444</td>\n",
       "      <td>531.520457</td>\n",
       "      <td>2.378474</td>\n",
       "      <td>2.332967</td>\n",
       "    </tr>\n",
       "    <tr>\n",
       "      <th>12</th>\n",
       "      <td>83.747903</td>\n",
       "      <td>530.553864</td>\n",
       "      <td>2.967015</td>\n",
       "      <td>2.332967</td>\n",
       "    </tr>\n",
       "    <tr>\n",
       "      <th>13</th>\n",
       "      <td>67.433377</td>\n",
       "      <td>528.282587</td>\n",
       "      <td>3.163196</td>\n",
       "      <td>1.166484</td>\n",
       "    </tr>\n",
       "    <tr>\n",
       "      <th>14</th>\n",
       "      <td>97.887159</td>\n",
       "      <td>526.466432</td>\n",
       "      <td>2.967015</td>\n",
       "      <td>1.166484</td>\n",
       "    </tr>\n",
       "    <tr>\n",
       "      <th>15</th>\n",
       "      <td>19.577432</td>\n",
       "      <td>519.652600</td>\n",
       "      <td>1.789932</td>\n",
       "      <td>2.332967</td>\n",
       "    </tr>\n",
       "    <tr>\n",
       "      <th>16</th>\n",
       "      <td>0.000000</td>\n",
       "      <td>519.596251</td>\n",
       "      <td>0.710939</td>\n",
       "      <td>1.166484</td>\n",
       "    </tr>\n",
       "    <tr>\n",
       "      <th>17</th>\n",
       "      <td>0.000000</td>\n",
       "      <td>537.996198</td>\n",
       "      <td>0.122397</td>\n",
       "      <td>2.332967</td>\n",
       "    </tr>\n",
       "    <tr>\n",
       "      <th>18</th>\n",
       "      <td>0.000000</td>\n",
       "      <td>537.835822</td>\n",
       "      <td>-0.073784</td>\n",
       "      <td>3.499451</td>\n",
       "    </tr>\n",
       "    <tr>\n",
       "      <th>19</th>\n",
       "      <td>0.000000</td>\n",
       "      <td>523.878736</td>\n",
       "      <td>-0.956596</td>\n",
       "      <td>2.332967</td>\n",
       "    </tr>\n",
       "    <tr>\n",
       "      <th>20</th>\n",
       "      <td>0.000000</td>\n",
       "      <td>498.981376</td>\n",
       "      <td>-1.250867</td>\n",
       "      <td>3.499451</td>\n",
       "    </tr>\n",
       "    <tr>\n",
       "      <th>21</th>\n",
       "      <td>0.000000</td>\n",
       "      <td>481.023548</td>\n",
       "      <td>-1.741319</td>\n",
       "      <td>3.499451</td>\n",
       "    </tr>\n",
       "    <tr>\n",
       "      <th>22</th>\n",
       "      <td>0.000000</td>\n",
       "      <td>456.516293</td>\n",
       "      <td>-1.839409</td>\n",
       "      <td>3.499451</td>\n",
       "    </tr>\n",
       "    <tr>\n",
       "      <th>23</th>\n",
       "      <td>0.000000</td>\n",
       "      <td>424.306634</td>\n",
       "      <td>-2.133680</td>\n",
       "      <td>3.499451</td>\n",
       "    </tr>\n",
       "  </tbody>\n",
       "</table>\n",
       "<p>192 rows × 4 columns</p>\n",
       "</div>"
      ],
      "text/plain": [
       "                   GHI        Load          T      Wind\n",
       "  TimeStep                                             \n",
       "0 0           0.000000  404.749377  -0.662325  3.499451\n",
       "  1           0.000000  395.399863  -0.956596  4.432638\n",
       "  2           0.000000  390.974340  -1.054687  3.032858\n",
       "  3           0.000000  392.521756  -1.250867  2.799561\n",
       "  4           0.000000  398.377664  -1.447048  2.566264\n",
       "  5           0.000000  414.254932  -1.152777  1.166484\n",
       "  6           9.788716  455.350313  -0.858506  1.166484\n",
       "  7          92.448984  482.055159  -0.171874  1.166484\n",
       "  8         183.810333  495.591798   0.710939  1.166484\n",
       "  9         259.944790  504.577214   1.201390  1.166484\n",
       "  10        315.414180  512.331632   1.888022  1.166484\n",
       "  11        344.780328  525.716563   3.163196  2.332967\n",
       "  12        348.043234  526.219365   4.046008  3.499451\n",
       "  13        323.027626  518.204877   4.830731  3.499451\n",
       "  14        270.821141  504.061408   3.555557  3.499451\n",
       "  15        104.412970  495.756509   1.691842  3.499451\n",
       "  16         57.644661  487.187205   0.710939  2.332967\n",
       "  17         10.876351  486.376654   0.122397  2.332967\n",
       "  18          0.000000  491.916143   0.024307  1.166484\n",
       "  19          0.000000  504.213116   0.318577  2.332967\n",
       "  20          0.000000  482.362908   0.710939  2.332967\n",
       "  21          0.000000  474.079682   1.005209  3.499451\n",
       "  22          0.000000  465.237304   1.005209  2.566264\n",
       "  23          0.000000  454.799832   1.201390  4.082693\n",
       "1 0           0.000000  373.805391  11.108509  3.499451\n",
       "  1           0.000000  361.187666  10.912329  4.665935\n",
       "  2           0.000000  353.992398  10.519968  2.332967\n",
       "  3           0.000000  354.040077   9.833336  1.166484\n",
       "  4           4.350540  362.982148  10.029516  1.166484\n",
       "  5          40.242499  379.344880   9.931426  1.166484\n",
       "...                ...         ...        ...       ...\n",
       "6 18         17.402162  455.749087  20.623267  1.166484\n",
       "  19          0.000000  450.846769  19.151913  1.166484\n",
       "  20          0.000000  440.933771  18.171010  2.332967\n",
       "  21          0.000000  437.119412  17.288197  2.332967\n",
       "  22          0.000000  412.612157  16.699656  3.499451\n",
       "  23          0.000000  384.034808  15.914933  3.499451\n",
       "7 0           0.000000  402.764176   1.005209  2.332967\n",
       "  1           0.000000  390.961336   1.005209  2.332967\n",
       "  2           0.000000  389.591635   1.103300  2.332967\n",
       "  3           0.000000  396.743558   1.103300  2.332967\n",
       "  4           0.000000  404.489307   1.103300  3.499451\n",
       "  5           0.000000  425.082509   1.201390  3.499451\n",
       "  6           0.000000  481.110238   1.201390  3.499451\n",
       "  7           0.000000  519.817311   1.495661  3.499451\n",
       "  8          22.840337  529.704302   1.691842  3.499451\n",
       "  9          55.469390  528.442963   1.789932  2.332967\n",
       "  10         77.222092  531.152025   2.084203  2.332967\n",
       "  11         88.098444  531.520457   2.378474  2.332967\n",
       "  12         83.747903  530.553864   2.967015  2.332967\n",
       "  13         67.433377  528.282587   3.163196  1.166484\n",
       "  14         97.887159  526.466432   2.967015  1.166484\n",
       "  15         19.577432  519.652600   1.789932  2.332967\n",
       "  16          0.000000  519.596251   0.710939  1.166484\n",
       "  17          0.000000  537.996198   0.122397  2.332967\n",
       "  18          0.000000  537.835822  -0.073784  3.499451\n",
       "  19          0.000000  523.878736  -0.956596  2.332967\n",
       "  20          0.000000  498.981376  -1.250867  3.499451\n",
       "  21          0.000000  481.023548  -1.741319  3.499451\n",
       "  22          0.000000  456.516293  -1.839409  3.499451\n",
       "  23          0.000000  424.306634  -2.133680  3.499451\n",
       "\n",
       "[192 rows x 4 columns]"
      ]
     },
     "execution_count": 9,
     "metadata": {},
     "output_type": "execute_result"
    }
   ],
   "source": [
    "typPeriods"
   ]
  },
  {
   "cell_type": "markdown",
   "metadata": {},
   "source": [
    "Show shape of typical periods: 4 types of timeseries for 8*24 hours"
   ]
  },
  {
   "cell_type": "code",
   "execution_count": 10,
   "metadata": {},
   "outputs": [
    {
     "data": {
      "text/plain": [
       "(192, 4)"
      ]
     },
     "execution_count": 10,
     "metadata": {},
     "output_type": "execute_result"
    }
   ],
   "source": [
    "typPeriods.shape"
   ]
  },
  {
   "cell_type": "markdown",
   "metadata": {},
   "source": [
    "Repredict the original time series based on the typical periods"
   ]
  },
  {
   "cell_type": "code",
   "execution_count": 11,
   "metadata": {},
   "outputs": [],
   "source": [
    "predictedPeriods = aggregation.predictOriginalData()"
   ]
  },
  {
   "cell_type": "markdown",
   "metadata": {},
   "source": [
    "Plot the repredicted data"
   ]
  },
  {
   "cell_type": "code",
   "execution_count": 12,
   "metadata": {},
   "outputs": [
    {
     "data": {
      "image/png": "[encoded data removed]",
      "text/plain": [
       "<Figure size 600x200 with 2 Axes>"
      ]
     },
     "metadata": {},
     "output_type": "display_data"
    }
   ],
   "source": [
    "plotTS(predictedPeriods['Wind'], 24, vmin = raw['Wind'].min(), vmax = raw['Wind'].max())"
   ]
  },
  {
   "cell_type": "markdown",
   "metadata": {},
   "source": [
    "### Now cluster the wind time series only"
   ]
  },
  {
   "cell_type": "markdown",
   "metadata": {},
   "source": [
    "Clustering the solar time series only with 8 typical days and hierarchical clustering leads to different typical days in another sequence."
   ]
  },
  {
   "cell_type": "markdown",
   "metadata": {},
   "source": [
    "Isolate wind time series and show first lines of data"
   ]
  },
  {
   "cell_type": "code",
   "execution_count": 13,
   "metadata": {},
   "outputs": [
    {
     "data": {
      "text/html": [
       "<div>\n",
       "<style scoped>\n",
       "    .dataframe tbody tr th:only-of-type {\n",
       "        vertical-align: middle;\n",
       "    }\n",
       "\n",
       "    .dataframe tbody tr th {\n",
       "        vertical-align: top;\n",
       "    }\n",
       "\n",
       "    .dataframe thead th {\n",
       "        text-align: right;\n",
       "    }\n",
       "</style>\n",
       "<table border=\"1\" class=\"dataframe\">\n",
       "  <thead>\n",
       "    <tr style=\"text-align: right;\">\n",
       "      <th></th>\n",
       "      <th>Wind</th>\n",
       "    </tr>\n",
       "  </thead>\n",
       "  <tbody>\n",
       "    <tr>\n",
       "      <th>2009-12-31 23:30:00</th>\n",
       "      <td>7.1</td>\n",
       "    </tr>\n",
       "    <tr>\n",
       "      <th>2010-01-01 00:30:00</th>\n",
       "      <td>8.6</td>\n",
       "    </tr>\n",
       "    <tr>\n",
       "      <th>2010-01-01 01:30:00</th>\n",
       "      <td>9.7</td>\n",
       "    </tr>\n",
       "    <tr>\n",
       "      <th>2010-01-01 02:30:00</th>\n",
       "      <td>9.8</td>\n",
       "    </tr>\n",
       "    <tr>\n",
       "      <th>2010-01-01 03:30:00</th>\n",
       "      <td>9.4</td>\n",
       "    </tr>\n",
       "  </tbody>\n",
       "</table>\n",
       "</div>"
      ],
      "text/plain": [
       "                     Wind\n",
       "2009-12-31 23:30:00   7.1\n",
       "2010-01-01 00:30:00   8.6\n",
       "2010-01-01 01:30:00   9.7\n",
       "2010-01-01 02:30:00   9.8\n",
       "2010-01-01 03:30:00   9.4"
      ]
     },
     "execution_count": 13,
     "metadata": {},
     "output_type": "execute_result"
    }
   ],
   "source": [
    "raw_wind=raw.loc[:,'Wind'].to_frame()\n",
    "raw_wind.head()"
   ]
  },
  {
   "cell_type": "markdown",
   "metadata": {},
   "source": [
    "Now same clustering procedure as above for the isolated wind time series"
   ]
  },
  {
   "cell_type": "code",
   "execution_count": 14,
   "metadata": {},
   "outputs": [],
   "source": [
    "aggregation_wind = tsam.TimeSeriesAggregation(raw_wind, noTypicalPeriods = 8, hoursPerPeriod = 24, \n",
    "                                        clusterMethod = 'hierarchical')"
   ]
  },
  {
   "cell_type": "code",
   "execution_count": 15,
   "metadata": {},
   "outputs": [],
   "source": [
    "typPeriods_wind = aggregation_wind.createTypicalPeriods()"
   ]
  },
  {
   "cell_type": "markdown",
   "metadata": {},
   "source": [
    "Export for preprocess time series for testing"
   ]
  },
  {
   "cell_type": "code",
   "execution_count": 16,
   "metadata": {},
   "outputs": [],
   "source": [
    "aggregation_wind.normalizedPeriodlyProfiles.to_csv(os.path.join('results','preprocessed_wind.csv'))"
   ]
  },
  {
   "cell_type": "code",
   "execution_count": 17,
   "metadata": {},
   "outputs": [
    {
     "data": {
      "text/plain": [
       "(192, 1)"
      ]
     },
     "execution_count": 17,
     "metadata": {},
     "output_type": "execute_result"
    }
   ],
   "source": [
    "typPeriods_wind.shape"
   ]
  },
  {
   "cell_type": "code",
   "execution_count": 18,
   "metadata": {},
   "outputs": [],
   "source": [
    "predictedPeriods_wind = aggregation_wind.predictOriginalData()"
   ]
  },
  {
   "cell_type": "code",
   "execution_count": 19,
   "metadata": {},
   "outputs": [
    {
     "data": {
      "image/png": "[encoded data removed]",
      "text/plain": [
       "<Figure size 600x200 with 2 Axes>"
      ]
     },
     "metadata": {},
     "output_type": "display_data"
    }
   ],
   "source": [
    "plotTS(predictedPeriods_wind['Wind'], 24, vmin = raw['Wind'].min(), vmax = raw['Wind'].max())"
   ]
  },
  {
   "cell_type": "markdown",
   "metadata": {},
   "source": [
    "When we compare both plots, we see that 8 typical periods for wind only can better account extreme periods, but the cluster order in general changes"
   ]
  },
  {
   "cell_type": "code",
   "execution_count": 20,
   "metadata": {},
   "outputs": [
    {
     "data": {
      "text/plain": [
       "array([2, 2, 7, 2, 2, 2, 5, 7, 7, 5, 5, 2, 2, 5, 5, 5, 5, 5, 0, 0, 5, 5,\n",
       "       5, 5, 5, 2, 0, 5, 5, 5, 5, 5, 2, 2, 5, 1, 5, 5, 7, 0, 2, 7, 5, 5,\n",
       "       5, 5, 0, 0, 0, 2, 0, 0, 2, 0, 0, 0, 0, 7, 0, 2, 1, 2, 2, 2, 0, 0,\n",
       "       2, 2, 0, 2, 0, 0, 2, 2, 1, 1, 1, 0, 7, 0, 0, 2, 0, 0, 0, 7, 1, 4,\n",
       "       4, 4, 4, 3, 1, 0, 2, 0, 0, 0, 1, 1, 2, 0, 0, 1, 2, 1, 1, 3, 1, 4,\n",
       "       4, 1, 3, 3, 3, 1, 1, 0, 0, 0, 4, 1, 3, 4, 4, 1, 1, 2, 2, 7, 6, 4,\n",
       "       3, 1, 1, 3, 3, 4, 4, 6, 1, 6, 6, 1, 4, 4, 3, 4, 3, 4, 4, 4, 4, 3,\n",
       "       3, 1, 1, 3, 6, 6, 6, 3, 3, 3, 3, 4, 4, 3, 3, 3, 3, 3, 6, 4, 6, 6,\n",
       "       6, 3, 3, 4, 4, 1, 3, 6, 3, 6, 4, 4, 3, 3, 6, 6, 6, 6, 6, 6, 6, 6,\n",
       "       6, 3, 4, 4, 1, 3, 3, 3, 3, 4, 6, 6, 3, 3, 3, 3, 4, 4, 3, 3, 3, 3,\n",
       "       3, 4, 4, 3, 3, 6, 6, 6, 4, 4, 3, 3, 6, 6, 6, 6, 4, 3, 3, 3, 3, 3,\n",
       "       4, 4, 3, 3, 1, 1, 1, 1, 1, 1, 3, 3, 3, 3, 4, 4, 3, 3, 1, 1, 1, 4,\n",
       "       4, 3, 3, 1, 3, 1, 4, 4, 1, 1, 7, 1, 1, 4, 1, 1, 1, 1, 1, 2, 1, 1,\n",
       "       2, 7, 7, 0, 2, 2, 2, 2, 2, 2, 2, 2, 1, 1, 7, 1, 7, 7, 1, 1, 2, 7,\n",
       "       7, 2, 7, 2, 1, 1, 7, 1, 7, 7, 7, 0, 0, 7, 7, 7, 7, 7, 0, 0, 7, 7,\n",
       "       7, 7, 7, 0, 2, 7, 5, 5, 7, 5, 0, 2, 7, 2, 7, 2, 7, 2, 0, 7, 5, 2,\n",
       "       7, 0, 0, 0, 2, 0, 0, 0, 2, 1, 2, 2, 2])"
      ]
     },
     "execution_count": 20,
     "metadata": {},
     "output_type": "execute_result"
    }
   ],
   "source": [
    "aggregation.clusterOrder"
   ]
  },
  {
   "cell_type": "code",
   "execution_count": 21,
   "metadata": {},
   "outputs": [
    {
     "data": {
      "text/plain": [
       "array([0, 1, 1, 0, 0, 1, 3, 2, 2, 3, 1, 1, 1, 1, 1, 1, 7, 3, 6, 6, 4, 1,\n",
       "       4, 1, 1, 1, 5, 4, 0, 1, 0, 3, 1, 1, 4, 5, 2, 7, 6, 2, 1, 3, 0, 1,\n",
       "       1, 5, 7, 6, 5, 0, 5, 5, 0, 2, 5, 1, 2, 6, 5, 0, 4, 0, 1, 3, 3, 1,\n",
       "       4, 1, 2, 0, 2, 2, 1, 1, 5, 2, 2, 3, 5, 2, 2, 4, 1, 3, 4, 3, 7, 7,\n",
       "       7, 2, 2, 2, 7, 3, 4, 1, 5, 1, 3, 5, 4, 3, 2, 3, 4, 1, 2, 2, 2, 6,\n",
       "       2, 5, 2, 2, 2, 7, 7, 5, 3, 2, 1, 2, 6, 7, 3, 3, 2, 1, 4, 6, 1, 2,\n",
       "       2, 6, 7, 2, 4, 7, 7, 1, 2, 2, 2, 6, 2, 2, 7, 2, 2, 2, 2, 2, 3, 2,\n",
       "       5, 2, 2, 2, 6, 6, 2, 6, 2, 7, 7, 2, 7, 2, 3, 2, 2, 6, 2, 2, 7, 2,\n",
       "       2, 2, 7, 2, 7, 6, 6, 6, 3, 6, 7, 6, 6, 2, 2, 2, 2, 2, 6, 6, 2, 2,\n",
       "       2, 2, 3, 7, 2, 6, 2, 7, 2, 2, 7, 2, 2, 7, 6, 2, 2, 6, 3, 5, 1, 0,\n",
       "       3, 7, 2, 7, 3, 2, 7, 7, 2, 3, 3, 6, 2, 2, 6, 6, 6, 7, 7, 7, 7, 2,\n",
       "       5, 3, 2, 3, 3, 2, 2, 4, 3, 7, 6, 2, 5, 3, 7, 2, 7, 7, 3, 2, 7, 7,\n",
       "       6, 2, 3, 7, 6, 7, 6, 7, 2, 2, 6, 2, 1, 1, 5, 3, 6, 3, 3, 1, 4, 3,\n",
       "       4, 2, 6, 1, 0, 0, 0, 0, 4, 1, 0, 1, 1, 3, 2, 5, 2, 6, 5, 5, 1, 6,\n",
       "       6, 4, 5, 4, 2, 2, 5, 7, 6, 2, 3, 7, 2, 6, 6, 2, 2, 2, 7, 5, 5, 7,\n",
       "       6, 6, 6, 1, 1, 6, 5, 1, 2, 5, 5, 1, 5, 0, 1, 1, 1, 5, 6, 6, 5, 1,\n",
       "       2, 6, 6, 2, 3, 2, 2, 5, 0, 1, 0, 1, 1])"
      ]
     },
     "execution_count": 21,
     "metadata": {},
     "output_type": "execute_result"
    }
   ],
   "source": [
    "aggregation_wind.clusterOrder"
   ]
  },
  {
   "cell_type": "markdown",
   "metadata": {},
   "source": [
    "### Predefining cluster sequence"
   ]
  },
  {
   "cell_type": "markdown",
   "metadata": {},
   "source": [
    "tsam offers the option to aggregate input time series for a predefined cluster order. This means that we can take the cluster Order from the wind time series only and set it as input for the aggregation process for all attributes"
   ]
  },
  {
   "cell_type": "code",
   "execution_count": 22,
   "metadata": {},
   "outputs": [],
   "source": [
    "aggregation_predefClusterOrder = tsam.TimeSeriesAggregation(raw, noTypicalPeriods = 8, hoursPerPeriod = 24, \n",
    "                                 clusterMethod = 'hierarchical', \n",
    "                                 predefClusterOrder=aggregation_wind.clusterOrder)"
   ]
  },
  {
   "cell_type": "code",
   "execution_count": 23,
   "metadata": {},
   "outputs": [],
   "source": [
    "typPeriods_predefClusterOrder = aggregation_predefClusterOrder.createTypicalPeriods()"
   ]
  },
  {
   "cell_type": "code",
   "execution_count": 24,
   "metadata": {},
   "outputs": [
    {
     "data": {
      "text/plain": [
       "(192, 4)"
      ]
     },
     "execution_count": 24,
     "metadata": {},
     "output_type": "execute_result"
    }
   ],
   "source": [
    "typPeriods_predefClusterOrder.shape"
   ]
  },
  {
   "cell_type": "markdown",
   "metadata": {},
   "source": [
    "Save typical periods to .csv file"
   ]
  },
  {
   "cell_type": "code",
   "execution_count": 25,
   "metadata": {},
   "outputs": [],
   "source": [
    "typPeriods_predefClusterOrder.to_csv(os.path.join('results','testperiods_predefClusterOrder.csv'))"
   ]
  },
  {
   "cell_type": "code",
   "execution_count": 26,
   "metadata": {},
   "outputs": [],
   "source": [
    "predictedPeriods_predefClusterOrder = aggregation_predefClusterOrder.predictOriginalData()"
   ]
  },
  {
   "cell_type": "markdown",
   "metadata": {},
   "source": [
    "Now we compare the cluster orders"
   ]
  },
  {
   "cell_type": "code",
   "execution_count": 27,
   "metadata": {},
   "outputs": [
    {
     "data": {
      "text/plain": [
       "array([0, 1, 1, 0, 0, 1, 3, 2, 2, 3, 1, 1, 1, 1, 1, 1, 7, 3, 6, 6, 4, 1,\n",
       "       4, 1, 1, 1, 5, 4, 0, 1, 0, 3, 1, 1, 4, 5, 2, 7, 6, 2, 1, 3, 0, 1,\n",
       "       1, 5, 7, 6, 5, 0, 5, 5, 0, 2, 5, 1, 2, 6, 5, 0, 4, 0, 1, 3, 3, 1,\n",
       "       4, 1, 2, 0, 2, 2, 1, 1, 5, 2, 2, 3, 5, 2, 2, 4, 1, 3, 4, 3, 7, 7,\n",
       "       7, 2, 2, 2, 7, 3, 4, 1, 5, 1, 3, 5, 4, 3, 2, 3, 4, 1, 2, 2, 2, 6,\n",
       "       2, 5, 2, 2, 2, 7, 7, 5, 3, 2, 1, 2, 6, 7, 3, 3, 2, 1, 4, 6, 1, 2,\n",
       "       2, 6, 7, 2, 4, 7, 7, 1, 2, 2, 2, 6, 2, 2, 7, 2, 2, 2, 2, 2, 3, 2,\n",
       "       5, 2, 2, 2, 6, 6, 2, 6, 2, 7, 7, 2, 7, 2, 3, 2, 2, 6, 2, 2, 7, 2,\n",
       "       2, 2, 7, 2, 7, 6, 6, 6, 3, 6, 7, 6, 6, 2, 2, 2, 2, 2, 6, 6, 2, 2,\n",
       "       2, 2, 3, 7, 2, 6, 2, 7, 2, 2, 7, 2, 2, 7, 6, 2, 2, 6, 3, 5, 1, 0,\n",
       "       3, 7, 2, 7, 3, 2, 7, 7, 2, 3, 3, 6, 2, 2, 6, 6, 6, 7, 7, 7, 7, 2,\n",
       "       5, 3, 2, 3, 3, 2, 2, 4, 3, 7, 6, 2, 5, 3, 7, 2, 7, 7, 3, 2, 7, 7,\n",
       "       6, 2, 3, 7, 6, 7, 6, 7, 2, 2, 6, 2, 1, 1, 5, 3, 6, 3, 3, 1, 4, 3,\n",
       "       4, 2, 6, 1, 0, 0, 0, 0, 4, 1, 0, 1, 1, 3, 2, 5, 2, 6, 5, 5, 1, 6,\n",
       "       6, 4, 5, 4, 2, 2, 5, 7, 6, 2, 3, 7, 2, 6, 6, 2, 2, 2, 7, 5, 5, 7,\n",
       "       6, 6, 6, 1, 1, 6, 5, 1, 2, 5, 5, 1, 5, 0, 1, 1, 1, 5, 6, 6, 5, 1,\n",
       "       2, 6, 6, 2, 3, 2, 2, 5, 0, 1, 0, 1, 1])"
      ]
     },
     "execution_count": 27,
     "metadata": {},
     "output_type": "execute_result"
    }
   ],
   "source": [
    "aggregation_wind.clusterOrder"
   ]
  },
  {
   "cell_type": "code",
   "execution_count": 28,
   "metadata": {},
   "outputs": [
    {
     "data": {
      "text/plain": [
       "array([0, 1, 1, 0, 0, 1, 3, 2, 2, 3, 1, 1, 1, 1, 1, 1, 7, 3, 6, 6, 4, 1,\n",
       "       4, 1, 1, 1, 5, 4, 0, 1, 0, 3, 1, 1, 4, 5, 2, 7, 6, 2, 1, 3, 0, 1,\n",
       "       1, 5, 7, 6, 5, 0, 5, 5, 0, 2, 5, 1, 2, 6, 5, 0, 4, 0, 1, 3, 3, 1,\n",
       "       4, 1, 2, 0, 2, 2, 1, 1, 5, 2, 2, 3, 5, 2, 2, 4, 1, 3, 4, 3, 7, 7,\n",
       "       7, 2, 2, 2, 7, 3, 4, 1, 5, 1, 3, 5, 4, 3, 2, 3, 4, 1, 2, 2, 2, 6,\n",
       "       2, 5, 2, 2, 2, 7, 7, 5, 3, 2, 1, 2, 6, 7, 3, 3, 2, 1, 4, 6, 1, 2,\n",
       "       2, 6, 7, 2, 4, 7, 7, 1, 2, 2, 2, 6, 2, 2, 7, 2, 2, 2, 2, 2, 3, 2,\n",
       "       5, 2, 2, 2, 6, 6, 2, 6, 2, 7, 7, 2, 7, 2, 3, 2, 2, 6, 2, 2, 7, 2,\n",
       "       2, 2, 7, 2, 7, 6, 6, 6, 3, 6, 7, 6, 6, 2, 2, 2, 2, 2, 6, 6, 2, 2,\n",
       "       2, 2, 3, 7, 2, 6, 2, 7, 2, 2, 7, 2, 2, 7, 6, 2, 2, 6, 3, 5, 1, 0,\n",
       "       3, 7, 2, 7, 3, 2, 7, 7, 2, 3, 3, 6, 2, 2, 6, 6, 6, 7, 7, 7, 7, 2,\n",
       "       5, 3, 2, 3, 3, 2, 2, 4, 3, 7, 6, 2, 5, 3, 7, 2, 7, 7, 3, 2, 7, 7,\n",
       "       6, 2, 3, 7, 6, 7, 6, 7, 2, 2, 6, 2, 1, 1, 5, 3, 6, 3, 3, 1, 4, 3,\n",
       "       4, 2, 6, 1, 0, 0, 0, 0, 4, 1, 0, 1, 1, 3, 2, 5, 2, 6, 5, 5, 1, 6,\n",
       "       6, 4, 5, 4, 2, 2, 5, 7, 6, 2, 3, 7, 2, 6, 6, 2, 2, 2, 7, 5, 5, 7,\n",
       "       6, 6, 6, 1, 1, 6, 5, 1, 2, 5, 5, 1, 5, 0, 1, 1, 1, 5, 6, 6, 5, 1,\n",
       "       2, 6, 6, 2, 3, 2, 2, 5, 0, 1, 0, 1, 1])"
      ]
     },
     "execution_count": 28,
     "metadata": {},
     "output_type": "execute_result"
    }
   ],
   "source": [
    "aggregation_predefClusterOrder.clusterOrder"
   ]
  },
  {
   "cell_type": "markdown",
   "metadata": {},
   "source": [
    "As it can be seen, the cluster order for the four attributes (i.e. he sequence of typical days) is no identical to the cluster order of the wind time series clustering. Now the color plots can be compared:"
   ]
  },
  {
   "cell_type": "code",
   "execution_count": 29,
   "metadata": {},
   "outputs": [
    {
     "data": {
      "image/png": "[encoded data removed]",
      "text/plain": [
       "<Figure size 600x200 with 2 Axes>"
      ]
     },
     "metadata": {},
     "output_type": "display_data"
    }
   ],
   "source": [
    "plotTS(predictedPeriods_predefClusterOrder['Wind'], 24, vmin = raw['Wind'].min(), vmax = raw['Wind'].max())"
   ]
  },
  {
   "cell_type": "markdown",
   "metadata": {},
   "source": [
    "As it can be seen, the plot for the aggregated wind time series only and the one for four with the predefined cluster Order from the wind time series still differ from each other. This is because of the fact, that only the cluster Order, but not the cluster centers of each cluster are predefined. Since these are in one case deterined for the wind time series only and in the other case for all four attributes in common, the chosen cluster centers (chosen typical days) differ from each other"
   ]
  },
  {
   "cell_type": "markdown",
   "metadata": {},
   "source": [
    "### Predefining cluster order and cluster centers"
   ]
  },
  {
   "cell_type": "markdown",
   "metadata": {},
   "source": [
    "If the cluster order and the cluster centers should be taken from the wind time series clustering, we pass the information which days where chosen as typical days for the wind time series to the aggregation of all four typical attributes as well"
   ]
  },
  {
   "cell_type": "code",
   "execution_count": 30,
   "metadata": {},
   "outputs": [],
   "source": [
    "aggregation_predefClusterOrderAndClusterCenters = tsam.TimeSeriesAggregation(raw, \n",
    "                                                  noTypicalPeriods = 8, hoursPerPeriod = 24, \n",
    "                                                  clusterMethod = 'hierarchical', \n",
    "                                                  predefClusterOrder=aggregation_wind.clusterOrder,\n",
    "                                                  predefClusterCenterIndices=aggregation_wind.clusterCenterIndices)"
   ]
  },
  {
   "cell_type": "code",
   "execution_count": 31,
   "metadata": {},
   "outputs": [],
   "source": [
    "typPeriods_predefClusterOrderAndClusterCenters = aggregation_predefClusterOrderAndClusterCenters.createTypicalPeriods()"
   ]
  },
  {
   "cell_type": "code",
   "execution_count": 32,
   "metadata": {},
   "outputs": [
    {
     "data": {
      "text/plain": [
       "(192, 4)"
      ]
     },
     "execution_count": 32,
     "metadata": {},
     "output_type": "execute_result"
    }
   ],
   "source": [
    "typPeriods_predefClusterOrderAndClusterCenters.shape"
   ]
  },
  {
   "cell_type": "markdown",
   "metadata": {},
   "source": [
    "Save typical periods to .csv file"
   ]
  },
  {
   "cell_type": "code",
   "execution_count": 33,
   "metadata": {},
   "outputs": [],
   "source": [
    "typPeriods_predefClusterOrderAndClusterCenters.to_csv(os.path.join('results','testperiods_predefClusterOrderAndClusterCenters.csv'))"
   ]
  },
  {
   "cell_type": "code",
   "execution_count": 34,
   "metadata": {},
   "outputs": [],
   "source": [
    "predictedPeriods_predefClusterOrderAndClusterCenters = aggregation_predefClusterOrderAndClusterCenters.predictOriginalData()"
   ]
  },
  {
   "cell_type": "code",
   "execution_count": 35,
   "metadata": {},
   "outputs": [
    {
     "data": {
      "image/png": "[encoded data removed]",
      "text/plain": [
       "<Figure size 600x200 with 2 Axes>"
      ]
     },
     "metadata": {},
     "output_type": "display_data"
    }
   ],
   "source": [
    "plotTS(predictedPeriods_predefClusterOrderAndClusterCenters['Wind'], 24, vmin = raw['Wind'].min(), vmax = raw['Wind'].max())"
   ]
  },
  {
   "cell_type": "markdown",
   "metadata": {},
   "source": [
    "Now even the chosen typical days for the four attributes are the same as for the aggregated wind time series only"
   ]
  },
  {
   "cell_type": "code",
   "execution_count": null,
   "metadata": {},
   "outputs": [],
   "source": []
  }
 ],
 "metadata": {
  "kernelspec": {
   "display_name": "Python 3",
   "language": "python",
   "name": "python3"
  },
  "language_info": {
   "codemirror_mode": {
    "name": "ipython",
    "version": 3
   },
   "file_extension": ".py",
   "mimetype": "text/x-python",
   "name": "python",
   "nbconvert_exporter": "python",
   "pygments_lexer": "ipython3",
   "version": "3.6.5"
  },
  "toc": {
   "base_numbering": 1,
   "nav_menu": {},
   "number_sections": true,
   "sideBar": true,
   "skip_h1_title": true,
   "title_cell": "Table of Contents",
   "title_sidebar": "Contents",
   "toc_cell": false,
   "toc_position": {},
   "toc_section_display": true,
   "toc_window_display": true
  }
 },
 "nbformat": 4,
 "nbformat_minor": 2
}
