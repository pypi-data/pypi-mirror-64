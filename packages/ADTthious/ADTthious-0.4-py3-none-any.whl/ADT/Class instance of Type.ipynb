{
 "cells": [
  {
   "cell_type": "markdown",
   "metadata": {
    "toc": true
   },
   "source": [
    "<h1>Table of Contents<span class=\"tocSkip\"></span></h1>\n",
    "<div class=\"toc\" style=\"margin-top: 1em;\"><ul class=\"toc-item\"></ul></div>"
   ]
  },
  {
   "cell_type": "code",
   "execution_count": 40,
   "metadata": {},
   "outputs": [],
   "source": [
    "\n",
    "class D:\n",
    "    def __init__(self):\n",
    "        self.classvars = {}\n",
    "    def __set_name__(self, cls, name):\n",
    "        self.name = name\n",
    "    def __get__(self, instance, ownerclass):\n",
    "        if instance:\n",
    "            if isinstance(instance, type):\n",
    "                return self.classvars[instance]\n",
    "            return instance.__dict__.get(self.name, None)\n",
    "        return ownerclass.__dict__[self.name]\n",
    "    def __set__(self, instance, val):\n",
    "        if isinstance(instance, type):\n",
    "            self.classvars[instance] = val\n",
    "        else:\n",
    "            instance.__dict__[self.name] = val\n",
    "\n",
    "class Class(type): \n",
    "    def __new__(cls, name, base, clsdict):\n",
    "        for att in clsdict:\n",
    "            if att.startswith('_'): continue\n",
    "            if not isinstance(clsdict[att], D):\n",
    "                raise TypeError(\"Attribute must be of type 'Att'\")\n",
    "        def fset(instance, att, val):\n",
    "            #print(\"%s.__setattr__(fset)\" % type(instance).__name__, instance, att, val)\n",
    "            if not hasattr(type(instance), att):\n",
    "                m = \"Class instance '%s' has no Att '%s'\"\n",
    "                raise AttributeError(m % (instance, att))\n",
    "            super(type(instance), instance).__setattr__(att, val)\n",
    "        clsdict['__setattr__'] = fset\n",
    "        return type.__new__(cls, name, base, clsdict)\n",
    "    \n",
    "    def __setattr__(cls, att, val):\n",
    "        #print(\"Class.__setattr__\", cls, att, val)\n",
    "        if not hasattr(type(cls), att):\n",
    "            m = \"Class type '%s' has no Att '%s'\"\n",
    "            raise AttributeError(m % (cls, att))\n",
    "        super().__setattr__(att, val)"
   ]
  },
  {
   "cell_type": "code",
   "execution_count": 41,
   "metadata": {},
   "outputs": [
    {
     "name": "stdout",
     "output_type": "stream",
     "text": [
      "YT.__setattr__(fset) <class '__main__.Y'> d 1\n",
      "Class.__setattr__ <class '__main__.Y'> d 1\n",
      "YT.__setattr__(fset) <class '__main__.X'> d 2\n",
      "Class.__setattr__ <class '__main__.X'> d 2\n"
     ]
    }
   ],
   "source": [
    "\n",
    "class YT(Class, metaclass=Class):\n",
    "    d = D()\n",
    "    \n",
    "class Y(metaclass=YT): pass\n",
    "class X(metaclass=YT): \n",
    "    a = D()\n",
    "\n",
    "Y.d = 1\n",
    "X.d = 2"
   ]
  },
  {
   "cell_type": "code",
   "execution_count": 42,
   "metadata": {},
   "outputs": [
    {
     "data": {
      "text/plain": [
       "(1, 2)"
      ]
     },
     "execution_count": 42,
     "metadata": {},
     "output_type": "execute_result"
    }
   ],
   "source": [
    "Y.d, X.d"
   ]
  },
  {
   "cell_type": "code",
   "execution_count": 43,
   "metadata": {},
   "outputs": [
    {
     "data": {
      "text/plain": [
       "{__main__.X: 2, __main__.Y: 1}"
      ]
     },
     "execution_count": 43,
     "metadata": {},
     "output_type": "execute_result"
    }
   ],
   "source": [
    "YT.d.classvars"
   ]
  },
  {
   "cell_type": "code",
   "execution_count": 44,
   "metadata": {},
   "outputs": [
    {
     "name": "stdout",
     "output_type": "stream",
     "text": [
      "YT.__setattr__(fset) <class '__main__.Y'> x 12\n",
      "Class instance '<class '__main__.Y'>' has no Att 'x'\n"
     ]
    }
   ],
   "source": [
    "try:\n",
    "    Y.x = 12\n",
    "except AttributeError as e:\n",
    "    print(e)"
   ]
  },
  {
   "cell_type": "code",
   "execution_count": 45,
   "metadata": {},
   "outputs": [
    {
     "name": "stdout",
     "output_type": "stream",
     "text": [
      "Class.__setattr__ <class '__main__.YT'> a 12\n",
      "Class type '<class '__main__.YT'>' has no Att 'a'\n"
     ]
    }
   ],
   "source": [
    "try:\n",
    "    YT.a = 12\n",
    "except AttributeError as e:\n",
    "    print(e)"
   ]
  },
  {
   "cell_type": "code",
   "execution_count": 46,
   "metadata": {},
   "outputs": [
    {
     "name": "stdout",
     "output_type": "stream",
     "text": [
      "Class.__setattr__ <class '__main__.YT'> d 1\n",
      "Class type '<class '__main__.YT'>' has no Att 'd'\n"
     ]
    }
   ],
   "source": [
    "try:\n",
    "    YT.d = 1\n",
    "except AttributeError as e:\n",
    "    print(e)"
   ]
  },
  {
   "cell_type": "code",
   "execution_count": 47,
   "metadata": {},
   "outputs": [
    {
     "name": "stdout",
     "output_type": "stream",
     "text": [
      "X.__setattr__(fset) <__main__.X object at 0x000002A0D828C940> z 12\n",
      "Class instance '<__main__.X object at 0x000002A0D828C940>' has no Att 'z'\n"
     ]
    }
   ],
   "source": [
    "x = X()\n",
    "try:\n",
    "    x.z = 12\n",
    "except AttributeError as e:\n",
    "    print(e)"
   ]
  },
  {
   "cell_type": "code",
   "execution_count": 48,
   "metadata": {},
   "outputs": [
    {
     "name": "stdout",
     "output_type": "stream",
     "text": [
      "X.__setattr__(fset) <__main__.X object at 0x000002A0D828C940> a 12\n"
     ]
    },
    {
     "data": {
      "text/plain": [
       "12"
      ]
     },
     "execution_count": 48,
     "metadata": {},
     "output_type": "execute_result"
    }
   ],
   "source": [
    "x.a = 12\n",
    "x.a"
   ]
  },
  {
   "cell_type": "code",
   "execution_count": 49,
   "metadata": {},
   "outputs": [
    {
     "name": "stdout",
     "output_type": "stream",
     "text": [
      "att must be of type 'D'\n"
     ]
    }
   ],
   "source": [
    "try:\n",
    "    class Z(metaclass=Class):\n",
    "        i = 1\n",
    "except TypeError as e:\n",
    "    print(e)"
   ]
  },
  {
   "cell_type": "code",
   "execution_count": null,
   "metadata": {},
   "outputs": [],
   "source": []
  }
 ],
 "metadata": {
  "kernelspec": {
   "display_name": "Python 3",
   "language": "python",
   "name": "python3"
  },
  "language_info": {
   "codemirror_mode": {
    "name": "ipython",
    "version": 3
   },
   "file_extension": ".py",
   "mimetype": "text/x-python",
   "name": "python",
   "nbconvert_exporter": "python",
   "pygments_lexer": "ipython3",
   "version": "3.6.3"
  },
  "toc": {
   "nav_menu": {},
   "number_sections": true,
   "sideBar": true,
   "skip_h1_title": false,
   "toc_cell": true,
   "toc_position": {},
   "toc_section_display": "block",
   "toc_window_display": true
  }
 },
 "nbformat": 4,
 "nbformat_minor": 2
}
