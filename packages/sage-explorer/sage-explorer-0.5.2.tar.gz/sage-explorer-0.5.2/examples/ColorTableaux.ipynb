{
 "cells": [
  {
   "cell_type": "markdown",
   "metadata": {},
   "source": [
    "# A colored tableau with custom interaction\n",
    "_Removing a cell triggers more removing_"
   ]
  },
  {
   "cell_type": "code",
   "execution_count": null,
   "metadata": {},
   "outputs": [],
   "source": [
    "from sage.combinat.tableau import Tableau\n",
    "t = Tableau([[1,1,1,1,1],[1,1,1,1],[1,1,1],[1,1],[1]])"
   ]
  },
  {
   "cell_type": "code",
   "execution_count": null,
   "metadata": {},
   "outputs": [],
   "source": [
    "from sage_widget_adapters.combinat.tableau_grid_view_adapter import TableauGridViewAdapter\n",
    "class ColorTableauGVAdapter(TableauGridViewAdapter):\n",
    "    @staticmethod\n",
    "    def cell_to_display(cell_content, display_type):\n",
    "        if cell_content:\n",
    "            return False\n",
    "        return True\n",
    "    def display_to_cell(self, display_value, display_type):\n",
    "        if display_value == True:\n",
    "            return 0\n",
    "        return 1\n",
    "    @staticmethod\n",
    "    def addable_cells(obj):\n",
    "        return []\n",
    "    def remove_cell(self, obj, pos, dirty={}):\n",
    "        # We pop all corners from pos to the right end\n",
    "        tl = super(ColorTableauGVAdapter, self).remove_cell(obj, pos, dirty).to_list()\n",
    "        for c in self.removable_cells(obj):\n",
    "            if c[1] > pos[1]:\n",
    "                tl[c[0]].pop()\n",
    "        try:\n",
    "            return self.objclass(tl)\n",
    "        except:\n",
    "            print(\"Cell (%s,%s) cannot be removed from this object!\" % pos)\n",
    "            return obj\n",
    "        \n",
    "cta = ColorTableauGVAdapter()"
   ]
  },
  {
   "cell_type": "code",
   "execution_count": null,
   "metadata": {},
   "outputs": [],
   "source": [
    "%%html\n",
    "<style>.red {background-color: red}\n",
    ".yellow {background-color: yellow}\n",
    "</style>"
   ]
  },
  {
   "cell_type": "code",
   "execution_count": null,
   "metadata": {},
   "outputs": [],
   "source": [
    "from sage_combinat_widgets.grid_view_widget import GridViewWidget, ButtonCell, BlankButton, styled_button_cell\n",
    "from ipywidgets import Layout\n",
    "blyt = Layout(width='25px',height='25px', margin='0', padding='0')\n",
    "w = GridViewWidget(t, cta, cell_layout=blyt, \n",
    "                   cell_widget_classes=[styled_button_cell(style_name=\"red\"), styled_button_cell(style_name=\"yellow\")],\n",
    "                   cell_widget_class_index=lambda x:x[1]%2, # Alternate one red column and one yellow column\n",
    "                   display_convention='fr')\n",
    "w"
   ]
  },
  {
   "cell_type": "markdown",
   "metadata": {},
   "source": [
    "-> Just remove a cell and see what happens"
   ]
  }
 ],
 "metadata": {
  "kernelspec": {
   "display_name": "SageMath 8.9.rc0",
   "language": "sage",
   "name": "sagemath"
  },
  "language_info": {
   "codemirror_mode": {
    "name": "ipython",
    "version": 3
   },
   "file_extension": ".py",
   "mimetype": "text/x-python",
   "name": "python",
   "nbconvert_exporter": "python",
   "pygments_lexer": "ipython3",
   "version": "3.7.3"
  }
 },
 "nbformat": 4,
 "nbformat_minor": 4
}
