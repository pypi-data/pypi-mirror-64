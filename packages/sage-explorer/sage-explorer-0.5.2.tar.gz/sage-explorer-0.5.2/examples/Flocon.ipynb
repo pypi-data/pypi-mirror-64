{
 "cells": [
  {
   "cell_type": "markdown",
   "metadata": {},
   "source": [
    "# Snow Flake\n",
    "_Changing CSS styles_"
   ]
  },
  {
   "cell_type": "code",
   "execution_count": null,
   "metadata": {},
   "outputs": [],
   "source": [
    "from sage.graphs.graph import Graph\n",
    "edges = []\n",
    "up_verts = [(0,18), (0,19), \n",
    "         (1,15), (1,18), (1,19), (1,22),\n",
    "         (2,15), (2,16), (2,18), (2,19), (2,21), (2,22)] \\\n",
    "+ [(3,j) for j in range(16,22)] \\\n",
    "+ [(4,9)] + [(4,j) for j in range(17,21)] + [(4,28)] \\\n",
    "+ [(5,5), (5,9), (5,14), (5,18), (5,19), (5,22), (5,28), (5,31)] \\\n",
    "+ [(6,j) for j in [5,6,9,12,14,15,16,18,19,21,22,28,30,31,32]] \\\n",
    "+ [(7,j) for j in [6 .. 9] + [11,12] + [16 .. 21] + [24,25] + [28 .. 31]] \\\n",
    "+ [(8,j) for j in [7 .. 9] + [11,12] + [17 .. 20] + [24,25] + [ 28 .. 32]] \\\n",
    "+ [(9,j) for j in [4 .. 12] + [15, 18,19,22,25] + [27 .. 33]] \\\n",
    "+ [(10,j) for j in [9 .. 11] + [14,15,16, 18,19,21,22,23] + [25,28]] \\\n",
    "+ [(11,j) for j in [9 .. 12] + [14 .. 23] + [25 .. 30]] \\\n",
    "+ [(12,j) for j in [5 .. 15] + [17,18,19,20] + [22..26] + [28..31]] \\\n",
    "+ [(13,j) for j in [5,6] + [12..15] + [18,19] + [22..26]] \\\n",
    "+ [(14,j) for j in [4,5] + [10..15] +  [18,19] + [22..27] + [31]] \\\n",
    "+ [(15,j) for j in [1,2,5,6] + [9..16] + [18,19] + [21..28] + [30,31] + [35,36]] \\\n",
    "+ [(16,j) for j in [2,3,5,6,10,11] + [15..22] + [26,27,29,30,34,35]] \\\n",
    "+ [(17,j) for j in [3,4,6,7,11,12] + [16..21] + [25,26,29,30,33,34]] \\\n",
    "+ [(18,j) for j in range(38)]\n",
    "\n",
    "down_verts = [(37-pos[0], pos[1]) for pos in up_verts if not pos in [\n",
    "    (6,32), (12,32),(13,27), (16,5),(16,22),(17,21)]]\n",
    "down_verts.reverse()\n",
    "down_verts.append((20,7))\n",
    "down_verts.append((31,7))\n",
    "down_verts.append((32,6))\n",
    "\n",
    "g = Graph([up_verts + down_verts, edges])"
   ]
  },
  {
   "cell_type": "code",
   "execution_count": null,
   "metadata": {},
   "outputs": [],
   "source": [
    "def cell_widget_class_index(pos):\n",
    "    if pos[0]>18:\n",
    "        return cell_widget_class_index((37-pos[0], pos[1]))\n",
    "    if pos[1]==18:\n",
    "        return 1\n",
    "    if pos[0] == 2 and pos[1]!=19:\n",
    "        return 1\n",
    "    if pos[1]==9 and (pos[0] > 2 and pos[0] < 10):\n",
    "        return 1\n",
    "    if pos[0] == 7:\n",
    "        return 1\n",
    "    if pos[0] == 9:\n",
    "        return 1\n",
    "    if pos[0] == 11:\n",
    "        return 1\n",
    "    if pos[0] == 12 and pos[1] in [6,7,8,9,11,12,17,18,19,20,25,30]:\n",
    "        return 1\n",
    "    if pos[0] in [13,14,15] and pos[1] in [13,14,15,23,24]:\n",
    "        return 1\n",
    "    if pos[0] == 16 and pos[1] in [2,6,10,16,21,26,27,30,34,35]:\n",
    "        return 1\n",
    "    if pos[0]>16:\n",
    "        if pos[1] in [4,7,11,17,18,19,20]:\n",
    "            return 1\n",
    "        if (37-pos[1]) in [4,7,11,17,18,19,20]:\n",
    "            return 1\n",
    "    return 0"
   ]
  },
  {
   "cell_type": "code",
   "execution_count": null,
   "metadata": {},
   "outputs": [],
   "source": [
    "%%html\n",
    "<style>\n",
    ".blankb, .lightb, .darkb {width:8px,height:8px, margin:0, padding:0}\n",
    ".blankb {background-color: #fff}\n",
    ".darkb {background-color: #56b4f2}\n",
    ".lightb {background-color: #98cef2}\n",
    "</style>"
   ]
  },
  {
   "cell_type": "code",
   "execution_count": null,
   "metadata": {},
   "outputs": [],
   "source": [
    "from sage_combinat_widgets.grid_view_widget import GridViewWidget, BlankButton, styled_push_button\n",
    "from ipywidgets import Layout\n",
    "smallblyt = Layout(width='8px',height='8px', margin='0', padding='0')\n",
    "LightButton = styled_push_button(disabled=True, style_name='lightb')\n",
    "DarkButton = styled_push_button(disabled=True, style_name='darkb')\n",
    "w = GridViewWidget(g, cell_layout=smallblyt, cell_widget_classes=[LightButton, DarkButton], \n",
    "                   cell_widget_class_index=cell_widget_class_index, blank_widget_class=BlankButton)\n",
    "w"
   ]
  },
  {
   "cell_type": "code",
   "execution_count": null,
   "metadata": {},
   "outputs": [],
   "source": [
    "kk = list(w.cells.keys())\n",
    "for i in range(1000):\n",
    "    cc = []\n",
    "    for j in range(30):\n",
    "        k = floor(random()*len(kk))\n",
    "        c = w.get_child(kk[k])\n",
    "        cc.append(c)\n",
    "    for c in cc:\n",
    "        sleep(0.01)\n",
    "        if 'darkb' in c._dom_classes:\n",
    "            c.remove_class('darkb')\n",
    "            c.add_class('lightb')\n",
    "        elif 'lightb' in c._dom_classes:\n",
    "            c.remove_class('lightb')\n",
    "            c.add_class('blankb')\n",
    "    for c in cc:\n",
    "        sleep(0.01)\n",
    "        if 'lightb' in c._dom_classes:\n",
    "            c.remove_class('lightb')\n",
    "            c.add_class('darkb')\n",
    "        if 'blankb' in c._dom_classes:\n",
    "            c.remove_class('blankb')\n",
    "            c.add_class('lightb')"
   ]
  }
 ],
 "metadata": {
  "kernelspec": {
   "display_name": "SageMath 8.9.rc0",
   "language": "sage",
   "name": "sagemath"
  },
  "language_info": {
   "codemirror_mode": {
    "name": "ipython",
    "version": 3
   },
   "file_extension": ".py",
   "mimetype": "text/x-python",
   "name": "python",
   "nbconvert_exporter": "python",
   "pygments_lexer": "ipython3",
   "version": "3.7.3"
  }
 },
 "nbformat": 4,
 "nbformat_minor": 4
}
