{
 "cells": [
  {
   "cell_type": "markdown",
   "metadata": {},
   "source": [
    "# A widget for representing and composing permutations\n",
    "_Odile Bénassy, Nicolas Thiéry_"
   ]
  },
  {
   "cell_type": "markdown",
   "metadata": {},
   "source": [
    "If we are to represent a permutation in a Sage Combinat Widget's Grid Widget, we need kind of translator or intermediate level called an _adapter_.\n",
    "\n",
    "The _adapter_ below barely computes the cells dictionary."
   ]
  },
  {
   "cell_type": "code",
   "execution_count": null,
   "metadata": {},
   "outputs": [],
   "source": [
    "from sage.combinat.permutation import *\n",
    "from sage_widget_adapters.generic_grid_view_adapter import GridViewAdapter # Base adapter\n",
    "\n",
    "class PermutationGridViewAdapter(GridViewAdapter):\n",
    "    r\"\"\"\n",
    "    Grid view adapter for permutations.\n",
    "\n",
    "    ATTRIBUTES ::\n",
    "\n",
    "        * ``objclass`` -- class of Sage objects\n",
    "        * ``celltype`` -- cell content type\n",
    "        * ``cellzero`` -- cell content zero\n",
    "    \"\"\"\n",
    "    objclass = Permutation\n",
    "    celltype = Integer\n",
    "    cellzero = 0\n",
    "\n",
    "    @staticmethod\n",
    "    def compute_cells(obj):\n",
    "        r\"\"\"\n",
    "        From a permutation,\n",
    "        return a dictionary { coordinates pair : Integer }\n",
    "        \"\"\"\n",
    "        return {(0,i):obj[i] for i in range(len(obj))}\n",
    "\n",
    "pa = PermutationGridViewAdapter()"
   ]
  },
  {
   "cell_type": "markdown",
   "metadata": {},
   "source": [
    "**1. We use this _adapter_ to represent a permutation.**"
   ]
  },
  {
   "cell_type": "code",
   "execution_count": null,
   "metadata": {},
   "outputs": [],
   "source": [
    "from sage_combinat_widgets import GridViewWidget, BlankButton\n",
    "p0 = Permutation([2,3,4,5,1])\n",
    "w = GridViewWidget(p0, pa)\n",
    "w"
   ]
  },
  {
   "cell_type": "markdown",
   "metadata": {},
   "source": [
    "**2. We configure actions on 2 push buttons, one to compose the permutation by itself, the second to go back and browse history.**"
   ]
  },
  {
   "cell_type": "code",
   "execution_count": null,
   "metadata": {},
   "outputs": [],
   "source": [
    "from ipywidgets import Button, HBox, Layout\n",
    "blyt = Layout(width='30px', height='30px')\n",
    "b1 = Button(description='+', layout=blyt)\n",
    "b2 = Button(description='-', layout=blyt)\n",
    "def move(b):\n",
    "    w.value = p0 * w.value\n",
    "b1.on_click(move)\n",
    "def back(b):\n",
    "    w.pop_value()\n",
    "b2.on_click(back)\n",
    "b0 = BlankButton() # just a spacer\n",
    "HBox([w,b0,b2,b1])"
   ]
  }
 ],
 "metadata": {
  "kernelspec": {
   "display_name": "SageMath 8.9.rc0",
   "language": "sage",
   "name": "sagemath"
  },
  "language_info": {
   "codemirror_mode": {
    "name": "ipython",
    "version": 3
   },
   "file_extension": ".py",
   "mimetype": "text/x-python",
   "name": "python",
   "nbconvert_exporter": "python",
   "pygments_lexer": "ipython3",
   "version": "3.7.3"
  }
 },
 "nbformat": 4,
 "nbformat_minor": 4
}
