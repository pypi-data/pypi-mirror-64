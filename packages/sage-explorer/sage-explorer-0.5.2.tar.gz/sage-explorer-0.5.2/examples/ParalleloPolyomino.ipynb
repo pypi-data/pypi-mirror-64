{
 "cells": [
  {
   "cell_type": "markdown",
   "metadata": {
    "slideshow": {
     "slide_type": "slide"
    }
   },
   "source": [
    "# A widget for ParallelogramPolyomino\n",
    "\n",
    "_Henri Derycke_"
   ]
  },
  {
   "cell_type": "markdown",
   "metadata": {},
   "source": [
    "We construct a widget to represent and edit Parallelogram Polyomino."
   ]
  },
  {
   "cell_type": "code",
   "execution_count": null,
   "metadata": {
    "slideshow": {
     "slide_type": "slide"
    }
   },
   "outputs": [],
   "source": [
    "pp = ParallelogramPolyomino.from_dyck_word(DyckWords(20).random_element())\n",
    "#pp.plot()"
   ]
  },
  {
   "cell_type": "markdown",
   "metadata": {},
   "source": [
    "We select the revelant widgets and adapter."
   ]
  },
  {
   "cell_type": "code",
   "execution_count": null,
   "metadata": {
    "slideshow": {
     "slide_type": "subslide"
    }
   },
   "outputs": [],
   "source": [
    "# Adapter\n",
    "from sage_widget_adapters.combinat.parallelogram_polyomino_grid_view_adapter import ParallelogramPolyominoGridViewAdapter\n",
    "\n",
    "# Cell widgets\n",
    "from sage_combinat_widgets.grid_view_widget import BlankButton, DisabledButtonCell, AddableButtonCell\n",
    "        \n",
    "# Size of the widgets\n",
    "from ipywidgets import Layout\n",
    "cell_layout = Layout(width='2em',height='2em', margin='0', padding='0')\n",
    "\n",
    "# Grid widget\n",
    "from sage_combinat_widgets.grid_view_widget import GridViewWidget\n",
    "\n",
    "# Actual widget instance\n",
    "w = GridViewWidget(pp, ParallelogramPolyominoGridViewAdapter(), \n",
    "                   cell_layout=cell_layout,\n",
    "                   cell_widget_classes=[DisabledButtonCell],\n",
    "                   addable_widget_class=AddableButtonCell,\n",
    "                   blank_widget_class=BlankButton\n",
    "                  )"
   ]
  },
  {
   "cell_type": "markdown",
   "metadata": {},
   "source": [
    "We can interact with the widget in order to increase its size on its corners.\n",
    "Here, we also print the `unicode` art of the polyomino and its corresponding Dyck word."
   ]
  },
  {
   "cell_type": "code",
   "execution_count": null,
   "metadata": {
    "slideshow": {
     "slide_type": "fragment"
    }
   },
   "outputs": [],
   "source": [
    "@interact\n",
    "def f(p = w):\n",
    "    return unicode_art(p, p.to_dyck_word())"
   ]
  },
  {
   "cell_type": "markdown",
   "metadata": {},
   "source": [
    "## Default adapter\n",
    "\n",
    "`GridViewEditor` can also recognize parallelogram polyomino and uses the appropriate class."
   ]
  },
  {
   "cell_type": "code",
   "execution_count": null,
   "metadata": {},
   "outputs": [],
   "source": [
    "GridViewWidget(pp, cell_layout=cell_layout,\n",
    "               cell_widget_classes=[DisabledButtonCell],\n",
    "               addable_widget_class=AddableButtonCell,\n",
    "               blank_widget_class=BlankButton\n",
    "              )"
   ]
  }
 ],
 "metadata": {
  "celltoolbar": "Aucun(e)",
  "kernelspec": {
   "display_name": "SageMath 8.9.rc0",
   "language": "sage",
   "name": "sagemath"
  },
  "language_info": {
   "codemirror_mode": {
    "name": "ipython",
    "version": 3
   },
   "file_extension": ".py",
   "mimetype": "text/x-python",
   "name": "python",
   "nbconvert_exporter": "python",
   "pygments_lexer": "ipython3",
   "version": "3.7.3"
  },
  "rise": {
   "auto_select": "code",
   "auto_select_fragment": true,
   "scroll": true
  }
 },
 "nbformat": 4,
 "nbformat_minor": 4
}
