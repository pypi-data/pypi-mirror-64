{
 "cells": [
  {
   "cell_type": "markdown",
   "metadata": {},
   "source": [
    "# Jeu de Taquin\n",
    "_following Florent Hivert's https://github.com/hivert/SageWidgetExper_"
   ]
  },
  {
   "cell_type": "code",
   "execution_count": null,
   "metadata": {},
   "outputs": [],
   "source": [
    "from jeudetaquin import JeuDeTaquin\n",
    "from sage_widget_adapters.combinat.skew_tableau_grid_view_adapter import SkewTableauGridViewAdapter\n",
    "class JeuDeTaquinGridViewAdapter(SkewTableauGridViewAdapter):\n",
    "    objclass = JeuDeTaquin\n",
    "    constructorname = 'JeuDeTaquin'\n",
    "    addablecelltype = bool\n",
    "    addablecellzero = False\n",
    "\n",
    "    # Convert widget value to Sage cell value\n",
    "    def display_to_cell(self, display_value, display_type):\n",
    "        if type(display_value) == bool: # Case of a hole\n",
    "            return display_value\n",
    "        return super(JeuDeTaquinGridViewAdapter, self).display_to_cell(display_value, display_type)\n",
    "\n",
    "    # Compute clickable cells coordinates\n",
    "    @staticmethod\n",
    "    def addable_cells(obj):\n",
    "        if obj._hole:\n",
    "            return [obj._hole] # Return the hole\n",
    "        return obj.inner_shape().corners() # Return all potential holes\n",
    "    \n",
    "    # What happens when you click\n",
    "    @classmethod\n",
    "    def add_cell(cls, obj, pos, val, dirty={}):\n",
    "        # Create a hole if there isn't\n",
    "        if not obj.has_hole():\n",
    "            obj.create_hole(pos)\n",
    "        # Slide\n",
    "        obj.slide()\n",
    "        return obj\n",
    "\n",
    "    # Compute widget cells\n",
    "    @staticmethod\n",
    "    def compute_cells(obj):\n",
    "        cells = SkewTableauGridViewAdapter.compute_cells(obj)\n",
    "        if obj._hole:\n",
    "            cells[obj._hole] = False\n",
    "        if obj._new_st:\n",
    "            for i in range(len(obj._new_st)):\n",
    "                for j in range(len(obj._new_st[i])):\n",
    "                    if obj._new_st[i][j] > 0:\n",
    "                        cells[(i,j)] = obj._new_st[i][j]\n",
    "                    elif (i,j) in cells:\n",
    "                        del(cells[(i,j)])\n",
    "        return cells\n",
    "\n",
    "#t = SkewTableau([[None,2,3],[None,4],[5]])\n",
    "t = SkewTableau([[None,None,None,4,4,5,6,7],[None,2,4,6,7,7,7],[None,4,5,8,8,9],[None,6,7,10],[None,8,8,11],[None],[4]])\n",
    "jdt = JeuDeTaquin(t)\n",
    "A = JeuDeTaquinGridViewAdapter()"
   ]
  },
  {
   "cell_type": "code",
   "execution_count": null,
   "metadata": {},
   "outputs": [],
   "source": [
    "from sage_combinat_widgets.grid_view_widget import DisabledTextCell, AddableButtonCell, GridViewWidget\n",
    "from ipywidgets import Layout\n",
    "hole_layout = Layout(width='3em',height='2em', margin='0', padding='20px')\n",
    "\n",
    "# Class for clickable cells\n",
    "class JDTHoleWidget(AddableButtonCell):\n",
    "    def __init__(self, position, layout=None, **kws):\n",
    "        super(JDTHoleWidget, self).__init__(position, layout, **kws)\n",
    "        self.description = ''\n",
    "        self.tooltip = 'Click here to play!'\n",
    "        self.add_class('hole')\n",
    "\n",
    "# JeuDeTaquin as a widget\n",
    "w = GridViewWidget(jdt, A, display_convention='fr', cell_widget_classes=[DisabledTextCell], addable_widget_class=JDTHoleWidget)"
   ]
  },
  {
   "cell_type": "code",
   "execution_count": null,
   "metadata": {},
   "outputs": [],
   "source": [
    "%%html\n",
    "<style>.hole {background-color: turquoise ; margin:1px !important}</style>"
   ]
  },
  {
   "cell_type": "code",
   "execution_count": null,
   "metadata": {},
   "outputs": [],
   "source": [
    "# The player sees the initial jeu de taquin, with an clickable button for each possible hole.\n",
    "w"
   ]
  },
  {
   "cell_type": "code",
   "execution_count": null,
   "metadata": {},
   "outputs": [],
   "source": [
    "w.addable_cells()"
   ]
  },
  {
   "cell_type": "code",
   "execution_count": null,
   "metadata": {},
   "outputs": [],
   "source": [
    "w.value._hole"
   ]
  }
 ],
 "metadata": {
  "kernelspec": {
   "display_name": "SageMath 8.9.rc0",
   "language": "sage",
   "name": "sagemath"
  },
  "language_info": {
   "codemirror_mode": {
    "name": "ipython",
    "version": 3
   },
   "file_extension": ".py",
   "mimetype": "text/x-python",
   "name": "python",
   "nbconvert_exporter": "python",
   "pygments_lexer": "ipython3",
   "version": "3.7.3"
  }
 },
 "nbformat": 4,
 "nbformat_minor": 4
}
