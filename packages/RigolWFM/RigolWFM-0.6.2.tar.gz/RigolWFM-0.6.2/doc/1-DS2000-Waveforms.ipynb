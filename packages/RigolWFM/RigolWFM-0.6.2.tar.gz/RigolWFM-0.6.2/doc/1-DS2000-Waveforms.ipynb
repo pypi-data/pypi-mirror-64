{
 "cells": [
  {
   "cell_type": "markdown",
   "metadata": {},
   "source": [
    "# Parsing DS2000 Rigol Waveforms\n",
    "\n",
    "**Scott Prahl**\n",
    "\n",
    "**March 2020**"
   ]
  },
  {
   "cell_type": "code",
   "execution_count": 1,
   "metadata": {
    "scrolled": true
   },
   "outputs": [],
   "source": [
    "import sys\n",
    "import numpy as np\n",
    "import matplotlib.pyplot as plt\n",
    "\n",
    "try:\n",
    "    import RigolWFM.wfm as rigol\n",
    "\n",
    "except:\n",
    "    print(\"***** You need to install the module to read Rigol files first *****\")\n",
    "    print(\"***** Execute the following line in a new cell, then retry     *****\")\n",
    "    print()\n",
    "    print(\"!{sys.executable} -m pip install RigolWFM\")\n",
    "    \n",
    "repo = \"https://github.com/scottprahl/RigolWFM/raw/master/wfm/\"\n"
   ]
  },
  {
   "cell_type": "markdown",
   "metadata": {},
   "source": [
    "## Introduction\n",
    "\n",
    "This notebook demonstrates extracting signals from `.wfm` files created by Rigol DS2000 oscilloscopes.  It also validates that the process works by comparing with `.csv` and screenshots.\n",
    "\n",
    "The list of Rigol scopes that should produce the same file format are:"
   ]
  },
  {
   "cell_type": "code",
   "execution_count": 2,
   "metadata": {},
   "outputs": [
    {
     "name": "stdout",
     "output_type": "stream",
     "text": [
      "['2', '2000', 'DS2000', 'DS2102A', 'MSO2102A', 'MSO2102A-S', 'DS2202A', 'MSO2202A', 'MSO2202A-S', 'DS2302A', 'MSO2302A', 'MSO2302A-S']\n"
     ]
    }
   ],
   "source": [
    "print(rigol.DS2000_scopes)"
   ]
  },
  {
   "cell_type": "markdown",
   "metadata": {},
   "source": [
    "## DS2000-A\n",
    "\n",
    "### Look at a screen shot\n",
    "\n",
    "Start with a `.wfm` file from a Rigol DS2000 scope.  It should look something like this\n",
    "\n",
    "<img src=\"https://github.com/scottprahl/RigolWFM/raw/master/wfm/DS2000-A.png\" width=\"40%\">\n",
    "\n",
    "### Look at the data in the `.csv` file\n",
    "\n",
    "First let's look at plot of the data from the corresponding `.csv` file. "
   ]
  },
  {
   "cell_type": "code",
   "execution_count": 3,
   "metadata": {},
   "outputs": [
    {
     "data": {
      "image/png": "[encoded data removed]",
      "text/plain": [
       "<Figure size 432x288 with 2 Axes>"
      ]
     },
     "metadata": {
      "needs_background": "light"
     },
     "output_type": "display_data"
    }
   ],
   "source": [
    "filename = \"DS2000-A.csv\"\n",
    "\n",
    "csv_data = np.genfromtxt(repo+filename, delimiter=',', skip_header=2).T\n",
    "\n",
    "plt.subplot(211)\n",
    "plt.plot(csv_data[0]*1e6,csv_data[1], color='green')\n",
    "plt.title(filename + \" (CH1 Top, CH2 Bottom)\")\n",
    "plt.ylabel(\"Volts (V)\")\n",
    "plt.ylim(-10,10)\n",
    "plt.grid(True)\n",
    "plt.xticks([])\n",
    "\n",
    "plt.subplot(212)\n",
    "plt.plot(csv_data[0]*1e6,csv_data[2], color='red')\n",
    "plt.xlabel(\"Time (µs)\")\n",
    "plt.ylabel(\"Volts (V)\")\n",
    "plt.grid(True)\n",
    "plt.ylim(-4,4)\n",
    "\n",
    "plt.show()"
   ]
  },
  {
   "cell_type": "markdown",
   "metadata": {},
   "source": [
    "### Now for the `.wfm` data\n",
    "\n",
    "First a textual description."
   ]
  },
  {
   "cell_type": "code",
   "execution_count": 4,
   "metadata": {
    "scrolled": false
   },
   "outputs": [
    {
     "name": "stdout",
     "output_type": "stream",
     "text": [
      "downloading 'https://github.com/scottprahl/RigolWFM/raw/master/wfm/DS2000-A.wfm?raw=true'\n",
      "    General:\n",
      "        File Model   = wfm2000\n",
      "        User Model   = 2000\n",
      "        Parser Model = wfm2000\n",
      "        Firmware     = 00.03.00.01.03\n",
      "        Filename     = DS2000-A.wfm\n",
      "        Channels     = [1, 2]\n",
      "\n",
      "     Channel 1:\n",
      "         Coupling =       DC\n",
      "            Scale =     5.00  V/div\n",
      "           Offset =     0.00  V\n",
      "            Probe =      10X\n",
      "         Inverted =    False\n",
      "\n",
      "        Time Base =   50.000 µs/div\n",
      "           Offset = -199.200 µs\n",
      "            Delta =    1.000 ns/point\n",
      "           Points =   700000\n",
      "\n",
      "         Count    = [        1,        2,        3  ...    699999,   700000]\n",
      "           Raw    = [      128,      127,      129  ...       128,      128]\n",
      "           Times  = [-549.200 µs,-549.199 µs,-549.198 µs  ... 150.799 µs,150.800 µs]\n",
      "           Volts  = [200.00 mV,  0.00  V,400.00 mV  ... 200.00 mV,200.00 mV]\n",
      "\n",
      "     Channel 2:\n",
      "         Coupling =       DC\n",
      "            Scale =     2.00  V/div\n",
      "           Offset =    -6.00  V\n",
      "            Probe =      10X\n",
      "         Inverted =    False\n",
      "\n",
      "        Time Base =   50.000 µs/div\n",
      "           Offset = -199.200 µs\n",
      "            Delta =    1.000 ns/point\n",
      "           Points =   700000\n",
      "\n",
      "         Count    = [        1,        2,        3  ...    699999,   700000]\n",
      "           Raw    = [       53,       52,       53  ...        52,       53]\n",
      "           Times  = [-549.200 µs,-549.199 µs,-549.198 µs  ... 150.799 µs,150.800 µs]\n",
      "           Volts  = [ 80.00 mV,476.84 nV, 80.00 mV  ... 476.84 nV, 80.00 mV]\n",
      "\n",
      "\n"
     ]
    }
   ],
   "source": [
    "# raw=true is needed because this is a binary file\n",
    "wfm_url = repo + \"DS2000-A.wfm\" + \"?raw=true\"  \n",
    "w = rigol.Wfm.from_url(wfm_url, '2000')\n",
    "\n",
    "description = w.describe()\n",
    "print(description)"
   ]
  },
  {
   "cell_type": "code",
   "execution_count": 5,
   "metadata": {},
   "outputs": [
    {
     "data": {
      "image/png": "[encoded data removed]",
      "text/plain": [
       "<Figure size 432x288 with 2 Axes>"
      ]
     },
     "metadata": {
      "needs_background": "light"
     },
     "output_type": "display_data"
    }
   ],
   "source": [
    "ch = w.channels[0]\n",
    "plt.subplot(211)\n",
    "plt.plot(ch.times*1e6, ch.volts, color='green')\n",
    "plt.title(filename + \" (CH1 Top, CH2 Bottom)\")\n",
    "plt.ylabel(\"Volts (V)\")\n",
    "plt.ylim(-10,10)\n",
    "plt.grid(True)\n",
    "plt.xticks([])\n",
    "\n",
    "ch = w.channels[1]\n",
    "plt.subplot(212)\n",
    "plt.plot(ch.times*1e6, ch.volts, color='red')\n",
    "plt.xlabel(\"Time (µs)\")\n",
    "plt.ylabel(\"Volts (V)\")\n",
    "plt.ylim(-4,4)\n",
    "plt.grid(True)\n",
    "\n",
    "plt.show()"
   ]
  },
  {
   "cell_type": "markdown",
   "metadata": {},
   "source": [
    "## DS2000-B\n",
    "\n",
    "<img src=\"https://github.com/scottprahl/RigolWFM/raw/master/wfm/DS2000-B.png\" width=\"40%\">\n",
    "\n",
    "\n",
    "### First the `.csv` data\n",
    "\n",
    "Let's look at what the accompanying `.csv` data looks like.\n"
   ]
  },
  {
   "cell_type": "code",
   "execution_count": 6,
   "metadata": {},
   "outputs": [
    {
     "data": {
      "image/png": "[encoded data removed]",
      "text/plain": [
       "<Figure size 432x288 with 2 Axes>"
      ]
     },
     "metadata": {
      "needs_background": "light"
     },
     "output_type": "display_data"
    }
   ],
   "source": [
    "filename = \"DS2000-B.csv\"\n",
    "\n",
    "csv_data = np.genfromtxt(repo+filename, delimiter=',', skip_header=2).T\n",
    "\n",
    "plt.subplot(211)\n",
    "plt.plot(csv_data[0]*1e6,csv_data[1], color='green')\n",
    "plt.title(filename + \" (CH1 Top, CH2 Bottom)\")\n",
    "plt.ylabel(\"Volts (V)\")\n",
    "plt.ylim(-10,10)\n",
    "plt.grid(True)\n",
    "plt.xticks([])\n",
    "\n",
    "plt.subplot(212)\n",
    "plt.plot(csv_data[0]*1e6,csv_data[2], color='red')\n",
    "plt.xlabel(\"Time (µs)\")\n",
    "plt.ylabel(\"Volts (V)\")\n",
    "plt.grid(True)\n",
    "plt.ylim(-2,2)\n",
    "\n",
    "plt.show()"
   ]
  },
  {
   "cell_type": "markdown",
   "metadata": {},
   "source": [
    "### Now for the `wfm` data\n",
    "\n",
    "First let's have look at the description of the internal file structure. We see that only channel 1 has been enabled."
   ]
  },
  {
   "cell_type": "code",
   "execution_count": 7,
   "metadata": {
    "scrolled": false
   },
   "outputs": [
    {
     "name": "stdout",
     "output_type": "stream",
     "text": [
      "downloading 'https://github.com/scottprahl/RigolWFM/raw/master/wfm/DS2000-B.wfm?raw=true'\n",
      "    General:\n",
      "        File Model   = wfm2000\n",
      "        User Model   = DS2000\n",
      "        Parser Model = wfm2000\n",
      "        Firmware     = 00.03.00.01.03\n",
      "        Filename     = DS2000-B.wfm\n",
      "        Channels     = [1, 2]\n",
      "\n",
      "     Channel 1:\n",
      "         Coupling =       DC\n",
      "            Scale =     5.00  V/div\n",
      "           Offset =    -5.00  V\n",
      "            Probe =      10X\n",
      "         Inverted =    False\n",
      "\n",
      "        Time Base =   50.000 µs/div\n",
      "           Offset = -199.200 µs\n",
      "            Delta =    1.000 ns/point\n",
      "           Points =   700000\n",
      "\n",
      "         Count    = [        1,        2,        3  ...    699999,   700000]\n",
      "           Raw    = [      103,      102,      103  ...       103,      103]\n",
      "           Times  = [-549.200 µs,-549.199 µs,-549.198 µs  ... 150.799 µs,150.800 µs]\n",
      "           Volts  = [200.00 mV,  0.00  V,200.00 mV  ... 200.00 mV,200.00 mV]\n",
      "\n",
      "     Channel 2:\n",
      "         Coupling =       DC\n",
      "            Scale =     1.00  V/div\n",
      "           Offset =    -3.00  V\n",
      "            Probe =      10X\n",
      "         Inverted =    False\n",
      "\n",
      "        Time Base =   50.000 µs/div\n",
      "           Offset = -199.200 µs\n",
      "            Delta =    1.000 ns/point\n",
      "           Points =   700000\n",
      "\n",
      "         Count    = [        1,        2,        3  ...    699999,   700000]\n",
      "           Raw    = [       71,       72,       71  ...        71,       72]\n",
      "           Times  = [-549.200 µs,-549.199 µs,-549.198 µs  ... 150.799 µs,150.800 µs]\n",
      "           Volts  = [760.00 mV,800.00 mV,760.00 mV  ... 760.00 mV,800.00 mV]\n",
      "\n",
      "\n"
     ]
    }
   ],
   "source": [
    "# raw=true is needed because this is a binary file\n",
    "wfm_url = repo + \"DS2000-B.wfm\" + \"?raw=true\"  \n",
    "\n",
    "w = rigol.Wfm.from_url(wfm_url, 'DS2000')\n",
    "description = w.describe()\n",
    "print(description)"
   ]
  },
  {
   "cell_type": "code",
   "execution_count": 8,
   "metadata": {},
   "outputs": [
    {
     "data": {
      "image/png": "[encoded data removed]",
      "text/plain": [
       "<Figure size 432x288 with 2 Axes>"
      ]
     },
     "metadata": {
      "needs_background": "light"
     },
     "output_type": "display_data"
    }
   ],
   "source": [
    "ch = w.channels[0]\n",
    "plt.subplot(211)\n",
    "plt.plot(ch.times*1e6, ch.volts, color='green')\n",
    "plt.title(filename + \" (CH1 Top, CH2 Bottom)\")\n",
    "plt.ylabel(\"Volts (V)\")\n",
    "plt.ylim(-10,10)\n",
    "plt.grid(True)\n",
    "plt.xticks([])\n",
    "\n",
    "ch = w.channels[1]\n",
    "plt.subplot(212)\n",
    "plt.plot(ch.times*1e6, ch.volts, color='red')\n",
    "plt.xlabel(\"Time (µs)\")\n",
    "plt.ylabel(\"Volts (V)\")\n",
    "plt.ylim(-2,2)\n",
    "plt.grid(True)\n",
    "\n",
    "plt.show()"
   ]
  },
  {
   "cell_type": "code",
   "execution_count": null,
   "metadata": {},
   "outputs": [],
   "source": []
  }
 ],
 "metadata": {
  "kernel_info": {
   "name": "python3"
  },
  "kernelspec": {
   "display_name": "Python 3",
   "language": "python",
   "name": "python3"
  },
  "language_info": {
   "codemirror_mode": {
    "name": "ipython",
    "version": 3
   },
   "file_extension": ".py",
   "mimetype": "text/x-python",
   "name": "python",
   "nbconvert_exporter": "python",
   "pygments_lexer": "ipython3",
   "version": "3.7.5"
  },
  "nteract": {
   "version": "0.15.0"
  }
 },
 "nbformat": 4,
 "nbformat_minor": 4
}
