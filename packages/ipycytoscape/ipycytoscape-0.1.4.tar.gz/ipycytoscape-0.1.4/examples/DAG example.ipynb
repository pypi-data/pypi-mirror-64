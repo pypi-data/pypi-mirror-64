{
 "cells": [
  {
   "cell_type": "code",
   "execution_count": null,
   "metadata": {},
   "outputs": [],
   "source": [
    "import ipycytoscape\n",
    "import networkx as nx"
   ]
  },
  {
   "cell_type": "code",
   "execution_count": null,
   "metadata": {},
   "outputs": [],
   "source": [
    "cytoscapeobj = ipycytoscape.CytoscapeWidget(elements={\n",
    "            'nodes': [\n",
    "              { 'data': { 'id': 'n0' } },\n",
    "              { 'data': { 'id': 'n1' } },\n",
    "              { 'data': { 'id': 'n2' } },\n",
    "              { 'data': { 'id': 'n3' } },\n",
    "              { 'data': { 'id': 'n4' } },\n",
    "              { 'data': { 'id': 'n5' } },\n",
    "              { 'data': { 'id': 'n6' } },\n",
    "              { 'data': { 'id': 'n7' } },\n",
    "              { 'data': { 'id': 'n8' } },\n",
    "              { 'data': { 'id': 'n9' } },\n",
    "              { 'data': { 'id': 'n10' } },\n",
    "              { 'data': { 'id': 'n11' } },\n",
    "              { 'data': { 'id': 'n12' } },\n",
    "              { 'data': { 'id': 'n13' } },\n",
    "              { 'data': { 'id': 'n14' } },\n",
    "              { 'data': { 'id': 'n15' } },\n",
    "              { 'data': { 'id': 'n16' } }\n",
    "            ],\n",
    "            'edges': [\n",
    "              { 'data': { 'source': 'n0', 'target': 'n1' } },\n",
    "              { 'data': { 'source': 'n1', 'target': 'n2' } },\n",
    "              { 'data': { 'source': 'n1', 'target': 'n3' } },\n",
    "              { 'data': { 'source': 'n4', 'target': 'n5' } },\n",
    "              { 'data': { 'source': 'n4', 'target': 'n6' } },\n",
    "              { 'data': { 'source': 'n6', 'target': 'n7' } },\n",
    "              { 'data': { 'source': 'n6', 'target': 'n8' } },\n",
    "              { 'data': { 'source': 'n8', 'target': 'n9' } },\n",
    "              { 'data': { 'source': 'n8', 'target': 'n10' } },\n",
    "              { 'data': { 'source': 'n11', 'target': 'n12' } },\n",
    "              { 'data': { 'source': 'n12', 'target': 'n13' } },\n",
    "              { 'data': { 'source': 'n13', 'target': 'n14' } },\n",
    "              { 'data': { 'source': 'n13', 'target': 'n15' } },\n",
    "            ]\n",
    "          })"
   ]
  },
  {
   "cell_type": "code",
   "execution_count": null,
   "metadata": {},
   "outputs": [],
   "source": [
    "cytoscapeobj.set_layout(name='dagre', nodeSpacing=10, edgeLengthVal=10)"
   ]
  },
  {
   "cell_type": "code",
   "execution_count": null,
   "metadata": {},
   "outputs": [],
   "source": [
    "cytoscapeobj"
   ]
  },
  {
   "cell_type": "code",
   "execution_count": null,
   "metadata": {},
   "outputs": [],
   "source": []
  }
 ],
 "metadata": {
  "kernelspec": {
   "display_name": "Python 3",
   "language": "python",
   "name": "python3"
  },
  "language_info": {
   "codemirror_mode": {
    "name": "ipython",
    "version": 3
   },
   "file_extension": ".py",
   "mimetype": "text/x-python",
   "name": "python",
   "nbconvert_exporter": "python",
   "pygments_lexer": "ipython3",
   "version": "3.8.1"
  }
 },
 "nbformat": 4,
 "nbformat_minor": 4
}
